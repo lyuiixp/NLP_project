{
  "nbformat": 4,
  "nbformat_minor": 0,
  "metadata": {
    "language_info": {
      "name": "python"
    },
    "orig_nbformat": 4,
    "colab": {
      "name": "STS.ipynb",
      "provenance": [],
      "toc_visible": true,
      "include_colab_link": true
    },
    "kernelspec": {
      "name": "python3",
      "display_name": "Python 3"
    },
    "accelerator": "GPU"
  },
  "cells": [
    {
      "cell_type": "markdown",
      "metadata": {
        "id": "view-in-github",
        "colab_type": "text"
      },
      "source": [
        "<a href=\"https://colab.research.google.com/github/snaiws/NLP_project/blob/hyperparametertuner/STS.ipynb\" target=\"_parent\"><img src=\"https://colab.research.google.com/assets/colab-badge.svg\" alt=\"Open In Colab\"/></a>"
      ]
    },
    {
      "cell_type": "markdown",
      "source": [
        "# Semantic Textual Similarity for Korean\n",
        "\n"
      ],
      "metadata": {
        "id": "3qfGz4Pa-Whu"
      }
    },
    {
      "cell_type": "markdown",
      "source": [
        "## Import"
      ],
      "metadata": {
        "id": "6R8hyvUu-1sK"
      }
    },
    {
      "cell_type": "code",
      "execution_count": 84,
      "metadata": {
        "colab": {
          "base_uri": "https://localhost:8080/"
        },
        "id": "6Sw7ilyV-KU8",
        "outputId": "36607be4-23d6-4299-a740-b392a26e14d0"
      },
      "outputs": [
        {
          "output_type": "stream",
          "name": "stdout",
          "text": [
            "Looking in indexes: https://pypi.org/simple, https://us-python.pkg.dev/colab-wheels/public/simple/\n",
            "Requirement already satisfied: transformers in /usr/local/lib/python3.7/dist-packages (4.19.2)\n",
            "Requirement already satisfied: regex!=2019.12.17 in /usr/local/lib/python3.7/dist-packages (from transformers) (2019.12.20)\n",
            "Requirement already satisfied: numpy>=1.17 in /usr/local/lib/python3.7/dist-packages (from transformers) (1.21.6)\n",
            "Requirement already satisfied: filelock in /usr/local/lib/python3.7/dist-packages (from transformers) (3.7.0)\n",
            "Requirement already satisfied: tqdm>=4.27 in /usr/local/lib/python3.7/dist-packages (from transformers) (4.64.0)\n",
            "Requirement already satisfied: huggingface-hub<1.0,>=0.1.0 in /usr/local/lib/python3.7/dist-packages (from transformers) (0.7.0)\n",
            "Requirement already satisfied: pyyaml>=5.1 in /usr/local/lib/python3.7/dist-packages (from transformers) (6.0)\n",
            "Requirement already satisfied: importlib-metadata in /usr/local/lib/python3.7/dist-packages (from transformers) (4.11.3)\n",
            "Requirement already satisfied: packaging>=20.0 in /usr/local/lib/python3.7/dist-packages (from transformers) (21.3)\n",
            "Requirement already satisfied: requests in /usr/local/lib/python3.7/dist-packages (from transformers) (2.23.0)\n",
            "Requirement already satisfied: tokenizers!=0.11.3,<0.13,>=0.11.1 in /usr/local/lib/python3.7/dist-packages (from transformers) (0.12.1)\n",
            "Requirement already satisfied: typing-extensions>=3.7.4.3 in /usr/local/lib/python3.7/dist-packages (from huggingface-hub<1.0,>=0.1.0->transformers) (4.2.0)\n",
            "Requirement already satisfied: pyparsing!=3.0.5,>=2.0.2 in /usr/local/lib/python3.7/dist-packages (from packaging>=20.0->transformers) (3.0.9)\n",
            "Requirement already satisfied: zipp>=0.5 in /usr/local/lib/python3.7/dist-packages (from importlib-metadata->transformers) (3.8.0)\n",
            "Requirement already satisfied: urllib3!=1.25.0,!=1.25.1,<1.26,>=1.21.1 in /usr/local/lib/python3.7/dist-packages (from requests->transformers) (1.24.3)\n",
            "Requirement already satisfied: idna<3,>=2.5 in /usr/local/lib/python3.7/dist-packages (from requests->transformers) (2.10)\n",
            "Requirement already satisfied: chardet<4,>=3.0.2 in /usr/local/lib/python3.7/dist-packages (from requests->transformers) (3.0.4)\n",
            "Requirement already satisfied: certifi>=2017.4.17 in /usr/local/lib/python3.7/dist-packages (from requests->transformers) (2022.5.18.1)\n"
          ]
        }
      ],
      "source": [
        "!pip install transformers"
      ]
    },
    {
      "cell_type": "code",
      "source": [
        "import os\n",
        "import sys\n",
        "import re\n",
        "import pandas as pd\n",
        "import numpy as np \n",
        "import copy\n",
        "import torch\n",
        "import torch.nn as nn\n",
        "import torch.nn.functional as F\n",
        "from torch.utils.data import Dataset, DataLoader,  RandomSampler, SequentialSampler, random_split\n",
        "from torch.nn.utils import clip_grad_norm_\n",
        "\n",
        "from transformers import RobertaTokenizer, RobertaModel\n",
        "from transformers import AutoModelForSequenceClassification, TrainingArguments, Trainer, pipeline\n",
        "import transformers\n",
        "from transformers import AdamW, get_linear_schedule_with_warmup\n"
      ],
      "metadata": {
        "id": "kpKhz3Xi_A2j"
      },
      "execution_count": 85,
      "outputs": []
    },
    {
      "cell_type": "code",
      "source": [
        "#reset gpu cache\n",
        "import gc\n",
        "gc.collect()\n",
        "torch.cuda.empty_cache()"
      ],
      "metadata": {
        "id": "ZepTYxNV_QPi"
      },
      "execution_count": 86,
      "outputs": []
    },
    {
      "cell_type": "code",
      "source": [
        "# seed\n",
        "seed = 42\n",
        "torch.manual_seed(seed)\n",
        "torch.cuda.manual_seed_all(seed)\n",
        "\n",
        "# device type\n",
        "if torch.cuda.is_available():\n",
        "    device = torch.device(\"cuda\")\n",
        "    print(f\"# available GPUs : {torch.cuda.device_count()}\")\n",
        "    print(f\"GPU name : {torch.cuda.get_device_name()}\")\n",
        "else:\n",
        "    device = torch.device(\"cpu\")\n",
        "print(device)"
      ],
      "metadata": {
        "colab": {
          "base_uri": "https://localhost:8080/"
        },
        "id": "UJA6wul9_SI3",
        "outputId": "c050a3bb-7a18-4163-c83e-05e64f620ea2"
      },
      "execution_count": 87,
      "outputs": [
        {
          "output_type": "stream",
          "name": "stdout",
          "text": [
            "# available GPUs : 1\n",
            "GPU name : Tesla P100-PCIE-16GB\n",
            "cuda\n"
          ]
        }
      ]
    },
    {
      "cell_type": "markdown",
      "source": [
        "### Given data"
      ],
      "metadata": {
        "id": "yKpuYKgO_iBh"
      }
    },
    {
      "cell_type": "code",
      "source": [
        "from google.colab import drive\n",
        "drive.mount(\"/content/drive\")"
      ],
      "metadata": {
        "colab": {
          "base_uri": "https://localhost:8080/"
        },
        "id": "VmKwlaCj_o-U",
        "outputId": "9095dbfc-0021-4330-af25-8adeba8ddee8"
      },
      "execution_count": 88,
      "outputs": [
        {
          "output_type": "stream",
          "name": "stdout",
          "text": [
            "Drive already mounted at /content/drive; to attempt to forcibly remount, call drive.mount(\"/content/drive\", force_remount=True).\n"
          ]
        }
      ]
    },
    {
      "cell_type": "code",
      "source": [
        "cd /content/drive/MyDrive/NLP_project"
      ],
      "metadata": {
        "colab": {
          "base_uri": "https://localhost:8080/"
        },
        "id": "KUVn2-x__z2z",
        "outputId": "35993ec6-1367-4897-db35-84252f0b6340"
      },
      "execution_count": 89,
      "outputs": [
        {
          "output_type": "stream",
          "name": "stdout",
          "text": [
            "/content/drive/MyDrive/NLP_project\n"
          ]
        }
      ]
    },
    {
      "cell_type": "code",
      "source": [
        "_CUR_DIR = os.path.abspath(os.curdir)\n",
        "print(f\"My current directory : {_CUR_DIR}\")\n",
        "_DATA_DIR = os.path.join(_CUR_DIR, \"data/klue-sts-v1.1\")\n",
        "print(f\"My data directory : {_DATA_DIR}\")"
      ],
      "metadata": {
        "colab": {
          "base_uri": "https://localhost:8080/"
        },
        "id": "5otTsnqV_6DY",
        "outputId": "a00d7a6c-2859-4f78-f44e-8d950329faf4"
      },
      "execution_count": 90,
      "outputs": [
        {
          "output_type": "stream",
          "name": "stdout",
          "text": [
            "My current directory : /content/drive/MyDrive/NLP_project\n",
            "My data directory : /content/drive/MyDrive/NLP_project/data/klue-sts-v1.1\n"
          ]
        }
      ]
    },
    {
      "cell_type": "code",
      "source": [
        "# 파일 내 json 불러오기\n",
        "df_train0 = pd.read_json('./klue-sts-v1.1/klue-sts-v1.1_train.json')\n",
        "df_test0 = pd.read_json('./klue-sts-v1.1/klue-sts-v1.1_dev.json')"
      ],
      "metadata": {
        "id": "XEnQbro_AFC3"
      },
      "execution_count": 91,
      "outputs": []
    },
    {
      "cell_type": "code",
      "source": [
        "# shape\n",
        "df_train0.shape, df_test0.shape"
      ],
      "metadata": {
        "colab": {
          "base_uri": "https://localhost:8080/"
        },
        "id": "l4t-v3-EAdKr",
        "outputId": "4cafe0c6-c469-4604-f0f5-3ca699656604"
      },
      "execution_count": 92,
      "outputs": [
        {
          "output_type": "execute_result",
          "data": {
            "text/plain": [
              "((11668, 6), (519, 6))"
            ]
          },
          "metadata": {},
          "execution_count": 92
        }
      ]
    },
    {
      "cell_type": "markdown",
      "source": [
        "### Collected data"
      ],
      "metadata": {
        "id": "OkjYey9KAmwx"
      }
    },
    {
      "cell_type": "code",
      "source": [
        ""
      ],
      "metadata": {
        "id": "bhuXo-IiMf1E"
      },
      "execution_count": 92,
      "outputs": []
    },
    {
      "cell_type": "markdown",
      "source": [
        "### Analysis"
      ],
      "metadata": {
        "id": "mcNuklZsRJ3i"
      }
    },
    {
      "cell_type": "code",
      "source": [
        "df_train0['labels'].map(lambda x: x['real-label']).hist(bins=50)"
      ],
      "metadata": {
        "colab": {
          "base_uri": "https://localhost:8080/",
          "height": 283
        },
        "id": "_oZuc4_sDF5B",
        "outputId": "ff7808f6-7f22-4b02-fe9b-672df818850c"
      },
      "execution_count": 93,
      "outputs": [
        {
          "output_type": "execute_result",
          "data": {
            "text/plain": [
              "<matplotlib.axes._subplots.AxesSubplot at 0x7fe637b08e90>"
            ]
          },
          "metadata": {},
          "execution_count": 93
        },
        {
          "output_type": "display_data",
          "data": {
            "text/plain": [
              "<Figure size 432x288 with 1 Axes>"
            ],
            "image/png": "[encoded data removed]"
          },
          "metadata": {
            "needs_background": "light"
          }
        }
      ]
    },
    {
      "cell_type": "code",
      "source": [
        "df_train0['sentence1'].map(lambda x: len(x)).hist()"
      ],
      "metadata": {
        "id": "mZHw4B4Ls3et",
        "outputId": "1b96a4a9-6c4d-4137-b639-fc4ce205dc30",
        "colab": {
          "base_uri": "https://localhost:8080/",
          "height": 283
        }
      },
      "execution_count": 94,
      "outputs": [
        {
          "output_type": "execute_result",
          "data": {
            "text/plain": [
              "<matplotlib.axes._subplots.AxesSubplot at 0x7fe6372df310>"
            ]
          },
          "metadata": {},
          "execution_count": 94
        },
        {
          "output_type": "display_data",
          "data": {
            "text/plain": [
              "<Figure size 432x288 with 1 Axes>"
            ],
            "image/png": "[encoded data removed]"
          },
          "metadata": {
            "needs_background": "light"
          }
        }
      ]
    },
    {
      "cell_type": "code",
      "source": [
        "df_train0['sentence2'].map(lambda x: len(x)).hist()"
      ],
      "metadata": {
        "colab": {
          "base_uri": "https://localhost:8080/",
          "height": 283
        },
        "id": "qVQ_9azlPoBy",
        "outputId": "4ea6f08c-2db5-4166-f6c2-48ddaf6a9bbf"
      },
      "execution_count": 95,
      "outputs": [
        {
          "output_type": "execute_result",
          "data": {
            "text/plain": [
              "<matplotlib.axes._subplots.AxesSubplot at 0x7fe63878bcd0>"
            ]
          },
          "metadata": {},
          "execution_count": 95
        },
        {
          "output_type": "display_data",
          "data": {
            "text/plain": [
              "<Figure size 432x288 with 1 Axes>"
            ],
            "image/png": "[encoded data removed]"
          },
          "metadata": {
            "needs_background": "light"
          }
        }
      ]
    },
    {
      "cell_type": "code",
      "source": [
        "df_train0[df_train0.duplicated(['sentence1','sentence2'],keep=False)==True]"
      ],
      "metadata": {
        "colab": {
          "base_uri": "https://localhost:8080/",
          "height": 580
        },
        "id": "v7AhrCRiAi9b",
        "outputId": "44db6645-ca0d-420b-9fa3-225fd6d1bda3"
      },
      "execution_count": 96,
      "outputs": [
        {
          "output_type": "execute_result",
          "data": {
            "text/plain": [
              "                          guid      source  \\\n",
              "1514   klue-sts-v1_train_01514  policy-rtt   \n",
              "1661   klue-sts-v1_train_01661  airbnb-rtt   \n",
              "1715   klue-sts-v1_train_01715  airbnb-rtt   \n",
              "3872   klue-sts-v1_train_03872  policy-rtt   \n",
              "5139   klue-sts-v1_train_05139  policy-rtt   \n",
              "5292   klue-sts-v1_train_05292  policy-rtt   \n",
              "7045   klue-sts-v1_train_07045  policy-rtt   \n",
              "10908  klue-sts-v1_train_10908  policy-rtt   \n",
              "10939  klue-sts-v1_train_10939  policy-rtt   \n",
              "11112  klue-sts-v1_train_11112  policy-rtt   \n",
              "\n",
              "                                               sentence1  \\\n",
              "1514   제2차 전략회의에서 대전, 경기, 강원, 전남, 제주, 경남 등 6개 시·도지사는 ...   \n",
              "1661                     택시타고 공항갔을 때 20유로로 15분내에 도착했었어요.   \n",
              "1715                     택시타고 공항갔을 때 20유로로 15분내에 도착했었어요.   \n",
              "3872   제2차 전략회의에서 대전, 경기, 강원, 전남, 제주, 경남 등 6개 시·도지사는 ...   \n",
              "5139   지난달 하루 평균 수출액이 전년대비 5.6% 증가한 가운데 자동차는 2017년 11...   \n",
              "5292   제2차 전략회의에서 대전, 경기, 강원, 전남, 제주, 경남 등 6개 시·도지사는 ...   \n",
              "7045   지난달 하루 평균 수출액이 전년대비 5.6% 증가한 가운데 자동차는 2017년 11...   \n",
              "10908  지난달 하루 평균 수출액이 전년대비 5.6% 증가한 가운데 자동차는 2017년 11...   \n",
              "10939  지난달 하루 평균 수출액이 전년대비 5.6% 증가한 가운데 자동차는 2017년 11...   \n",
              "11112  제2차 전략회의에서 대전, 경기, 강원, 전남, 제주, 경남 등 6개 시·도지사는 ...   \n",
              "\n",
              "                                               sentence2  \\\n",
              "1514   제2차 전략회의에서 대전, 경기, 강원, 전남, 제주, 경남 등 6개 시·도지사가 ...   \n",
              "1661                택시를 타고 공항에 갔을 때, 15분만에 20유로에 도착했습니다.   \n",
              "1715                택시를 타고 공항에 갔을 때, 15분만에 20유로에 도착했습니다.   \n",
              "3872   제2차 전략회의에서 대전, 경기, 강원, 전남, 제주, 경남 등 6개 시·도지사가 ...   \n",
              "5139   지난 달 평균 일일 수출액이 전년 동월대비 5.6% 증가하면서, 자동차의 수출은 2...   \n",
              "5292   제2차 전략회의에서 대전, 경기, 강원, 전남, 제주, 경남 등 6개 시·도지사가 ...   \n",
              "7045   지난 달 평균 일일 수출액이 전년 동월대비 5.6% 증가하면서, 자동차의 수출은 2...   \n",
              "10908  지난 달 평균 일일 수출액이 전년 동월대비 5.6% 증가하면서, 자동차의 수출은 2...   \n",
              "10939  지난 달 평균 일일 수출액이 전년 동월대비 5.6% 증가하면서, 자동차의 수출은 2...   \n",
              "11112  제2차 전략회의에서 대전, 경기, 강원, 전남, 제주, 경남 등 6개 시·도지사가 ...   \n",
              "\n",
              "                                                  labels  \\\n",
              "1514   {'label': 4.7, 'real-label': 4.714285714285714...   \n",
              "1661   {'label': 4.7, 'real-label': 4.666666666666667...   \n",
              "1715   {'label': 4.7, 'real-label': 4.666666666666667...   \n",
              "3872   {'label': 4.9, 'real-label': 4.857142857142857...   \n",
              "5139   {'label': 4.6, 'real-label': 4.571428571428571...   \n",
              "5292   {'label': 4.7, 'real-label': 4.714285714285714...   \n",
              "7045   {'label': 4.0, 'real-label': 4.0, 'binary-labe...   \n",
              "10908  {'label': 4.0, 'real-label': 4.0, 'binary-labe...   \n",
              "10939  {'label': 4.6, 'real-label': 4.571428571428571...   \n",
              "11112  {'label': 4.9, 'real-label': 4.857142857142857...   \n",
              "\n",
              "                                             annotations  \n",
              "1514   {'agreement': '0:0:0:0:2:5', 'annotators': ['0...  \n",
              "1661   {'agreement': '0:0:0:0:2:4', 'annotators': ['1...  \n",
              "1715   {'agreement': '0:0:0:0:2:4', 'annotators': ['1...  \n",
              "3872   {'agreement': '0:0:0:0:1:6', 'annotators': ['1...  \n",
              "5139   {'agreement': '0:0:0:0:3:4', 'annotators': ['0...  \n",
              "5292   {'agreement': '0:0:0:0:2:5', 'annotators': ['0...  \n",
              "7045   {'agreement': '0:0:0:1:5:1', 'annotators': ['1...  \n",
              "10908  {'agreement': '0:0:0:1:5:1', 'annotators': ['1...  \n",
              "10939  {'agreement': '0:0:0:0:3:4', 'annotators': ['0...  \n",
              "11112  {'agreement': '0:0:0:0:1:6', 'annotators': ['1...  "
            ],
            "text/html": [
              "\n",
              "  <div id=\"df-146a8a74-b6b2-45d2-8fc7-e9b908d904b7\">\n",
              "    <div class=\"colab-df-container\">\n",
              "      <div>\n",
              "<style scoped>\n",
              "    .dataframe tbody tr th:only-of-type {\n",
              "        vertical-align: middle;\n",
              "    }\n",
              "\n",
              "    .dataframe tbody tr th {\n",
              "        vertical-align: top;\n",
              "    }\n",
              "\n",
              "    .dataframe thead th {\n",
              "        text-align: right;\n",
              "    }\n",
              "</style>\n",
              "<table border=\"1\" class=\"dataframe\">\n",
              "  <thead>\n",
              "    <tr style=\"text-align: right;\">\n",
              "      <th></th>\n",
              "      <th>guid</th>\n",
              "      <th>source</th>\n",
              "      <th>sentence1</th>\n",
              "      <th>sentence2</th>\n",
              "      <th>labels</th>\n",
              "      <th>annotations</th>\n",
              "    </tr>\n",
              "  </thead>\n",
              "  <tbody>\n",
              "    <tr>\n",
              "      <th>1514</th>\n",
              "      <td>klue-sts-v1_train_01514</td>\n",
              "      <td>policy-rtt</td>\n",
              "      <td>제2차 전략회의에서 대전, 경기, 강원, 전남, 제주, 경남 등 6개 시·도지사는 ...</td>\n",
              "      <td>제2차 전략회의에서 대전, 경기, 강원, 전남, 제주, 경남 등 6개 시·도지사가 ...</td>\n",
              "      <td>{'label': 4.7, 'real-label': 4.714285714285714...</td>\n",
              "      <td>{'agreement': '0:0:0:0:2:5', 'annotators': ['0...</td>\n",
              "    </tr>\n",
              "    <tr>\n",
              "      <th>1661</th>\n",
              "      <td>klue-sts-v1_train_01661</td>\n",
              "      <td>airbnb-rtt</td>\n",
              "      <td>택시타고 공항갔을 때 20유로로 15분내에 도착했었어요.</td>\n",
              "      <td>택시를 타고 공항에 갔을 때, 15분만에 20유로에 도착했습니다.</td>\n",
              "      <td>{'label': 4.7, 'real-label': 4.666666666666667...</td>\n",
              "      <td>{'agreement': '0:0:0:0:2:4', 'annotators': ['1...</td>\n",
              "    </tr>\n",
              "    <tr>\n",
              "      <th>1715</th>\n",
              "      <td>klue-sts-v1_train_01715</td>\n",
              "      <td>airbnb-rtt</td>\n",
              "      <td>택시타고 공항갔을 때 20유로로 15분내에 도착했었어요.</td>\n",
              "      <td>택시를 타고 공항에 갔을 때, 15분만에 20유로에 도착했습니다.</td>\n",
              "      <td>{'label': 4.7, 'real-label': 4.666666666666667...</td>\n",
              "      <td>{'agreement': '0:0:0:0:2:4', 'annotators': ['1...</td>\n",
              "    </tr>\n",
              "    <tr>\n",
              "      <th>3872</th>\n",
              "      <td>klue-sts-v1_train_03872</td>\n",
              "      <td>policy-rtt</td>\n",
              "      <td>제2차 전략회의에서 대전, 경기, 강원, 전남, 제주, 경남 등 6개 시·도지사는 ...</td>\n",
              "      <td>제2차 전략회의에서 대전, 경기, 강원, 전남, 제주, 경남 등 6개 시·도지사가 ...</td>\n",
              "      <td>{'label': 4.9, 'real-label': 4.857142857142857...</td>\n",
              "      <td>{'agreement': '0:0:0:0:1:6', 'annotators': ['1...</td>\n",
              "    </tr>\n",
              "    <tr>\n",
              "      <th>5139</th>\n",
              "      <td>klue-sts-v1_train_05139</td>\n",
              "      <td>policy-rtt</td>\n",
              "      <td>지난달 하루 평균 수출액이 전년대비 5.6% 증가한 가운데 자동차는 2017년 11...</td>\n",
              "      <td>지난 달 평균 일일 수출액이 전년 동월대비 5.6% 증가하면서, 자동차의 수출은 2...</td>\n",
              "      <td>{'label': 4.6, 'real-label': 4.571428571428571...</td>\n",
              "      <td>{'agreement': '0:0:0:0:3:4', 'annotators': ['0...</td>\n",
              "    </tr>\n",
              "    <tr>\n",
              "      <th>5292</th>\n",
              "      <td>klue-sts-v1_train_05292</td>\n",
              "      <td>policy-rtt</td>\n",
              "      <td>제2차 전략회의에서 대전, 경기, 강원, 전남, 제주, 경남 등 6개 시·도지사는 ...</td>\n",
              "      <td>제2차 전략회의에서 대전, 경기, 강원, 전남, 제주, 경남 등 6개 시·도지사가 ...</td>\n",
              "      <td>{'label': 4.7, 'real-label': 4.714285714285714...</td>\n",
              "      <td>{'agreement': '0:0:0:0:2:5', 'annotators': ['0...</td>\n",
              "    </tr>\n",
              "    <tr>\n",
              "      <th>7045</th>\n",
              "      <td>klue-sts-v1_train_07045</td>\n",
              "      <td>policy-rtt</td>\n",
              "      <td>지난달 하루 평균 수출액이 전년대비 5.6% 증가한 가운데 자동차는 2017년 11...</td>\n",
              "      <td>지난 달 평균 일일 수출액이 전년 동월대비 5.6% 증가하면서, 자동차의 수출은 2...</td>\n",
              "      <td>{'label': 4.0, 'real-label': 4.0, 'binary-labe...</td>\n",
              "      <td>{'agreement': '0:0:0:1:5:1', 'annotators': ['1...</td>\n",
              "    </tr>\n",
              "    <tr>\n",
              "      <th>10908</th>\n",
              "      <td>klue-sts-v1_train_10908</td>\n",
              "      <td>policy-rtt</td>\n",
              "      <td>지난달 하루 평균 수출액이 전년대비 5.6% 증가한 가운데 자동차는 2017년 11...</td>\n",
              "      <td>지난 달 평균 일일 수출액이 전년 동월대비 5.6% 증가하면서, 자동차의 수출은 2...</td>\n",
              "      <td>{'label': 4.0, 'real-label': 4.0, 'binary-labe...</td>\n",
              "      <td>{'agreement': '0:0:0:1:5:1', 'annotators': ['1...</td>\n",
              "    </tr>\n",
              "    <tr>\n",
              "      <th>10939</th>\n",
              "      <td>klue-sts-v1_train_10939</td>\n",
              "      <td>policy-rtt</td>\n",
              "      <td>지난달 하루 평균 수출액이 전년대비 5.6% 증가한 가운데 자동차는 2017년 11...</td>\n",
              "      <td>지난 달 평균 일일 수출액이 전년 동월대비 5.6% 증가하면서, 자동차의 수출은 2...</td>\n",
              "      <td>{'label': 4.6, 'real-label': 4.571428571428571...</td>\n",
              "      <td>{'agreement': '0:0:0:0:3:4', 'annotators': ['0...</td>\n",
              "    </tr>\n",
              "    <tr>\n",
              "      <th>11112</th>\n",
              "      <td>klue-sts-v1_train_11112</td>\n",
              "      <td>policy-rtt</td>\n",
              "      <td>제2차 전략회의에서 대전, 경기, 강원, 전남, 제주, 경남 등 6개 시·도지사는 ...</td>\n",
              "      <td>제2차 전략회의에서 대전, 경기, 강원, 전남, 제주, 경남 등 6개 시·도지사가 ...</td>\n",
              "      <td>{'label': 4.9, 'real-label': 4.857142857142857...</td>\n",
              "      <td>{'agreement': '0:0:0:0:1:6', 'annotators': ['1...</td>\n",
              "    </tr>\n",
              "  </tbody>\n",
              "</table>\n",
              "</div>\n",
              "      <button class=\"colab-df-convert\" onclick=\"convertToInteractive('df-146a8a74-b6b2-45d2-8fc7-e9b908d904b7')\"\n",
              "              title=\"Convert this dataframe to an interactive table.\"\n",
              "              style=\"display:none;\">\n",
              "        \n",
              "  <svg xmlns=\"http://www.w3.org/2000/svg\" height=\"24px\"viewBox=\"0 0 24 24\"\n",
              "       width=\"24px\">\n",
              "    <path d=\"M0 0h24v24H0V0z\" fill=\"none\"/>\n",
              "    <path d=\"M18.56 5.44l.94 2.06.94-2.06 2.06-.94-2.06-.94-.94-2.06-.94 2.06-2.06.94zm-11 1L8.5 8.5l.94-2.06 2.06-.94-2.06-.94L8.5 2.5l-.94 2.06-2.06.94zm10 10l.94 2.06.94-2.06 2.06-.94-2.06-.94-.94-2.06-.94 2.06-2.06.94z\"/><path d=\"M17.41 7.96l-1.37-1.37c-.4-.4-.92-.59-1.43-.59-.52 0-1.04.2-1.43.59L10.3 9.45l-7.72 7.72c-.78.78-.78 2.05 0 2.83L4 21.41c.39.39.9.59 1.41.59.51 0 1.02-.2 1.41-.59l7.78-7.78 2.81-2.81c.8-.78.8-2.07 0-2.86zM5.41 20L4 18.59l7.72-7.72 1.47 1.35L5.41 20z\"/>\n",
              "  </svg>\n",
              "      </button>\n",
              "      \n",
              "  <style>\n",
              "    .colab-df-container {\n",
              "      display:flex;\n",
              "      flex-wrap:wrap;\n",
              "      gap: 12px;\n",
              "    }\n",
              "\n",
              "    .colab-df-convert {\n",
              "      background-color: #E8F0FE;\n",
              "      border: none;\n",
              "      border-radius: 50%;\n",
              "      cursor: pointer;\n",
              "      display: none;\n",
              "      fill: #1967D2;\n",
              "      height: 32px;\n",
              "      padding: 0 0 0 0;\n",
              "      width: 32px;\n",
              "    }\n",
              "\n",
              "    .colab-df-convert:hover {\n",
              "      background-color: #E2EBFA;\n",
              "      box-shadow: 0px 1px 2px rgba(60, 64, 67, 0.3), 0px 1px 3px 1px rgba(60, 64, 67, 0.15);\n",
              "      fill: #174EA6;\n",
              "    }\n",
              "\n",
              "    [theme=dark] .colab-df-convert {\n",
              "      background-color: #3B4455;\n",
              "      fill: #D2E3FC;\n",
              "    }\n",
              "\n",
              "    [theme=dark] .colab-df-convert:hover {\n",
              "      background-color: #434B5C;\n",
              "      box-shadow: 0px 1px 3px 1px rgba(0, 0, 0, 0.15);\n",
              "      filter: drop-shadow(0px 1px 2px rgba(0, 0, 0, 0.3));\n",
              "      fill: #FFFFFF;\n",
              "    }\n",
              "  </style>\n",
              "\n",
              "      <script>\n",
              "        const buttonEl =\n",
              "          document.querySelector('#df-146a8a74-b6b2-45d2-8fc7-e9b908d904b7 button.colab-df-convert');\n",
              "        buttonEl.style.display =\n",
              "          google.colab.kernel.accessAllowed ? 'block' : 'none';\n",
              "\n",
              "        async function convertToInteractive(key) {\n",
              "          const element = document.querySelector('#df-146a8a74-b6b2-45d2-8fc7-e9b908d904b7');\n",
              "          const dataTable =\n",
              "            await google.colab.kernel.invokeFunction('convertToInteractive',\n",
              "                                                     [key], {});\n",
              "          if (!dataTable) return;\n",
              "\n",
              "          const docLinkHtml = 'Like what you see? Visit the ' +\n",
              "            '<a target=\"_blank\" href=https://colab.research.google.com/notebooks/data_table.ipynb>data table notebook</a>'\n",
              "            + ' to learn more about interactive tables.';\n",
              "          element.innerHTML = '';\n",
              "          dataTable['output_type'] = 'display_data';\n",
              "          await google.colab.output.renderOutput(dataTable, element);\n",
              "          const docLink = document.createElement('div');\n",
              "          docLink.innerHTML = docLinkHtml;\n",
              "          element.appendChild(docLink);\n",
              "        }\n",
              "      </script>\n",
              "    </div>\n",
              "  </div>\n",
              "  "
            ]
          },
          "metadata": {},
          "execution_count": 96
        }
      ]
    },
    {
      "cell_type": "code",
      "source": [
        "df_test0[df_test0.duplicated(['sentence1','sentence2'],keep=False)==True]"
      ],
      "metadata": {
        "colab": {
          "base_uri": "https://localhost:8080/",
          "height": 49
        },
        "id": "_yuCC-wKCnPr",
        "outputId": "79dd66e9-27dc-456a-8a27-e277e99e4ea4"
      },
      "execution_count": 97,
      "outputs": [
        {
          "output_type": "execute_result",
          "data": {
            "text/plain": [
              "Empty DataFrame\n",
              "Columns: [guid, source, sentence1, sentence2, labels, annotations]\n",
              "Index: []"
            ],
            "text/html": [
              "\n",
              "  <div id=\"df-10aa2569-9ac1-4e94-a497-22e0f163f84d\">\n",
              "    <div class=\"colab-df-container\">\n",
              "      <div>\n",
              "<style scoped>\n",
              "    .dataframe tbody tr th:only-of-type {\n",
              "        vertical-align: middle;\n",
              "    }\n",
              "\n",
              "    .dataframe tbody tr th {\n",
              "        vertical-align: top;\n",
              "    }\n",
              "\n",
              "    .dataframe thead th {\n",
              "        text-align: right;\n",
              "    }\n",
              "</style>\n",
              "<table border=\"1\" class=\"dataframe\">\n",
              "  <thead>\n",
              "    <tr style=\"text-align: right;\">\n",
              "      <th></th>\n",
              "      <th>guid</th>\n",
              "      <th>source</th>\n",
              "      <th>sentence1</th>\n",
              "      <th>sentence2</th>\n",
              "      <th>labels</th>\n",
              "      <th>annotations</th>\n",
              "    </tr>\n",
              "  </thead>\n",
              "  <tbody>\n",
              "  </tbody>\n",
              "</table>\n",
              "</div>\n",
              "      <button class=\"colab-df-convert\" onclick=\"convertToInteractive('df-10aa2569-9ac1-4e94-a497-22e0f163f84d')\"\n",
              "              title=\"Convert this dataframe to an interactive table.\"\n",
              "              style=\"display:none;\">\n",
              "        \n",
              "  <svg xmlns=\"http://www.w3.org/2000/svg\" height=\"24px\"viewBox=\"0 0 24 24\"\n",
              "       width=\"24px\">\n",
              "    <path d=\"M0 0h24v24H0V0z\" fill=\"none\"/>\n",
              "    <path d=\"M18.56 5.44l.94 2.06.94-2.06 2.06-.94-2.06-.94-.94-2.06-.94 2.06-2.06.94zm-11 1L8.5 8.5l.94-2.06 2.06-.94-2.06-.94L8.5 2.5l-.94 2.06-2.06.94zm10 10l.94 2.06.94-2.06 2.06-.94-2.06-.94-.94-2.06-.94 2.06-2.06.94z\"/><path d=\"M17.41 7.96l-1.37-1.37c-.4-.4-.92-.59-1.43-.59-.52 0-1.04.2-1.43.59L10.3 9.45l-7.72 7.72c-.78.78-.78 2.05 0 2.83L4 21.41c.39.39.9.59 1.41.59.51 0 1.02-.2 1.41-.59l7.78-7.78 2.81-2.81c.8-.78.8-2.07 0-2.86zM5.41 20L4 18.59l7.72-7.72 1.47 1.35L5.41 20z\"/>\n",
              "  </svg>\n",
              "      </button>\n",
              "      \n",
              "  <style>\n",
              "    .colab-df-container {\n",
              "      display:flex;\n",
              "      flex-wrap:wrap;\n",
              "      gap: 12px;\n",
              "    }\n",
              "\n",
              "    .colab-df-convert {\n",
              "      background-color: #E8F0FE;\n",
              "      border: none;\n",
              "      border-radius: 50%;\n",
              "      cursor: pointer;\n",
              "      display: none;\n",
              "      fill: #1967D2;\n",
              "      height: 32px;\n",
              "      padding: 0 0 0 0;\n",
              "      width: 32px;\n",
              "    }\n",
              "\n",
              "    .colab-df-convert:hover {\n",
              "      background-color: #E2EBFA;\n",
              "      box-shadow: 0px 1px 2px rgba(60, 64, 67, 0.3), 0px 1px 3px 1px rgba(60, 64, 67, 0.15);\n",
              "      fill: #174EA6;\n",
              "    }\n",
              "\n",
              "    [theme=dark] .colab-df-convert {\n",
              "      background-color: #3B4455;\n",
              "      fill: #D2E3FC;\n",
              "    }\n",
              "\n",
              "    [theme=dark] .colab-df-convert:hover {\n",
              "      background-color: #434B5C;\n",
              "      box-shadow: 0px 1px 3px 1px rgba(0, 0, 0, 0.15);\n",
              "      filter: drop-shadow(0px 1px 2px rgba(0, 0, 0, 0.3));\n",
              "      fill: #FFFFFF;\n",
              "    }\n",
              "  </style>\n",
              "\n",
              "      <script>\n",
              "        const buttonEl =\n",
              "          document.querySelector('#df-10aa2569-9ac1-4e94-a497-22e0f163f84d button.colab-df-convert');\n",
              "        buttonEl.style.display =\n",
              "          google.colab.kernel.accessAllowed ? 'block' : 'none';\n",
              "\n",
              "        async function convertToInteractive(key) {\n",
              "          const element = document.querySelector('#df-10aa2569-9ac1-4e94-a497-22e0f163f84d');\n",
              "          const dataTable =\n",
              "            await google.colab.kernel.invokeFunction('convertToInteractive',\n",
              "                                                     [key], {});\n",
              "          if (!dataTable) return;\n",
              "\n",
              "          const docLinkHtml = 'Like what you see? Visit the ' +\n",
              "            '<a target=\"_blank\" href=https://colab.research.google.com/notebooks/data_table.ipynb>data table notebook</a>'\n",
              "            + ' to learn more about interactive tables.';\n",
              "          element.innerHTML = '';\n",
              "          dataTable['output_type'] = 'display_data';\n",
              "          await google.colab.output.renderOutput(dataTable, element);\n",
              "          const docLink = document.createElement('div');\n",
              "          docLink.innerHTML = docLinkHtml;\n",
              "          element.appendChild(docLink);\n",
              "        }\n",
              "      </script>\n",
              "    </div>\n",
              "  </div>\n",
              "  "
            ]
          },
          "metadata": {},
          "execution_count": 97
        }
      ]
    },
    {
      "cell_type": "code",
      "source": [
        "pd.concat([df_train0.drop_duplicates(['sentence1','sentence2']),df_test0]).duplicated(['sentence1','sentence2']).sum()"
      ],
      "metadata": {
        "colab": {
          "base_uri": "https://localhost:8080/"
        },
        "id": "SKhRexrZC4aE",
        "outputId": "72fd8c59-dcca-4dc4-832c-43c1958283d1"
      },
      "execution_count": 98,
      "outputs": [
        {
          "output_type": "execute_result",
          "data": {
            "text/plain": [
              "0"
            ]
          },
          "metadata": {},
          "execution_count": 98
        }
      ]
    },
    {
      "cell_type": "code",
      "source": [
        "df_train0.isna().sum().sum()+df_test0.isna().sum().sum()"
      ],
      "metadata": {
        "colab": {
          "base_uri": "https://localhost:8080/"
        },
        "id": "G0Y9-rovDxnE",
        "outputId": "df1ebf15-56a6-438a-b3f9-39cb82ee1aed"
      },
      "execution_count": 99,
      "outputs": [
        {
          "output_type": "execute_result",
          "data": {
            "text/plain": [
              "0"
            ]
          },
          "metadata": {},
          "execution_count": 99
        }
      ]
    },
    {
      "cell_type": "markdown",
      "source": [
        "## Data preprocess"
      ],
      "metadata": {
        "id": "ySxzpHXJQR1s"
      }
    },
    {
      "cell_type": "code",
      "source": [
        "from torch.utils.data import Dataset, DataLoader, RandomSampler, SequentialSampler, random_split\n",
        "from transformers import BertTokenizer"
      ],
      "metadata": {
        "id": "oTmY-YL5Lo_1"
      },
      "execution_count": 100,
      "outputs": []
    },
    {
      "cell_type": "markdown",
      "source": [
        "### Preprocess"
      ],
      "metadata": {
        "id": "2L3Qg_QqFKpS"
      }
    },
    {
      "cell_type": "code",
      "source": [
        "class Preprocess:\n",
        "    def __init__(self,train,test):\n",
        "        self.train=train\n",
        "        self.test=test\n",
        "\n",
        "    def check_st(self, text):\n",
        "      text = re.sub('a-zA-Z一-龥㐀-䶵豈-龎[-=+,#/\\?:^$.@*\\\"※~&%ㆍ·!』\\\\‘〈〉|\\(\\)\\[\\]\\<\\>`\\'…》《]','', text)\n",
        "      return text\n",
        "    \n",
        "    def BERT_baseline(self):\n",
        "        train = self.train.drop_duplicates(['sentence1','sentence2']).reset_index(drop=True)\n",
        "        sentence = train.apply(lambda x: x['sentence1']+' [SEP] '+x['sentence2'],axis=1)\n",
        "        label = train['labels'].map(lambda x: int(x['real-label']))\n",
        "        train = pd.concat([sentence,label],axis=1)\n",
        "        train.columns = ['sentence','label']\n",
        "        sentence = self.test.apply(lambda x: x['sentence1']+' [SEP] '+x['sentence2'],axis=1)\n",
        "        label = self.test['labels'].map(lambda x: int(x['real-label']))\n",
        "        test = pd.concat([sentence,label],axis=1)\n",
        "        test.columns = ['sentence','label']\n",
        "        return train, test\n",
        "\n",
        "    def BERT_round(self):\n",
        "        train = self.train.drop_duplicates(['sentence1','sentence2']).reset_index(drop=True)\n",
        "        sentence = train.apply(lambda x: x['sentence1']+' [SEP] '+x['sentence2'],axis=1)\n",
        "        label = train['labels'].map(lambda x: round(x['real-label']))\n",
        "        train = pd.concat([sentence,label],axis=1)\n",
        "        train.columns = ['sentence','label']\n",
        "        sentence = self.test.apply(lambda x: x['sentence1']+' [SEP] '+x['sentence2'],axis=1)\n",
        "        label = self.test['labels'].map(lambda x: round(x['real-label']))\n",
        "        test = pd.concat([sentence,label],axis=1)\n",
        "        test.columns = ['sentence','label']\n",
        "        return train, test"
      ],
      "metadata": {
        "id": "jVwblZvZQXGI"
      },
      "execution_count": 101,
      "outputs": []
    },
    {
      "cell_type": "code",
      "source": [
        "pp=Preprocess(df_train0,df_test0)"
      ],
      "metadata": {
        "id": "cKSuoWq1e1Tt"
      },
      "execution_count": 102,
      "outputs": []
    },
    {
      "cell_type": "code",
      "source": [
        "df_train, df_test = pp.BERT_baseline()"
      ],
      "metadata": {
        "id": "u7hYDHWGCm0C"
      },
      "execution_count": 103,
      "outputs": []
    },
    {
      "cell_type": "code",
      "source": [
        "df_train.head()"
      ],
      "metadata": {
        "colab": {
          "base_uri": "https://localhost:8080/",
          "height": 0
        },
        "id": "fu8-BMqCC93p",
        "outputId": "edfc0917-3ed5-4a21-e5b9-0094e658428c"
      },
      "execution_count": 104,
      "outputs": [
        {
          "output_type": "execute_result",
          "data": {
            "text/plain": [
              "                                            sentence  label\n",
              "0  숙소 위치는 찾기 쉽고 일반적인 한국의 반지하 숙소입니다. [SEP] 숙박시설의 위...      3\n",
              "1  위반행위 조사 등을 거부·방해·기피한 자는 500만원 이하 과태료 부과 대상이다. ...      0\n",
              "2  회사가 보낸 메일은 이 지메일이 아니라 다른 지메일 계정으로 전달해줘. [SEP] ...      0\n",
              "3  긴급 고용안정지원금은 지역고용대응 등 특별지원금, 지자체별 소상공인 지원사업, 취업...      0\n",
              "4  호스트의 답장이 늦으나, 개선될 것으로 보입니다. [SEP] 호스트 응답이 늦었지만...      4"
            ],
            "text/html": [
              "\n",
              "  <div id=\"df-cea1bada-39b6-44e8-b457-5b9f02f72cec\">\n",
              "    <div class=\"colab-df-container\">\n",
              "      <div>\n",
              "<style scoped>\n",
              "    .dataframe tbody tr th:only-of-type {\n",
              "        vertical-align: middle;\n",
              "    }\n",
              "\n",
              "    .dataframe tbody tr th {\n",
              "        vertical-align: top;\n",
              "    }\n",
              "\n",
              "    .dataframe thead th {\n",
              "        text-align: right;\n",
              "    }\n",
              "</style>\n",
              "<table border=\"1\" class=\"dataframe\">\n",
              "  <thead>\n",
              "    <tr style=\"text-align: right;\">\n",
              "      <th></th>\n",
              "      <th>sentence</th>\n",
              "      <th>label</th>\n",
              "    </tr>\n",
              "  </thead>\n",
              "  <tbody>\n",
              "    <tr>\n",
              "      <th>0</th>\n",
              "      <td>숙소 위치는 찾기 쉽고 일반적인 한국의 반지하 숙소입니다. [SEP] 숙박시설의 위...</td>\n",
              "      <td>3</td>\n",
              "    </tr>\n",
              "    <tr>\n",
              "      <th>1</th>\n",
              "      <td>위반행위 조사 등을 거부·방해·기피한 자는 500만원 이하 과태료 부과 대상이다. ...</td>\n",
              "      <td>0</td>\n",
              "    </tr>\n",
              "    <tr>\n",
              "      <th>2</th>\n",
              "      <td>회사가 보낸 메일은 이 지메일이 아니라 다른 지메일 계정으로 전달해줘. [SEP] ...</td>\n",
              "      <td>0</td>\n",
              "    </tr>\n",
              "    <tr>\n",
              "      <th>3</th>\n",
              "      <td>긴급 고용안정지원금은 지역고용대응 등 특별지원금, 지자체별 소상공인 지원사업, 취업...</td>\n",
              "      <td>0</td>\n",
              "    </tr>\n",
              "    <tr>\n",
              "      <th>4</th>\n",
              "      <td>호스트의 답장이 늦으나, 개선될 것으로 보입니다. [SEP] 호스트 응답이 늦었지만...</td>\n",
              "      <td>4</td>\n",
              "    </tr>\n",
              "  </tbody>\n",
              "</table>\n",
              "</div>\n",
              "      <button class=\"colab-df-convert\" onclick=\"convertToInteractive('df-cea1bada-39b6-44e8-b457-5b9f02f72cec')\"\n",
              "              title=\"Convert this dataframe to an interactive table.\"\n",
              "              style=\"display:none;\">\n",
              "        \n",
              "  <svg xmlns=\"http://www.w3.org/2000/svg\" height=\"24px\"viewBox=\"0 0 24 24\"\n",
              "       width=\"24px\">\n",
              "    <path d=\"M0 0h24v24H0V0z\" fill=\"none\"/>\n",
              "    <path d=\"M18.56 5.44l.94 2.06.94-2.06 2.06-.94-2.06-.94-.94-2.06-.94 2.06-2.06.94zm-11 1L8.5 8.5l.94-2.06 2.06-.94-2.06-.94L8.5 2.5l-.94 2.06-2.06.94zm10 10l.94 2.06.94-2.06 2.06-.94-2.06-.94-.94-2.06-.94 2.06-2.06.94z\"/><path d=\"M17.41 7.96l-1.37-1.37c-.4-.4-.92-.59-1.43-.59-.52 0-1.04.2-1.43.59L10.3 9.45l-7.72 7.72c-.78.78-.78 2.05 0 2.83L4 21.41c.39.39.9.59 1.41.59.51 0 1.02-.2 1.41-.59l7.78-7.78 2.81-2.81c.8-.78.8-2.07 0-2.86zM5.41 20L4 18.59l7.72-7.72 1.47 1.35L5.41 20z\"/>\n",
              "  </svg>\n",
              "      </button>\n",
              "      \n",
              "  <style>\n",
              "    .colab-df-container {\n",
              "      display:flex;\n",
              "      flex-wrap:wrap;\n",
              "      gap: 12px;\n",
              "    }\n",
              "\n",
              "    .colab-df-convert {\n",
              "      background-color: #E8F0FE;\n",
              "      border: none;\n",
              "      border-radius: 50%;\n",
              "      cursor: pointer;\n",
              "      display: none;\n",
              "      fill: #1967D2;\n",
              "      height: 32px;\n",
              "      padding: 0 0 0 0;\n",
              "      width: 32px;\n",
              "    }\n",
              "\n",
              "    .colab-df-convert:hover {\n",
              "      background-color: #E2EBFA;\n",
              "      box-shadow: 0px 1px 2px rgba(60, 64, 67, 0.3), 0px 1px 3px 1px rgba(60, 64, 67, 0.15);\n",
              "      fill: #174EA6;\n",
              "    }\n",
              "\n",
              "    [theme=dark] .colab-df-convert {\n",
              "      background-color: #3B4455;\n",
              "      fill: #D2E3FC;\n",
              "    }\n",
              "\n",
              "    [theme=dark] .colab-df-convert:hover {\n",
              "      background-color: #434B5C;\n",
              "      box-shadow: 0px 1px 3px 1px rgba(0, 0, 0, 0.15);\n",
              "      filter: drop-shadow(0px 1px 2px rgba(0, 0, 0, 0.3));\n",
              "      fill: #FFFFFF;\n",
              "    }\n",
              "  </style>\n",
              "\n",
              "      <script>\n",
              "        const buttonEl =\n",
              "          document.querySelector('#df-cea1bada-39b6-44e8-b457-5b9f02f72cec button.colab-df-convert');\n",
              "        buttonEl.style.display =\n",
              "          google.colab.kernel.accessAllowed ? 'block' : 'none';\n",
              "\n",
              "        async function convertToInteractive(key) {\n",
              "          const element = document.querySelector('#df-cea1bada-39b6-44e8-b457-5b9f02f72cec');\n",
              "          const dataTable =\n",
              "            await google.colab.kernel.invokeFunction('convertToInteractive',\n",
              "                                                     [key], {});\n",
              "          if (!dataTable) return;\n",
              "\n",
              "          const docLinkHtml = 'Like what you see? Visit the ' +\n",
              "            '<a target=\"_blank\" href=https://colab.research.google.com/notebooks/data_table.ipynb>data table notebook</a>'\n",
              "            + ' to learn more about interactive tables.';\n",
              "          element.innerHTML = '';\n",
              "          dataTable['output_type'] = 'display_data';\n",
              "          await google.colab.output.renderOutput(dataTable, element);\n",
              "          const docLink = document.createElement('div');\n",
              "          docLink.innerHTML = docLinkHtml;\n",
              "          element.appendChild(docLink);\n",
              "        }\n",
              "      </script>\n",
              "    </div>\n",
              "  </div>\n",
              "  "
            ]
          },
          "metadata": {},
          "execution_count": 104
        }
      ]
    },
    {
      "cell_type": "code",
      "source": [
        "df_train['label'].value_counts()"
      ],
      "metadata": {
        "id": "L0TceNfiy4ba",
        "outputId": "f4fb0008-a72d-452c-dd95-810690a4b6cf",
        "colab": {
          "base_uri": "https://localhost:8080/"
        }
      },
      "execution_count": 105,
      "outputs": [
        {
          "output_type": "execute_result",
          "data": {
            "text/plain": [
              "0    4350\n",
              "3    2852\n",
              "4    2698\n",
              "1     906\n",
              "2     810\n",
              "5      45\n",
              "Name: label, dtype: int64"
            ]
          },
          "metadata": {},
          "execution_count": 105
        }
      ]
    },
    {
      "cell_type": "markdown",
      "source": [
        "### Augmentation"
      ],
      "metadata": {
        "id": "IAIZB6y0kIyH"
      }
    },
    {
      "cell_type": "code",
      "source": [
        ""
      ],
      "metadata": {
        "id": "nMHTC1mtkLKp"
      },
      "execution_count": 105,
      "outputs": []
    },
    {
      "cell_type": "markdown",
      "source": [
        "### Dataset"
      ],
      "metadata": {
        "id": "DUsE3dGzTBpn"
      }
    },
    {
      "cell_type": "code",
      "source": [
        "# Custom Dataset\n",
        "class CustomDataset(Dataset):\n",
        "    \"\"\"\n",
        "    - input_data: list of string\n",
        "    - target_data: list of int\n",
        "    \"\"\"\n",
        "    \n",
        "    def __init__(self, input_data:list, target_data:list) -> None:\n",
        "        self.X = input_data\n",
        "        self.Y = target_data\n",
        "    \n",
        "    def __len__(self):\n",
        "        return len(self.X)\n",
        "    \n",
        "    def __getitem__(self, index):\n",
        "        return self.X[index], self.Y[index]"
      ],
      "metadata": {
        "id": "nrxcSuANS3ua"
      },
      "execution_count": 106,
      "outputs": []
    },
    {
      "cell_type": "code",
      "source": [
        "train_dataset = CustomDataset(df_train.sentence.to_list(), df_train.label.to_list())\n",
        "test_dataset = CustomDataset(df_test.sentence.to_list(), df_test.label.to_list())"
      ],
      "metadata": {
        "id": "qHRSCsPX_XiU"
      },
      "execution_count": 107,
      "outputs": []
    },
    {
      "cell_type": "markdown",
      "source": [
        "### Split Data"
      ],
      "metadata": {
        "id": "_xnq7qO8VeXz"
      }
    },
    {
      "cell_type": "code",
      "source": [
        "n_sample = df_train.shape[0] # train 전체 길이\n",
        "n_train = int(n_sample*0.9)\n",
        "n_valid = n_sample-n_train\n",
        "train_dataset, valid_dataset = random_split(train_dataset, [n_train, n_valid])"
      ],
      "metadata": {
        "id": "YhDSTrpoVhuM"
      },
      "execution_count": 108,
      "outputs": []
    },
    {
      "cell_type": "code",
      "source": [
        "print(f\"Train Dataset len: {len(train_dataset)}\")\n",
        "print(f\"Valid Dataset len: {len(valid_dataset)}\")\n",
        "print(f\"Test Dataset len: {len(test_dataset)}\")"
      ],
      "metadata": {
        "colab": {
          "base_uri": "https://localhost:8080/"
        },
        "id": "N3VF0hHy_qbg",
        "outputId": "7e157b5c-52ba-480a-97e2-e1e2552de9c5"
      },
      "execution_count": 109,
      "outputs": [
        {
          "output_type": "stream",
          "name": "stdout",
          "text": [
            "Train Dataset len: 10494\n",
            "Valid Dataset len: 1167\n",
            "Test Dataset len: 519\n"
          ]
        }
      ]
    },
    {
      "cell_type": "markdown",
      "source": [
        "## Model"
      ],
      "metadata": {
        "id": "PUZIdwDiW8Wc"
      }
    },
    {
      "cell_type": "markdown",
      "source": [
        "### Custom Model"
      ],
      "metadata": {
        "id": "eX4B11HRFonl"
      }
    },
    {
      "cell_type": "code",
      "source": [
        "!git clone https://github.com/snaiws/NLP_project"
      ],
      "metadata": {
        "colab": {
          "base_uri": "https://localhost:8080/"
        },
        "id": "vdAJVTDRcerk",
        "outputId": "e44df418-4b30-414c-81f2-f3c884787b87"
      },
      "execution_count": 110,
      "outputs": [
        {
          "output_type": "stream",
          "name": "stdout",
          "text": [
            "fatal: destination path 'NLP_project' already exists and is not an empty directory.\n"
          ]
        }
      ]
    },
    {
      "cell_type": "code",
      "source": [
        "from NLP_project.CustomModels.BERT_baseline import Bert_baseline"
      ],
      "metadata": {
        "id": "0NoUvfiIbibP"
      },
      "execution_count": 111,
      "outputs": []
    },
    {
      "cell_type": "markdown",
      "source": [
        "### ARGUMENT"
      ],
      "metadata": {
        "id": "Iz2aZrF5Wg6Q"
      }
    },
    {
      "cell_type": "code",
      "source": [
        "# argument setting\n",
        "train_batch_size = 32\n",
        "eval_batch_size = 64\n",
        "epochs=4\n",
        "patience=1\n",
        "\n",
        "loss_fct = nn.CrossEntropyLoss()\n",
        "tokenizer = BertTokenizer.from_pretrained(\"klue/bert-base\")\n",
        "customModel = Bert_baseline(hidden_size=768, n_label=6)\n",
        "customOptimizer = AdamW(\n",
        "    customModel.parameters(), # update 대상 파라미터를 입력\n",
        "    lr=2e-5,\n",
        "    eps=1e-8\n",
        ")"
      ],
      "metadata": {
        "id": "CiEIKbbuWgTU",
        "colab": {
          "base_uri": "https://localhost:8080/"
        },
        "outputId": "63150a18-97fc-4a7a-e7ff-075856101b77"
      },
      "execution_count": 112,
      "outputs": [
        {
          "output_type": "stream",
          "name": "stderr",
          "text": [
            "Some weights of the model checkpoint at klue/bert-base were not used when initializing BertModel: ['cls.predictions.transform.LayerNorm.bias', 'cls.predictions.transform.LayerNorm.weight', 'cls.predictions.transform.dense.weight', 'cls.seq_relationship.bias', 'cls.predictions.transform.dense.bias', 'cls.seq_relationship.weight', 'cls.predictions.decoder.weight', 'cls.predictions.bias', 'cls.predictions.decoder.bias']\n",
            "- This IS expected if you are initializing BertModel from the checkpoint of a model trained on another task or with another architecture (e.g. initializing a BertForSequenceClassification model from a BertForPreTraining model).\n",
            "- This IS NOT expected if you are initializing BertModel from the checkpoint of a model that you expect to be exactly identical (initializing a BertForSequenceClassification model from a BertForSequenceClassification model).\n",
            "/usr/local/lib/python3.7/dist-packages/transformers/optimization.py:309: FutureWarning: This implementation of AdamW is deprecated and will be removed in a future version. Use the PyTorch implementation torch.optim.AdamW instead, or set `no_deprecation_warning=True` to disable this warning\n",
            "  FutureWarning,\n"
          ]
        }
      ]
    },
    {
      "cell_type": "markdown",
      "source": [
        "### Data Loader"
      ],
      "metadata": {
        "id": "gxJnvrXwWENj"
      }
    },
    {
      "cell_type": "code",
      "source": [
        "# Custom collate_fn \n",
        "def custom_collate_fn(batch):\n",
        "    \"\"\"\n",
        "    한 배치 내 문장들을 tokenizing 한 후 텐서로 변환함. \n",
        "    이때, dynamic padding (즉, 같은 배치 내 토큰의 개수가 동일할 수 있도록, 부족한 문장에 [PAD] 토큰을 추가하는 작업)을 적용\n",
        "    \n",
        "    한 배치 내 레이블(target)은 텐서화 함.\n",
        "    \n",
        "    - batch: list of tuples (input_data(string), target_data(int))\n",
        "    \"\"\"\n",
        "    input_list, target_list = [], []\n",
        "\n",
        "    for _input, _target in batch:\n",
        "        input_list.append(_input)\n",
        "        target_list.append(_target)\n",
        "    \n",
        "    tensorized_input = tokenizer(\n",
        "        input_list,\n",
        "        add_special_tokens=True,\n",
        "        padding=\"longest\", # 배치내 가장 긴 문장을 기준으로 부족한 문장은 [PAD] 토큰을 추가\n",
        "        truncation=True, # max_length를 넘는 문장은 이 후 토큰을 제거함\n",
        "        max_length=512,\n",
        "        return_tensors='pt' # 토크나이즈된 결과 값을 텐서 형태로 반환\n",
        "    )\n",
        "    \n",
        "    tensorized_label = torch.tensor(target_list)\n",
        "    \n",
        "    return tensorized_input, tensorized_label"
      ],
      "metadata": {
        "id": "45DCZ7_5WGs4"
      },
      "execution_count": 113,
      "outputs": []
    },
    {
      "cell_type": "code",
      "source": [
        "train_dataloader = DataLoader(\n",
        "    train_dataset,\n",
        "    batch_size = train_batch_size,\n",
        "    sampler = RandomSampler(train_dataset),\n",
        "    collate_fn = custom_collate_fn\n",
        ")\n",
        "\n",
        "valid_dataloader = DataLoader(\n",
        "    valid_dataset,\n",
        "    batch_size = eval_batch_size,\n",
        "    sampler = SequentialSampler(valid_dataset),\n",
        "    collate_fn = custom_collate_fn\n",
        ")\n",
        "\n",
        "test_dataloader = DataLoader(\n",
        "    test_dataset,\n",
        "    batch_size = eval_batch_size,\n",
        "    sampler = SequentialSampler(test_dataset),\n",
        "    collate_fn = custom_collate_fn\n",
        ")\n",
        "print(f\"Train dataloader # steps: {len(train_dataloader)}\")\n",
        "print(f\"Valid dataloader # steps: {len(valid_dataloader)}\")\n",
        "print(f\"Test dataloader # steps: {len(test_dataloader)}\")"
      ],
      "metadata": {
        "colab": {
          "base_uri": "https://localhost:8080/"
        },
        "id": "afNNT7crFH28",
        "outputId": "44e0fb26-e198-4a46-f106-68e14ace750d"
      },
      "execution_count": 114,
      "outputs": [
        {
          "output_type": "stream",
          "name": "stdout",
          "text": [
            "Train dataloader # steps: 328\n",
            "Valid dataloader # steps: 19\n",
            "Test dataloader # steps: 9\n"
          ]
        }
      ]
    },
    {
      "cell_type": "markdown",
      "source": [
        "### Initializer"
      ],
      "metadata": {
        "id": "fb4K-Oo8Fc7-"
      }
    },
    {
      "cell_type": "code",
      "source": [
        "def initializer(model, optimizer, train_dataloader, epochs=2):\n",
        "    \"\"\"\n",
        "    모델, 옵티마이저, 스케쥴러 초기화\n",
        "    \"\"\"\n",
        "    \n",
        "    total_steps = len(train_dataloader) * epochs\n",
        "    print(f\"Total train steps with {epochs} epochs: {total_steps}\")\n",
        "\n",
        "    scheduler = get_linear_schedule_with_warmup(\n",
        "        optimizer, \n",
        "        num_warmup_steps = 0, # 여기서는 warmup을 사용하지 않는다.\n",
        "        num_training_steps = total_steps\n",
        "    )\n",
        "\n",
        "    return model, optimizer, scheduler"
      ],
      "metadata": {
        "id": "i4omKhdSQfpJ"
      },
      "execution_count": 115,
      "outputs": []
    },
    {
      "cell_type": "markdown",
      "source": [
        "### Early stopping"
      ],
      "metadata": {
        "id": "NwgtRhD4FhSr"
      }
    },
    {
      "cell_type": "code",
      "source": [
        "class EarlyStopping:\n",
        "    \"\"\"주어진 patience 이후로 validation loss가 개선되지 않으면 학습을 조기 중지\"\"\"\n",
        "    def __init__(self, patience=1, verbose=False, delta=0, path='checkpoint.pt'):\n",
        "        \"\"\"\n",
        "        Args:\n",
        "            patience (int): validation loss가 개선된 후 기다리는 기간\n",
        "                            Default: 7\n",
        "            verbose (bool): True일 경우 각 validation loss의 개선 사항 메세지 출력\n",
        "                            Default: False\n",
        "            delta (float): 개선되었다고 인정되는 monitered quantity의 최소 변화\n",
        "                            Default: 0\n",
        "            path (str): checkpoint저장 경로\n",
        "                            Default: 'checkpoint.pt'\n",
        "        \"\"\"\n",
        "        self.patience = patience\n",
        "        self.verbose = verbose\n",
        "        self.counter = 0\n",
        "        self.best_score = None\n",
        "        self.early_stop = False\n",
        "        self.val_loss_min = np.Inf\n",
        "        self.delta = delta\n",
        "        self.path = os.path.abspath(os.curdir)\n",
        "\n",
        "    def __call__(self, val_loss, model, optimizer, scheduler, epoch):\n",
        "\n",
        "        score = -val_loss\n",
        "\n",
        "        if self.best_score is None:\n",
        "            self.best_score = score\n",
        "            self.save_checkpoint(model, optimizer, scheduler, epoch, val_loss)\n",
        "        elif score < self.best_score + self.delta:\n",
        "            self.counter += 1\n",
        "            print(f'EarlyStopping counter: {self.counter} out of {self.patience}')\n",
        "            if self.counter >= self.patience:\n",
        "                self.early_stop = True\n",
        "        else:\n",
        "            self.best_score = score\n",
        "            self.save_checkpoint(model, optimizer, scheduler, epoch, val_loss)\n",
        "            self.counter = 0\n",
        "\n",
        "    def save_checkpoint(self, model, optimizer, scheduler, epoch, loss):\n",
        "        file_name = f'{self.path}/model_ckpt_{epoch}'\n",
        "        \n",
        "        torch.save(\n",
        "            {\n",
        "                'epoch': epoch,\n",
        "                'model_state_dict': model.state_dict(),\n",
        "                'optimizer_state_dict': optimizer.state_dict(),\n",
        "                'scheduler_state_dict': scheduler.state_dict(),\n",
        "                'loss' : loss\n",
        "            }, \n",
        "            file_name\n",
        "        )\n",
        "      \n",
        "        print(f\"Saving epoch {epoch} checkpoint at {file_name}\")"
      ],
      "metadata": {
        "id": "xjTgaMgaJLIo"
      },
      "execution_count": 116,
      "outputs": []
    },
    {
      "cell_type": "markdown",
      "source": [
        "### validate"
      ],
      "metadata": {
        "id": "fBx_gbpYFmSU"
      }
    },
    {
      "cell_type": "code",
      "source": [
        "def validate(model, valid_dataloader):\n",
        "   \n",
        "    # 모델을 evaluate 모드로 설정 & device 할당\n",
        "    model.eval()\n",
        "    model.to(device)\n",
        "    \n",
        "    total_loss, total_acc= 0,0\n",
        "        \n",
        "    for step, batch in enumerate(valid_dataloader):\n",
        "        \n",
        "        # tensor 연산 전, 각 tensor에 device 할당\n",
        "        batch = tuple(item.to(device) for item in batch)\n",
        "            \n",
        "        batch_input, batch_label = batch\n",
        "            \n",
        "        # gradient 계산하지 않음\n",
        "        with torch.no_grad():\n",
        "            logits = model(**batch_input)\n",
        "            \n",
        "        # loss\n",
        "        loss = loss_fct(logits, batch_label)\n",
        "        total_loss += loss.item()\n",
        "        \n",
        "        # accuracy\n",
        "        probs = F.softmax(logits, dim=1)\n",
        "        preds = torch.argmax(probs, dim=1).flatten()\n",
        "        acc = (preds == batch_label).cpu().numpy().mean()\n",
        "        total_acc+=acc\n",
        "    \n",
        "    total_loss = total_loss/(step+1)\n",
        "    total_acc = total_acc/(step+1)*100\n",
        "\n",
        "    return total_loss, total_acc\n",
        "    "
      ],
      "metadata": {
        "id": "C21fot6EJNSL"
      },
      "execution_count": 117,
      "outputs": []
    },
    {
      "cell_type": "markdown",
      "source": [
        "## Train"
      ],
      "metadata": {
        "id": "XuwLP7lzepZB"
      }
    },
    {
      "cell_type": "code",
      "source": [
        "def train_model(model, train_dataloader, valid_dataloader=None, epochs=1):\n",
        "        # early_stopping object의 초기화\n",
        "        early_stopping = EarlyStopping(patience = patience, verbose = True)\n",
        "        \n",
        "        # train_dataloaer 학습을 epochs만큼 반복\n",
        "        for epoch in range(1, epochs + 1):\n",
        "            print(f\"*****Epoch {epoch} Train Start*****\")\n",
        "            \n",
        "            # 배치 단위 평균 loss와 총 평균 loss 계산하기위해 변수 생성\n",
        "            total_loss, batch_loss, batch_count = 0,0,0\n",
        "        \n",
        "            # model을 train 모드로 설정 & device 할당\n",
        "            model.train()\n",
        "            model.to(device)\n",
        "            \n",
        "            # data iterator를 돌면서 하나씩 학습\n",
        "            for step, batch in enumerate(train_dataloader):\n",
        "                batch_count+=1\n",
        "                \n",
        "                # tensor 연산 전, 각 tensor에 device 할당\n",
        "                batch = tuple(item.to(device) for item in batch)\n",
        "            \n",
        "                batch_input, batch_label = batch\n",
        "            \n",
        "                # batch마다 모델이 갖고 있는 기존 gradient를 초기화\n",
        "                model.zero_grad()\n",
        "            \n",
        "                # forward\n",
        "                logits = model(**batch_input)\n",
        "            \n",
        "                # loss\n",
        "                loss = loss_fct(logits, batch_label)\n",
        "                batch_loss += loss.item()\n",
        "                total_loss += loss.item()\n",
        "            \n",
        "                # backward -> 파라미터의 미분(gradient)를 자동으로 계산\n",
        "                loss.backward()\n",
        "                \n",
        "                # gradient clipping 적용 \n",
        "                clip_grad_norm_(model.parameters(), 1.0)\n",
        "                \n",
        "                # optimizer & scheduler 업데이트\n",
        "                optimizer.step()\n",
        "                scheduler.step()\n",
        "\n",
        "                # 배치 10개씩 처리할 때마다 평균 loss와 lr를 출력\n",
        "                if (step % 10 == 0 and step != 0):\n",
        "                    learning_rate = optimizer.param_groups[0]['lr']\n",
        "                    print(f\"Epoch: {epoch}, Step : {step}, LR : {learning_rate}, Avg Loss : {batch_loss / batch_count:.4f}\")\n",
        "\n",
        "                    # reset \n",
        "                    batch_loss, batch_count = 0,0\n",
        "            \n",
        "            print(f\"Epoch {epoch} Total Mean Loss : {total_loss/(step+1):.4f}\")\n",
        "            print(f\"*****Epoch {epoch} Train Finish*****\\n\")\n",
        "            \n",
        "            if valid_dataloader is not None:\n",
        "                print(f\"*****Epoch {epoch} Valid Start*****\")\n",
        "                valid_loss, valid_acc = validate(model, valid_dataloader)\n",
        "                print(f\"Epoch {epoch} Valid Loss : {valid_loss:.4f} Valid Acc : {valid_acc:.2f}\")\n",
        "                print(f\"*****Epoch {epoch} Valid Finish*****\\n\")\n",
        "\n",
        "            # early_stopping는 validation loss가 감소하였는지 확인이 필요하며,\n",
        "            #  만약 감소하였을경우 현제 모델을 checkpoint로 만든다.\n",
        "            early_stopping(valid_loss, model, optimizer, scheduler, epoch)\n",
        "\n",
        "            if early_stopping.early_stop:\n",
        "                print(\"Early stopping\")\n",
        "                break\n",
        "                \n",
        "            # checkpoint 저장\n",
        "            early_stopping.save_checkpoint(model, optimizer, scheduler, epoch, total_loss/(step+1))\n",
        "                \n",
        "        print(\"Train Completed. End Program.\")"
      ],
      "metadata": {
        "id": "kK09khnhJQfo"
      },
      "execution_count": 36,
      "outputs": []
    },
    {
      "cell_type": "code",
      "source": [
        "model, optimizer, scheduler = initializer(customModel, customOptimizer, train_dataloader, epochs)\n",
        "train_model(model, train_dataloader, valid_dataloader, epochs)"
      ],
      "metadata": {
        "colab": {
          "base_uri": "https://localhost:8080/"
        },
        "id": "4QLtohXGJUJF",
        "outputId": "12059914-e8e0-47fe-d662-ea13294eb046"
      },
      "execution_count": 118,
      "outputs": [
        {
          "output_type": "stream",
          "name": "stdout",
          "text": [
            "Total train steps with 4 epochs: 1312\n",
            "*****Epoch 1 Train Start*****\n",
            "Epoch: 1, Step : 10, LR : 1.9832317073170734e-05, Avg Loss : 1.7822\n",
            "Epoch: 1, Step : 20, LR : 1.967987804878049e-05, Avg Loss : 1.6527\n",
            "Epoch: 1, Step : 30, LR : 1.9527439024390245e-05, Avg Loss : 1.5382\n",
            "Epoch: 1, Step : 40, LR : 1.9375e-05, Avg Loss : 1.3295\n",
            "Epoch: 1, Step : 50, LR : 1.922256097560976e-05, Avg Loss : 1.2992\n",
            "Epoch: 1, Step : 60, LR : 1.9070121951219514e-05, Avg Loss : 1.2381\n",
            "Epoch: 1, Step : 70, LR : 1.891768292682927e-05, Avg Loss : 1.2564\n",
            "Epoch: 1, Step : 80, LR : 1.8765243902439025e-05, Avg Loss : 1.2593\n",
            "Epoch: 1, Step : 90, LR : 1.8612804878048783e-05, Avg Loss : 1.1673\n",
            "Epoch: 1, Step : 100, LR : 1.846036585365854e-05, Avg Loss : 1.1602\n",
            "Epoch: 1, Step : 110, LR : 1.8307926829268294e-05, Avg Loss : 1.1707\n",
            "Epoch: 1, Step : 120, LR : 1.815548780487805e-05, Avg Loss : 1.2081\n",
            "Epoch: 1, Step : 130, LR : 1.8003048780487808e-05, Avg Loss : 1.1373\n",
            "Epoch: 1, Step : 140, LR : 1.7850609756097563e-05, Avg Loss : 1.1288\n",
            "Epoch: 1, Step : 150, LR : 1.7698170731707318e-05, Avg Loss : 1.0916\n",
            "Epoch: 1, Step : 160, LR : 1.7545731707317074e-05, Avg Loss : 1.0855\n",
            "Epoch: 1, Step : 170, LR : 1.739329268292683e-05, Avg Loss : 1.0855\n",
            "Epoch: 1, Step : 180, LR : 1.7240853658536588e-05, Avg Loss : 1.0943\n",
            "Epoch: 1, Step : 190, LR : 1.7088414634146343e-05, Avg Loss : 1.1829\n",
            "Epoch: 1, Step : 200, LR : 1.6935975609756098e-05, Avg Loss : 1.2265\n",
            "Epoch: 1, Step : 210, LR : 1.6783536585365857e-05, Avg Loss : 1.0539\n",
            "Epoch: 1, Step : 220, LR : 1.6631097560975612e-05, Avg Loss : 1.0287\n",
            "Epoch: 1, Step : 230, LR : 1.6478658536585367e-05, Avg Loss : 1.0417\n",
            "Epoch: 1, Step : 240, LR : 1.6326219512195123e-05, Avg Loss : 1.1012\n",
            "Epoch: 1, Step : 250, LR : 1.617378048780488e-05, Avg Loss : 1.0747\n",
            "Epoch: 1, Step : 260, LR : 1.6021341463414633e-05, Avg Loss : 1.1087\n",
            "Epoch: 1, Step : 270, LR : 1.5868902439024392e-05, Avg Loss : 1.0039\n",
            "Epoch: 1, Step : 280, LR : 1.5716463414634147e-05, Avg Loss : 1.1210\n",
            "Epoch: 1, Step : 290, LR : 1.5564024390243902e-05, Avg Loss : 1.0686\n",
            "Epoch: 1, Step : 300, LR : 1.541158536585366e-05, Avg Loss : 1.0777\n",
            "Epoch: 1, Step : 310, LR : 1.5259146341463416e-05, Avg Loss : 1.0810\n",
            "Epoch: 1, Step : 320, LR : 1.5106707317073173e-05, Avg Loss : 1.1018\n",
            "Epoch 1 Total Mean Loss : 1.1853\n",
            "*****Epoch 1 Train Finish*****\n",
            "\n",
            "*****Epoch 1 Valid Start*****\n",
            "Epoch 1 Valid Loss : 0.9764 Valid Acc : 61.30\n",
            "*****Epoch 1 Valid Finish*****\n",
            "\n",
            "Saving epoch 1 checkpoint at /content/drive/MyDrive/NLP_project/model_ckpt_1\n",
            "Saving epoch 1 checkpoint at /content/drive/MyDrive/NLP_project/model_ckpt_1\n",
            "*****Epoch 2 Train Start*****\n",
            "Epoch: 2, Step : 10, LR : 1.4832317073170733e-05, Avg Loss : 1.1324\n",
            "Epoch: 2, Step : 20, LR : 1.467987804878049e-05, Avg Loss : 0.9037\n",
            "Epoch: 2, Step : 30, LR : 1.4527439024390243e-05, Avg Loss : 1.0308\n",
            "Epoch: 2, Step : 40, LR : 1.4375e-05, Avg Loss : 1.0323\n",
            "Epoch: 2, Step : 50, LR : 1.4222560975609757e-05, Avg Loss : 1.0091\n",
            "Epoch: 2, Step : 60, LR : 1.4070121951219513e-05, Avg Loss : 0.8630\n",
            "Epoch: 2, Step : 70, LR : 1.391768292682927e-05, Avg Loss : 1.0775\n",
            "Epoch: 2, Step : 80, LR : 1.3765243902439025e-05, Avg Loss : 0.9418\n",
            "Epoch: 2, Step : 90, LR : 1.3612804878048782e-05, Avg Loss : 1.0050\n",
            "Epoch: 2, Step : 100, LR : 1.3460365853658537e-05, Avg Loss : 0.9416\n",
            "Epoch: 2, Step : 110, LR : 1.3307926829268294e-05, Avg Loss : 0.9791\n",
            "Epoch: 2, Step : 120, LR : 1.315548780487805e-05, Avg Loss : 0.8660\n",
            "Epoch: 2, Step : 130, LR : 1.3003048780487806e-05, Avg Loss : 0.9951\n",
            "Epoch: 2, Step : 140, LR : 1.2850609756097563e-05, Avg Loss : 0.9317\n",
            "Epoch: 2, Step : 150, LR : 1.2698170731707317e-05, Avg Loss : 1.0175\n",
            "Epoch: 2, Step : 160, LR : 1.2545731707317074e-05, Avg Loss : 0.9805\n",
            "Epoch: 2, Step : 170, LR : 1.239329268292683e-05, Avg Loss : 1.0053\n",
            "Epoch: 2, Step : 180, LR : 1.2240853658536586e-05, Avg Loss : 0.9995\n",
            "Epoch: 2, Step : 190, LR : 1.2088414634146342e-05, Avg Loss : 1.0095\n",
            "Epoch: 2, Step : 200, LR : 1.1935975609756099e-05, Avg Loss : 1.0033\n",
            "Epoch: 2, Step : 210, LR : 1.1783536585365856e-05, Avg Loss : 0.9632\n",
            "Epoch: 2, Step : 220, LR : 1.163109756097561e-05, Avg Loss : 0.9725\n",
            "Epoch: 2, Step : 230, LR : 1.1478658536585368e-05, Avg Loss : 0.9059\n",
            "Epoch: 2, Step : 240, LR : 1.1326219512195123e-05, Avg Loss : 1.0151\n",
            "Epoch: 2, Step : 250, LR : 1.117378048780488e-05, Avg Loss : 0.8970\n",
            "Epoch: 2, Step : 260, LR : 1.1021341463414634e-05, Avg Loss : 0.9035\n",
            "Epoch: 2, Step : 270, LR : 1.086890243902439e-05, Avg Loss : 0.9469\n",
            "Epoch: 2, Step : 280, LR : 1.0716463414634146e-05, Avg Loss : 0.8791\n",
            "Epoch: 2, Step : 290, LR : 1.0564024390243903e-05, Avg Loss : 0.8284\n",
            "Epoch: 2, Step : 300, LR : 1.041158536585366e-05, Avg Loss : 0.9729\n",
            "Epoch: 2, Step : 310, LR : 1.0259146341463415e-05, Avg Loss : 0.9097\n",
            "Epoch: 2, Step : 320, LR : 1.0106707317073172e-05, Avg Loss : 0.8780\n",
            "Epoch 2 Total Mean Loss : 0.9647\n",
            "*****Epoch 2 Train Finish*****\n",
            "\n",
            "*****Epoch 2 Valid Start*****\n",
            "Epoch 2 Valid Loss : 0.9597 Valid Acc : 68.89\n",
            "*****Epoch 2 Valid Finish*****\n",
            "\n",
            "Saving epoch 2 checkpoint at /content/drive/MyDrive/NLP_project/model_ckpt_2\n",
            "Saving epoch 2 checkpoint at /content/drive/MyDrive/NLP_project/model_ckpt_2\n",
            "*****Epoch 3 Train Start*****\n",
            "Epoch: 3, Step : 10, LR : 9.832317073170733e-06, Avg Loss : 0.8297\n",
            "Epoch: 3, Step : 20, LR : 9.679878048780489e-06, Avg Loss : 0.8683\n",
            "Epoch: 3, Step : 30, LR : 9.527439024390246e-06, Avg Loss : 0.8954\n",
            "Epoch: 3, Step : 40, LR : 9.375000000000001e-06, Avg Loss : 0.7826\n",
            "Epoch: 3, Step : 50, LR : 9.222560975609756e-06, Avg Loss : 0.8974\n",
            "Epoch: 3, Step : 60, LR : 9.070121951219513e-06, Avg Loss : 0.7840\n",
            "Epoch: 3, Step : 70, LR : 8.917682926829268e-06, Avg Loss : 0.8967\n",
            "Epoch: 3, Step : 80, LR : 8.765243902439025e-06, Avg Loss : 0.8185\n",
            "Epoch: 3, Step : 90, LR : 8.612804878048782e-06, Avg Loss : 0.8178\n",
            "Epoch: 3, Step : 100, LR : 8.460365853658538e-06, Avg Loss : 0.8604\n",
            "Epoch: 3, Step : 110, LR : 8.307926829268293e-06, Avg Loss : 0.9391\n",
            "Epoch: 3, Step : 120, LR : 8.15548780487805e-06, Avg Loss : 0.9251\n",
            "Epoch: 3, Step : 130, LR : 8.003048780487805e-06, Avg Loss : 0.7956\n",
            "Epoch: 3, Step : 140, LR : 7.850609756097562e-06, Avg Loss : 0.8300\n",
            "Epoch: 3, Step : 150, LR : 7.698170731707317e-06, Avg Loss : 0.9277\n",
            "Epoch: 3, Step : 160, LR : 7.545731707317074e-06, Avg Loss : 0.7741\n",
            "Epoch: 3, Step : 170, LR : 7.393292682926831e-06, Avg Loss : 0.8225\n",
            "Epoch: 3, Step : 180, LR : 7.240853658536586e-06, Avg Loss : 0.9253\n",
            "Epoch: 3, Step : 190, LR : 7.088414634146342e-06, Avg Loss : 0.9060\n",
            "Epoch: 3, Step : 200, LR : 6.935975609756098e-06, Avg Loss : 0.8253\n",
            "Epoch: 3, Step : 210, LR : 6.783536585365854e-06, Avg Loss : 0.8669\n",
            "Epoch: 3, Step : 220, LR : 6.63109756097561e-06, Avg Loss : 0.9274\n",
            "Epoch: 3, Step : 230, LR : 6.478658536585366e-06, Avg Loss : 0.8314\n",
            "Epoch: 3, Step : 240, LR : 6.326219512195122e-06, Avg Loss : 0.8674\n",
            "Epoch: 3, Step : 250, LR : 6.173780487804879e-06, Avg Loss : 0.7763\n",
            "Epoch: 3, Step : 260, LR : 6.021341463414635e-06, Avg Loss : 0.9323\n",
            "Epoch: 3, Step : 270, LR : 5.868902439024391e-06, Avg Loss : 0.8473\n",
            "Epoch: 3, Step : 280, LR : 5.716463414634147e-06, Avg Loss : 0.8237\n",
            "Epoch: 3, Step : 290, LR : 5.5640243902439025e-06, Avg Loss : 0.8078\n",
            "Epoch: 3, Step : 300, LR : 5.411585365853659e-06, Avg Loss : 0.7526\n",
            "Epoch: 3, Step : 310, LR : 5.259146341463415e-06, Avg Loss : 0.7562\n",
            "Epoch: 3, Step : 320, LR : 5.106707317073171e-06, Avg Loss : 0.7791\n",
            "Epoch 3 Total Mean Loss : 0.8467\n",
            "*****Epoch 3 Train Finish*****\n",
            "\n",
            "*****Epoch 3 Valid Start*****\n",
            "Epoch 3 Valid Loss : 0.9772 Valid Acc : 70.96\n",
            "*****Epoch 3 Valid Finish*****\n",
            "\n",
            "EarlyStopping counter: 1 out of 1\n",
            "Early stopping\n",
            "Train Completed. End Program.\n"
          ]
        }
      ]
    },
    {
      "cell_type": "markdown",
      "source": [
        "## Evaluation"
      ],
      "metadata": {
        "id": "GFiQGULKrxfz"
      }
    },
    {
      "cell_type": "markdown",
      "source": [
        "### Load checkpoint"
      ],
      "metadata": {
        "id": "4aim45otF4si"
      }
    },
    {
      "cell_type": "code",
      "source": [
        "best_epoch = input()\n",
        "checkpoint = torch.load(f'./model_ckpt_{best_epoch}')"
      ],
      "metadata": {
        "colab": {
          "base_uri": "https://localhost:8080/"
        },
        "id": "I4StQ5rCRPJt",
        "outputId": "be0d0543-00fd-44f1-e78a-17bbd3f20662"
      },
      "execution_count": null,
      "outputs": [
        {
          "name": "stdout",
          "output_type": "stream",
          "text": [
            "3\n"
          ]
        }
      ]
    },
    {
      "cell_type": "code",
      "source": [
        "checkpoint.keys()"
      ],
      "metadata": {
        "colab": {
          "base_uri": "https://localhost:8080/"
        },
        "id": "HSy2twvbRSHd",
        "outputId": "92038ba9-2f0e-4b59-ca6c-97209c31ebfa"
      },
      "execution_count": null,
      "outputs": [
        {
          "output_type": "execute_result",
          "data": {
            "text/plain": [
              "dict_keys(['epoch', 'model_state_dict', 'optimizer_state_dict', 'scheduler_state_dict', 'loss'])"
            ]
          },
          "metadata": {},
          "execution_count": 76
        }
      ]
    },
    {
      "cell_type": "code",
      "source": [
        "epochs=1\n",
        "model, optimizer, scheduler = initializer(customModel, customOptimizer, train_dataloader, epochs)"
      ],
      "metadata": {
        "colab": {
          "base_uri": "https://localhost:8080/"
        },
        "id": "kOuSODA6RSQ9",
        "outputId": "740e836c-e715-435e-814c-aac89b3dd771"
      },
      "execution_count": null,
      "outputs": [
        {
          "output_type": "stream",
          "name": "stdout",
          "text": [
            "Total train steps with 1 epochs: 328\n"
          ]
        }
      ]
    },
    {
      "cell_type": "code",
      "source": [
        "model.load_state_dict(checkpoint[\"model_state_dict\"])"
      ],
      "metadata": {
        "colab": {
          "base_uri": "https://localhost:8080/"
        },
        "id": "AAoxlaI_RSTb",
        "outputId": "a5ce07be-f11a-4461-92e3-d9e39aea8e17"
      },
      "execution_count": null,
      "outputs": [
        {
          "output_type": "execute_result",
          "data": {
            "text/plain": [
              "<All keys matched successfully>"
            ]
          },
          "metadata": {},
          "execution_count": 82
        }
      ]
    },
    {
      "cell_type": "markdown",
      "source": [
        "### predict and evaluate"
      ],
      "metadata": {
        "id": "w1uKfufLF8kC"
      }
    },
    {
      "cell_type": "code",
      "source": [
        "def predict(model, test_dataloader):\n",
        "    \"\"\"\n",
        "    test_dataloader의 label별 확률값과 실제 label 값을 반환\n",
        "    \"\"\"\n",
        "\n",
        "    model.eval()\n",
        "    model.to(device)\n",
        "\n",
        "    all_logits = []\n",
        "    all_labels = []\n",
        "\n",
        "    for step, batch in enumerate(test_dataloader):\n",
        "        print(f\"{step}/{len(test_dataloader)}\")\n",
        "        \n",
        "        batch_input, batch_label = batch\n",
        "        \n",
        "        batch_input = batch_input.to(device)\n",
        "        \n",
        "        with torch.no_grad():\n",
        "            logits = model(**batch_input)\n",
        "            all_logits.append(logits)\n",
        "        all_labels.extend(batch_label)\n",
        "\n",
        "    all_logits = torch.cat(all_logits, dim=0)\n",
        "    probs = F.softmax(all_logits, dim=1).cpu().numpy()\n",
        "    all_labels = np.array(all_labels)\n",
        "\n",
        "    return probs, all_labels\n"
      ],
      "metadata": {
        "id": "UhtXfy8kJvMR"
      },
      "execution_count": 37,
      "outputs": []
    },
    {
      "cell_type": "code",
      "source": [
        "probs, labels = predict(model, test_dataloader)"
      ],
      "metadata": {
        "id": "NQAuNkxRRdxw",
        "colab": {
          "base_uri": "https://localhost:8080/"
        },
        "outputId": "1b648e50-dc6b-463b-a0dc-24a69e226845"
      },
      "execution_count": 119,
      "outputs": [
        {
          "output_type": "stream",
          "name": "stdout",
          "text": [
            "0/9\n",
            "1/9\n",
            "2/9\n",
            "3/9\n",
            "4/9\n",
            "5/9\n",
            "6/9\n",
            "7/9\n",
            "8/9\n"
          ]
        }
      ]
    },
    {
      "cell_type": "code",
      "source": [
        "pred = list(map(np.argmax,probs))"
      ],
      "metadata": {
        "id": "MjSIuizoaVg1"
      },
      "execution_count": 120,
      "outputs": []
    },
    {
      "cell_type": "code",
      "source": [
        "from sklearn.metrics import f1_score, accuracy_score\n",
        "from scipy.stats import pearsonr\n",
        "def evaluate(pred, test):\n",
        "    pred_binary = list(map(lambda x: 1 if x>=3 else 0, pred))\n",
        "    test_binary_label = list(map(lambda x: 1 if x>=3 else 0, test))\n",
        "    print(f'acc : {accuracy_score(test_binary_label, pred_binary)}')\n",
        "    print(f'f1 : {f1_score(test_binary_label, pred_binary)}')\n",
        "    print(f'pearson : {pearsonr(test, pred)}')\n",
        "    return f1_score(test_binary_label, pred_binary)\n",
        "    "
      ],
      "metadata": {
        "id": "r_CM_p_SzS3t"
      },
      "execution_count": 38,
      "outputs": []
    },
    {
      "cell_type": "code",
      "source": [
        "evaluate(pred, labels)"
      ],
      "metadata": {
        "colab": {
          "base_uri": "https://localhost:8080/"
        },
        "id": "Sv_HfFaARi6o",
        "outputId": "aff0cb65-5eb4-4bb2-d22e-54e2fe4f87bb"
      },
      "execution_count": 121,
      "outputs": [
        {
          "output_type": "stream",
          "name": "stdout",
          "text": [
            "acc : 0.789980732177264\n",
            "f1 : 0.7583148558758315\n",
            "pearson : (0.7703758708885954, 4.033363147548586e-103)\n"
          ]
        },
        {
          "output_type": "execute_result",
          "data": {
            "text/plain": [
              "0.7583148558758315"
            ]
          },
          "metadata": {},
          "execution_count": 121
        }
      ]
    },
    {
      "cell_type": "markdown",
      "source": [
        "### Save outputs"
      ],
      "metadata": {
        "id": "UwfT52-LGDrR"
      }
    },
    {
      "cell_type": "code",
      "source": [
        "output = pd.DataFrame(labels,columns=['pred_real_label'])\n",
        "filename = input()\n",
        "output.to_csv(f'{filename}.csv')"
      ],
      "metadata": {
        "colab": {
          "base_uri": "https://localhost:8080/"
        },
        "id": "cWOiLVeOGFay",
        "outputId": "b1083e19-263f-487d-a6d4-4d644370f1cf"
      },
      "execution_count": null,
      "outputs": [
        {
          "name": "stdout",
          "output_type": "stream",
          "text": [
            "first_pred\n"
          ]
        }
      ]
    },
    {
      "cell_type": "code",
      "source": [
        "torch.save(model.state_dict(), 'model_weights.pth')"
      ],
      "metadata": {
        "id": "G7e_OlKR4qni"
      },
      "execution_count": null,
      "outputs": []
    },
    {
      "cell_type": "markdown",
      "source": [
        "## Load model weights"
      ],
      "metadata": {
        "id": "ODz2YVO45-MW"
      }
    },
    {
      "cell_type": "code",
      "source": [
        "model = Bert_baseline(hidden_size=768, n_label=6)"
      ],
      "metadata": {
        "id": "nNiDZphx5FXK",
        "outputId": "0ee120c1-cc92-4a8d-ce9b-4f7772b7bb97",
        "colab": {
          "base_uri": "https://localhost:8080/"
        }
      },
      "execution_count": null,
      "outputs": [
        {
          "output_type": "stream",
          "name": "stderr",
          "text": [
            "Some weights of the model checkpoint at klue/bert-base were not used when initializing BertModel: ['cls.seq_relationship.weight', 'cls.predictions.decoder.weight', 'cls.predictions.transform.dense.bias', 'cls.seq_relationship.bias', 'cls.predictions.bias', 'cls.predictions.transform.LayerNorm.bias', 'cls.predictions.transform.LayerNorm.weight', 'cls.predictions.decoder.bias', 'cls.predictions.transform.dense.weight']\n",
            "- This IS expected if you are initializing BertModel from the checkpoint of a model trained on another task or with another architecture (e.g. initializing a BertForSequenceClassification model from a BertForPreTraining model).\n",
            "- This IS NOT expected if you are initializing BertModel from the checkpoint of a model that you expect to be exactly identical (initializing a BertForSequenceClassification model from a BertForSequenceClassification model).\n"
          ]
        }
      ]
    },
    {
      "cell_type": "code",
      "source": [
        "model.load_state_dict(torch.load('model_weights.pth'))\n",
        "model.eval()\n",
        "probs, labels = predict(model, test_dataloader)"
      ],
      "metadata": {
        "id": "rG_D-WBV5kMU",
        "outputId": "4effe6e2-a9ea-46d8-ecf4-c442a3939ed2",
        "colab": {
          "base_uri": "https://localhost:8080/"
        }
      },
      "execution_count": null,
      "outputs": [
        {
          "output_type": "stream",
          "name": "stdout",
          "text": [
            "0/9\n",
            "1/9\n",
            "2/9\n",
            "3/9\n",
            "4/9\n",
            "5/9\n",
            "6/9\n",
            "7/9\n",
            "8/9\n"
          ]
        }
      ]
    },
    {
      "cell_type": "code",
      "source": [
        "pred = list(map(np.argmax,probs))\n",
        "evaluate(pred, labels)"
      ],
      "metadata": {
        "id": "vzg0kIpZ5z66",
        "outputId": "4961f688-3c8b-4f89-94fc-ac026e7fe063",
        "colab": {
          "base_uri": "https://localhost:8080/"
        }
      },
      "execution_count": null,
      "outputs": [
        {
          "output_type": "stream",
          "name": "stdout",
          "text": [
            "acc : 0.7533718689788054\n",
            "f1 : 0.7697841726618705\n",
            "pearson : (0.7789983354145806, 7.071859924703616e-107)\n"
          ]
        }
      ]
    },
    {
      "cell_type": "markdown",
      "source": [
        "## Hyperparameter tuning"
      ],
      "metadata": {
        "id": "ZDS8IJNaVyB1"
      }
    },
    {
      "cell_type": "code",
      "source": [
        "!pip install optuna"
      ],
      "metadata": {
        "id": "C91sdB_P6Cym",
        "outputId": "a1792743-b609-4176-af1f-788d09947ed6",
        "colab": {
          "base_uri": "https://localhost:8080/"
        }
      },
      "execution_count": 122,
      "outputs": [
        {
          "output_type": "stream",
          "name": "stdout",
          "text": [
            "Looking in indexes: https://pypi.org/simple, https://us-python.pkg.dev/colab-wheels/public/simple/\n",
            "Collecting optuna\n",
            "  Downloading optuna-2.10.0-py3-none-any.whl (308 kB)\n",
            "\u001b[K     |████████████████████████████████| 308 kB 14.6 MB/s \n",
            "\u001b[?25hRequirement already satisfied: numpy in /usr/local/lib/python3.7/dist-packages (from optuna) (1.21.6)\n",
            "Requirement already satisfied: PyYAML in /usr/local/lib/python3.7/dist-packages (from optuna) (6.0)\n",
            "Collecting cmaes>=0.8.2\n",
            "  Downloading cmaes-0.8.2-py3-none-any.whl (15 kB)\n",
            "Requirement already satisfied: sqlalchemy>=1.1.0 in /usr/local/lib/python3.7/dist-packages (from optuna) (1.4.36)\n",
            "Requirement already satisfied: tqdm in /usr/local/lib/python3.7/dist-packages (from optuna) (4.64.0)\n",
            "Collecting cliff\n",
            "  Downloading cliff-3.10.1-py3-none-any.whl (81 kB)\n",
            "\u001b[K     |████████████████████████████████| 81 kB 12.3 MB/s \n",
            "\u001b[?25hCollecting colorlog\n",
            "  Downloading colorlog-6.6.0-py2.py3-none-any.whl (11 kB)\n",
            "Requirement already satisfied: packaging>=20.0 in /usr/local/lib/python3.7/dist-packages (from optuna) (21.3)\n",
            "Requirement already satisfied: scipy!=1.4.0 in /usr/local/lib/python3.7/dist-packages (from optuna) (1.4.1)\n",
            "Collecting alembic\n",
            "  Downloading alembic-1.7.7-py3-none-any.whl (210 kB)\n",
            "\u001b[K     |████████████████████████████████| 210 kB 72.3 MB/s \n",
            "\u001b[?25hRequirement already satisfied: pyparsing!=3.0.5,>=2.0.2 in /usr/local/lib/python3.7/dist-packages (from packaging>=20.0->optuna) (3.0.9)\n",
            "Requirement already satisfied: greenlet!=0.4.17 in /usr/local/lib/python3.7/dist-packages (from sqlalchemy>=1.1.0->optuna) (1.1.2)\n",
            "Requirement already satisfied: importlib-metadata in /usr/local/lib/python3.7/dist-packages (from sqlalchemy>=1.1.0->optuna) (4.11.3)\n",
            "Collecting Mako\n",
            "  Downloading Mako-1.2.0-py3-none-any.whl (78 kB)\n",
            "\u001b[K     |████████████████████████████████| 78 kB 9.2 MB/s \n",
            "\u001b[?25hRequirement already satisfied: importlib-resources in /usr/local/lib/python3.7/dist-packages (from alembic->optuna) (5.7.1)\n",
            "Requirement already satisfied: PrettyTable>=0.7.2 in /usr/local/lib/python3.7/dist-packages (from cliff->optuna) (3.3.0)\n",
            "Collecting cmd2>=1.0.0\n",
            "  Downloading cmd2-2.4.1-py3-none-any.whl (146 kB)\n",
            "\u001b[K     |████████████████████████████████| 146 kB 75.7 MB/s \n",
            "\u001b[?25hCollecting autopage>=0.4.0\n",
            "  Downloading autopage-0.5.1-py3-none-any.whl (29 kB)\n",
            "Collecting stevedore>=2.0.1\n",
            "  Downloading stevedore-3.5.0-py3-none-any.whl (49 kB)\n",
            "\u001b[K     |████████████████████████████████| 49 kB 7.3 MB/s \n",
            "\u001b[?25hCollecting pbr!=2.1.0,>=2.0.0\n",
            "  Downloading pbr-5.9.0-py2.py3-none-any.whl (112 kB)\n",
            "\u001b[K     |████████████████████████████████| 112 kB 66.7 MB/s \n",
            "\u001b[?25hRequirement already satisfied: wcwidth>=0.1.7 in /usr/local/lib/python3.7/dist-packages (from cmd2>=1.0.0->cliff->optuna) (0.2.5)\n",
            "Collecting pyperclip>=1.6\n",
            "  Downloading pyperclip-1.8.2.tar.gz (20 kB)\n",
            "Requirement already satisfied: attrs>=16.3.0 in /usr/local/lib/python3.7/dist-packages (from cmd2>=1.0.0->cliff->optuna) (21.4.0)\n",
            "Requirement already satisfied: typing-extensions in /usr/local/lib/python3.7/dist-packages (from cmd2>=1.0.0->cliff->optuna) (4.2.0)\n",
            "Requirement already satisfied: zipp>=0.5 in /usr/local/lib/python3.7/dist-packages (from importlib-metadata->sqlalchemy>=1.1.0->optuna) (3.8.0)\n",
            "Requirement already satisfied: MarkupSafe>=0.9.2 in /usr/local/lib/python3.7/dist-packages (from Mako->alembic->optuna) (2.0.1)\n",
            "Building wheels for collected packages: pyperclip\n",
            "  Building wheel for pyperclip (setup.py) ... \u001b[?25l\u001b[?25hdone\n",
            "  Created wheel for pyperclip: filename=pyperclip-1.8.2-py3-none-any.whl size=11137 sha256=564d77cf348a0cd5c7121989ff9d940a1265ce345096a710987aea97dc358e32\n",
            "  Stored in directory: /root/.cache/pip/wheels/9f/18/84/8f69f8b08169c7bae2dde6bd7daf0c19fca8c8e500ee620a28\n",
            "Successfully built pyperclip\n",
            "Installing collected packages: pyperclip, pbr, stevedore, Mako, cmd2, autopage, colorlog, cmaes, cliff, alembic, optuna\n",
            "Successfully installed Mako-1.2.0 alembic-1.7.7 autopage-0.5.1 cliff-3.10.1 cmaes-0.8.2 cmd2-2.4.1 colorlog-6.6.0 optuna-2.10.0 pbr-5.9.0 pyperclip-1.8.2 stevedore-3.5.0\n"
          ]
        }
      ]
    },
    {
      "cell_type": "code",
      "source": [
        "# argument setting\n",
        "train_batch_size = 32\n",
        "eval_batch_size = 64\n",
        "epochs=4\n",
        "patience=1\n",
        "\n",
        "loss_fct = nn.CrossEntropyLoss()\n",
        "tokenizer = BertTokenizer.from_pretrained(\"klue/bert-base\")\n",
        "customModel = Bert_baseline(hidden_size=768, n_label=6)"
      ],
      "metadata": {
        "id": "GiELJugZC85y",
        "outputId": "9e345fc2-c080-44f2-99e8-1090d1537d8f",
        "colab": {
          "base_uri": "https://localhost:8080/"
        }
      },
      "execution_count": 123,
      "outputs": [
        {
          "output_type": "stream",
          "name": "stderr",
          "text": [
            "Some weights of the model checkpoint at klue/bert-base were not used when initializing BertModel: ['cls.predictions.transform.LayerNorm.bias', 'cls.predictions.transform.LayerNorm.weight', 'cls.predictions.transform.dense.weight', 'cls.seq_relationship.bias', 'cls.predictions.transform.dense.bias', 'cls.seq_relationship.weight', 'cls.predictions.decoder.weight', 'cls.predictions.bias', 'cls.predictions.decoder.bias']\n",
            "- This IS expected if you are initializing BertModel from the checkpoint of a model trained on another task or with another architecture (e.g. initializing a BertForSequenceClassification model from a BertForPreTraining model).\n",
            "- This IS NOT expected if you are initializing BertModel from the checkpoint of a model that you expect to be exactly identical (initializing a BertForSequenceClassification model from a BertForSequenceClassification model).\n"
          ]
        }
      ]
    },
    {
      "cell_type": "code",
      "source": [
        "import optuna\n",
        "\n",
        "def objective(trial):  # `trial` is an object passed by Optuna.\n",
        "\n",
        "    lr = trial.suggest_float(\"lr\",1e-5,1e-1,log=True)\n",
        "\n",
        "    customOptimizer = AdamW(\n",
        "        customModel.parameters(), # update 대상 파라미터를 입력\n",
        "        lr=lr,\n",
        "        eps=1e-8\n",
        "    )\n",
        "    train_dataloader = DataLoader(\n",
        "        train_dataset,\n",
        "        batch_size = train_batch_size,\n",
        "        sampler = RandomSampler(train_dataset),\n",
        "        collate_fn = custom_collate_fn\n",
        "    )\n",
        "\n",
        "    valid_dataloader = DataLoader(\n",
        "        valid_dataset,\n",
        "        batch_size = eval_batch_size,\n",
        "        sampler = SequentialSampler(valid_dataset),\n",
        "        collate_fn = custom_collate_fn\n",
        "    )\n",
        "    model, optimizer, scheduler = initializer(customModel, customOptimizer, train_dataloader, epochs)\n",
        "\n",
        "    \n",
        "    loss_list=[]\n",
        "    # train_dataloaer 학습을 epochs만큼 반복\n",
        "    for epoch in range(1, epochs + 1):\n",
        "        print(f\"*****Epoch {epoch} Train Start*****\")\n",
        "        \n",
        "        # 배치 단위 평균 loss와 총 평균 loss 계산하기위해 변수 생성\n",
        "        total_loss, batch_loss, batch_count = 0,0,0\n",
        "    \n",
        "        # model을 train 모드로 설정 & device 할당\n",
        "        model.train()\n",
        "        model.to(device)\n",
        "        \n",
        "        # data iterator를 돌면서 하나씩 학습\n",
        "        for step, batch in enumerate(train_dataloader):\n",
        "            batch_count+=1\n",
        "            \n",
        "            # tensor 연산 전, 각 tensor에 device 할당\n",
        "            batch = tuple(item.to(device) for item in batch)\n",
        "        \n",
        "            batch_input, batch_label = batch\n",
        "        \n",
        "            # batch마다 모델이 갖고 있는 기존 gradient를 초기화\n",
        "            model.zero_grad()\n",
        "        \n",
        "            # forward\n",
        "            logits = model(**batch_input)\n",
        "        \n",
        "            # loss\n",
        "            loss = loss_fct(logits, batch_label)\n",
        "            batch_loss += loss.item()\n",
        "            total_loss += loss.item()\n",
        "        \n",
        "            # backward -> 파라미터의 미분(gradient)를 자동으로 계산\n",
        "            loss.backward()\n",
        "            \n",
        "            # gradient clipping 적용 \n",
        "            clip_grad_norm_(model.parameters(), 1.0)\n",
        "            \n",
        "            # optimizer & scheduler 업데이트\n",
        "            optimizer.step()\n",
        "            scheduler.step()\n",
        "\n",
        "            # 배치 10개씩 처리할 때마다 평균 loss와 lr를 출력\n",
        "            if (step % 10 == 0 and step != 0):\n",
        "                learning_rate = optimizer.param_groups[0]['lr']\n",
        "                print(f\"Epoch: {epoch}, Step : {step}, LR : {learning_rate}, Avg Loss : {batch_loss / batch_count:.4f}\")\n",
        "\n",
        "                # reset \n",
        "                batch_loss, batch_count = 0,0\n",
        "        \n",
        "        print(f\"Epoch {epoch} Total Mean Loss : {total_loss/(step+1):.4f}\")\n",
        "        print(f\"*****Epoch {epoch} Train Finish*****\\n\")\n",
        "        \n",
        "        if valid_dataloader is not None:\n",
        "            print(f\"*****Epoch {epoch} Valid Start*****\")\n",
        "            valid_loss, valid_acc = validate(model, valid_dataloader)\n",
        "            print(f\"Epoch {epoch} Valid Loss : {valid_loss:.4f} Valid Acc : {valid_acc:.2f}\")\n",
        "            print(f\"*****Epoch {epoch} Valid Finish*****\\n\")\n",
        "        loss_list.append(valid_loss)\n",
        "    \n",
        "    return min(loss_list)\n",
        "\n",
        "study = optuna.create_study(direction='minimize')\n",
        "study.optimize(objective, n_trials=100, timeout=600)  # Specify the number of trials. "
      ],
      "metadata": {
        "id": "jksNuvvL6C03",
        "outputId": "58d15799-3e7e-488a-eddd-6c00c1847ddc",
        "colab": {
          "base_uri": "https://localhost:8080/"
        }
      },
      "execution_count": 124,
      "outputs": [
        {
          "metadata": {
            "tags": null
          },
          "name": "stderr",
          "output_type": "stream",
          "text": [
            "\u001b[32m[I 2022-05-29 04:25:40,374]\u001b[0m A new study created in memory with name: no-name-7984f4d7-37b9-4ba9-a921-04dbb67db5c9\u001b[0m\n",
            "/usr/local/lib/python3.7/dist-packages/transformers/optimization.py:309: FutureWarning: This implementation of AdamW is deprecated and will be removed in a future version. Use the PyTorch implementation torch.optim.AdamW instead, or set `no_deprecation_warning=True` to disable this warning\n",
            "  FutureWarning,\n"
          ]
        },
        {
          "metadata": {
            "tags": null
          },
          "name": "stdout",
          "output_type": "stream",
          "text": [
            "Total train steps with 4 epochs: 1312\n",
            "*****Epoch 1 Train Start*****\n",
            "Epoch: 1, Step : 10, LR : 1.774278655621045e-05, Avg Loss : 1.6451\n",
            "Epoch: 1, Step : 20, LR : 1.7606408488906756e-05, Avg Loss : 1.5946\n",
            "Epoch: 1, Step : 30, LR : 1.7470030421603063e-05, Avg Loss : 1.4826\n",
            "Epoch: 1, Step : 40, LR : 1.7333652354299372e-05, Avg Loss : 1.4404\n",
            "Epoch: 1, Step : 50, LR : 1.719727428699568e-05, Avg Loss : 1.3911\n",
            "Epoch: 1, Step : 60, LR : 1.7060896219691985e-05, Avg Loss : 1.2810\n",
            "Epoch: 1, Step : 70, LR : 1.6924518152388294e-05, Avg Loss : 1.2596\n",
            "Epoch: 1, Step : 80, LR : 1.6788140085084597e-05, Avg Loss : 1.3690\n",
            "Epoch: 1, Step : 90, LR : 1.6651762017780907e-05, Avg Loss : 1.2826\n",
            "Epoch: 1, Step : 100, LR : 1.6515383950477213e-05, Avg Loss : 1.1932\n",
            "Epoch: 1, Step : 110, LR : 1.637900588317352e-05, Avg Loss : 1.3056\n",
            "Epoch: 1, Step : 120, LR : 1.6242627815869826e-05, Avg Loss : 1.2231\n",
            "Epoch: 1, Step : 130, LR : 1.6106249748566135e-05, Avg Loss : 1.1162\n",
            "Epoch: 1, Step : 140, LR : 1.596987168126244e-05, Avg Loss : 1.1650\n",
            "Epoch: 1, Step : 150, LR : 1.5833493613958748e-05, Avg Loss : 1.1912\n",
            "Epoch: 1, Step : 160, LR : 1.5697115546655057e-05, Avg Loss : 1.1373\n",
            "Epoch: 1, Step : 170, LR : 1.5560737479351364e-05, Avg Loss : 1.0929\n",
            "Epoch: 1, Step : 180, LR : 1.542435941204767e-05, Avg Loss : 1.1161\n",
            "Epoch: 1, Step : 190, LR : 1.5287981344743976e-05, Avg Loss : 1.1794\n",
            "Epoch: 1, Step : 200, LR : 1.5151603277440284e-05, Avg Loss : 1.2166\n",
            "Epoch: 1, Step : 210, LR : 1.5015225210136592e-05, Avg Loss : 1.1675\n",
            "Epoch: 1, Step : 220, LR : 1.4878847142832898e-05, Avg Loss : 1.2021\n",
            "Epoch: 1, Step : 230, LR : 1.4742469075529206e-05, Avg Loss : 1.1123\n",
            "Epoch: 1, Step : 240, LR : 1.4606091008225513e-05, Avg Loss : 1.0442\n",
            "Epoch: 1, Step : 250, LR : 1.446971294092182e-05, Avg Loss : 1.0354\n",
            "Epoch: 1, Step : 260, LR : 1.4333334873618125e-05, Avg Loss : 1.1825\n",
            "Epoch: 1, Step : 270, LR : 1.4196956806314433e-05, Avg Loss : 1.1664\n",
            "Epoch: 1, Step : 280, LR : 1.406057873901074e-05, Avg Loss : 1.1846\n",
            "Epoch: 1, Step : 290, LR : 1.3924200671707047e-05, Avg Loss : 1.2666\n",
            "Epoch: 1, Step : 300, LR : 1.3787822604403355e-05, Avg Loss : 1.1541\n",
            "Epoch: 1, Step : 310, LR : 1.3651444537099661e-05, Avg Loss : 1.1104\n",
            "Epoch: 1, Step : 320, LR : 1.351506646979597e-05, Avg Loss : 1.0767\n",
            "Epoch 1 Total Mean Loss : 1.2285\n",
            "*****Epoch 1 Train Finish*****\n",
            "\n",
            "*****Epoch 1 Valid Start*****\n",
            "Epoch 1 Valid Loss : 1.0257 Valid Acc : 60.60\n",
            "*****Epoch 1 Valid Finish*****\n",
            "\n",
            "*****Epoch 2 Train Start*****\n",
            "Epoch: 2, Step : 10, LR : 1.3269585948649321e-05, Avg Loss : 1.1358\n",
            "Epoch: 2, Step : 20, LR : 1.313320788134563e-05, Avg Loss : 1.0350\n",
            "Epoch: 2, Step : 30, LR : 1.2996829814041936e-05, Avg Loss : 1.0522\n",
            "Epoch: 2, Step : 40, LR : 1.2860451746738243e-05, Avg Loss : 1.1015\n",
            "Epoch: 2, Step : 50, LR : 1.2724073679434551e-05, Avg Loss : 1.0704\n",
            "Epoch: 2, Step : 60, LR : 1.2587695612130858e-05, Avg Loss : 1.0757\n",
            "Epoch: 2, Step : 70, LR : 1.2451317544827166e-05, Avg Loss : 1.1181\n",
            "Epoch: 2, Step : 80, LR : 1.231493947752347e-05, Avg Loss : 0.9917\n",
            "Epoch: 2, Step : 90, LR : 1.2178561410219778e-05, Avg Loss : 0.9981\n",
            "Epoch: 2, Step : 100, LR : 1.2042183342916084e-05, Avg Loss : 1.0008\n",
            "Epoch: 2, Step : 110, LR : 1.1905805275612392e-05, Avg Loss : 0.9209\n",
            "Epoch: 2, Step : 120, LR : 1.1769427208308699e-05, Avg Loss : 1.0293\n",
            "Epoch: 2, Step : 130, LR : 1.1633049141005007e-05, Avg Loss : 0.9058\n",
            "Epoch: 2, Step : 140, LR : 1.1496671073701314e-05, Avg Loss : 0.8854\n",
            "Epoch: 2, Step : 150, LR : 1.136029300639762e-05, Avg Loss : 1.0546\n",
            "Epoch: 2, Step : 160, LR : 1.1223914939093929e-05, Avg Loss : 1.0070\n",
            "Epoch: 2, Step : 170, LR : 1.1087536871790235e-05, Avg Loss : 0.9886\n",
            "Epoch: 2, Step : 180, LR : 1.0951158804486543e-05, Avg Loss : 0.8988\n",
            "Epoch: 2, Step : 190, LR : 1.0814780737182847e-05, Avg Loss : 0.9403\n",
            "Epoch: 2, Step : 200, LR : 1.0678402669879155e-05, Avg Loss : 0.8767\n",
            "Epoch: 2, Step : 210, LR : 1.0542024602575463e-05, Avg Loss : 1.0055\n",
            "Epoch: 2, Step : 220, LR : 1.040564653527177e-05, Avg Loss : 0.9100\n",
            "Epoch: 2, Step : 230, LR : 1.0269268467968077e-05, Avg Loss : 0.9296\n",
            "Epoch: 2, Step : 240, LR : 1.0132890400664384e-05, Avg Loss : 0.9574\n",
            "Epoch: 2, Step : 250, LR : 9.996512333360692e-06, Avg Loss : 0.9204\n",
            "Epoch: 2, Step : 260, LR : 9.860134266056998e-06, Avg Loss : 0.8745\n",
            "Epoch: 2, Step : 270, LR : 9.723756198753306e-06, Avg Loss : 0.9316\n",
            "Epoch: 2, Step : 280, LR : 9.587378131449612e-06, Avg Loss : 0.9103\n",
            "Epoch: 2, Step : 290, LR : 9.45100006414592e-06, Avg Loss : 0.8503\n",
            "Epoch: 2, Step : 300, LR : 9.314621996842228e-06, Avg Loss : 0.8950\n",
            "Epoch: 2, Step : 310, LR : 9.178243929538534e-06, Avg Loss : 0.8955\n",
            "Epoch: 2, Step : 320, LR : 9.041865862234842e-06, Avg Loss : 0.9406\n",
            "Epoch 2 Total Mean Loss : 0.9721\n",
            "*****Epoch 2 Train Finish*****\n",
            "\n",
            "*****Epoch 2 Valid Start*****\n",
            "Epoch 2 Valid Loss : 0.9024 Valid Acc : 74.31\n",
            "*****Epoch 2 Valid Finish*****\n",
            "\n",
            "*****Epoch 3 Train Start*****\n",
            "Epoch: 3, Step : 10, LR : 8.796385341088194e-06, Avg Loss : 0.8106\n",
            "Epoch: 3, Step : 20, LR : 8.6600072737845e-06, Avg Loss : 0.8296\n",
            "Epoch: 3, Step : 30, LR : 8.523629206480808e-06, Avg Loss : 0.9073\n",
            "Epoch: 3, Step : 40, LR : 8.387251139177115e-06, Avg Loss : 0.7794\n",
            "Epoch: 3, Step : 50, LR : 8.250873071873423e-06, Avg Loss : 0.8234\n",
            "Epoch: 3, Step : 60, LR : 8.114495004569729e-06, Avg Loss : 0.8571\n",
            "Epoch: 3, Step : 70, LR : 7.978116937266035e-06, Avg Loss : 0.8760\n",
            "Epoch: 3, Step : 80, LR : 7.841738869962343e-06, Avg Loss : 0.8907\n",
            "Epoch: 3, Step : 90, LR : 7.705360802658651e-06, Avg Loss : 0.7691\n",
            "Epoch: 3, Step : 100, LR : 7.568982735354958e-06, Avg Loss : 0.8304\n",
            "Epoch: 3, Step : 110, LR : 7.432604668051264e-06, Avg Loss : 0.8831\n",
            "Epoch: 3, Step : 120, LR : 7.2962266007475714e-06, Avg Loss : 0.8300\n",
            "Epoch: 3, Step : 130, LR : 7.1598485334438785e-06, Avg Loss : 0.7924\n",
            "Epoch: 3, Step : 140, LR : 7.023470466140186e-06, Avg Loss : 0.9141\n",
            "Epoch: 3, Step : 150, LR : 6.887092398836493e-06, Avg Loss : 0.8813\n",
            "Epoch: 3, Step : 160, LR : 6.750714331532799e-06, Avg Loss : 0.8581\n",
            "Epoch: 3, Step : 170, LR : 6.614336264229107e-06, Avg Loss : 0.8679\n",
            "Epoch: 3, Step : 180, LR : 6.477958196925414e-06, Avg Loss : 0.8774\n",
            "Epoch: 3, Step : 190, LR : 6.341580129621721e-06, Avg Loss : 0.8934\n",
            "Epoch: 3, Step : 200, LR : 6.205202062318028e-06, Avg Loss : 0.7250\n",
            "Epoch: 3, Step : 210, LR : 6.068823995014335e-06, Avg Loss : 0.8108\n",
            "Epoch: 3, Step : 220, LR : 5.9324459277106424e-06, Avg Loss : 0.8627\n",
            "Epoch: 3, Step : 230, LR : 5.796067860406949e-06, Avg Loss : 0.9213\n",
            "Epoch: 3, Step : 240, LR : 5.659689793103256e-06, Avg Loss : 0.8384\n",
            "Epoch: 3, Step : 250, LR : 5.523311725799564e-06, Avg Loss : 0.7635\n",
            "Epoch: 3, Step : 260, LR : 5.386933658495871e-06, Avg Loss : 0.8853\n",
            "Epoch: 3, Step : 270, LR : 5.250555591192178e-06, Avg Loss : 0.8662\n",
            "Epoch: 3, Step : 280, LR : 5.114177523888485e-06, Avg Loss : 0.7747\n",
            "Epoch: 3, Step : 290, LR : 4.977799456584792e-06, Avg Loss : 0.8820\n",
            "Epoch: 3, Step : 300, LR : 4.841421389281098e-06, Avg Loss : 0.9121\n",
            "Epoch: 3, Step : 310, LR : 4.7050433219774055e-06, Avg Loss : 0.8671\n",
            "Epoch: 3, Step : 320, LR : 4.568665254673713e-06, Avg Loss : 0.8198\n",
            "Epoch 3 Total Mean Loss : 0.8453\n",
            "*****Epoch 3 Train Finish*****\n",
            "\n",
            "*****Epoch 3 Valid Start*****\n",
            "Epoch 3 Valid Loss : 0.8628 Valid Acc : 74.50\n",
            "*****Epoch 3 Valid Finish*****\n",
            "\n",
            "*****Epoch 4 Train Start*****\n",
            "Epoch: 4, Step : 10, LR : 4.323184733527065e-06, Avg Loss : 0.7511\n",
            "Epoch: 4, Step : 20, LR : 4.186806666223373e-06, Avg Loss : 0.8393\n",
            "Epoch: 4, Step : 30, LR : 4.05042859891968e-06, Avg Loss : 0.7524\n",
            "Epoch: 4, Step : 40, LR : 3.914050531615987e-06, Avg Loss : 0.7188\n",
            "Epoch: 4, Step : 50, LR : 3.7776724643122938e-06, Avg Loss : 0.7510\n",
            "Epoch: 4, Step : 60, LR : 3.641294397008601e-06, Avg Loss : 0.8346\n",
            "Epoch: 4, Step : 70, LR : 3.5049163297049084e-06, Avg Loss : 0.7918\n",
            "Epoch: 4, Step : 80, LR : 3.3685382624012155e-06, Avg Loss : 0.7542\n",
            "Epoch: 4, Step : 90, LR : 3.232160195097522e-06, Avg Loss : 0.8408\n",
            "Epoch: 4, Step : 100, LR : 3.0957821277938293e-06, Avg Loss : 0.8116\n",
            "Epoch: 4, Step : 110, LR : 2.9594040604901368e-06, Avg Loss : 0.7637\n",
            "Epoch: 4, Step : 120, LR : 2.8230259931864435e-06, Avg Loss : 0.8070\n",
            "Epoch: 4, Step : 130, LR : 2.6866479258827506e-06, Avg Loss : 0.6883\n",
            "Epoch: 4, Step : 140, LR : 2.5502698585790577e-06, Avg Loss : 0.7318\n",
            "Epoch: 4, Step : 150, LR : 2.4138917912753648e-06, Avg Loss : 0.7721\n",
            "Epoch: 4, Step : 160, LR : 2.277513723971672e-06, Avg Loss : 0.7323\n",
            "Epoch: 4, Step : 170, LR : 2.141135656667979e-06, Avg Loss : 0.8727\n",
            "Epoch: 4, Step : 180, LR : 2.004757589364286e-06, Avg Loss : 0.7835\n",
            "Epoch: 4, Step : 190, LR : 1.868379522060593e-06, Avg Loss : 0.7072\n",
            "Epoch: 4, Step : 200, LR : 1.7320014547569003e-06, Avg Loss : 0.8799\n",
            "Epoch: 4, Step : 210, LR : 1.5956233874532071e-06, Avg Loss : 0.7547\n",
            "Epoch: 4, Step : 220, LR : 1.4592453201495145e-06, Avg Loss : 0.7657\n",
            "Epoch: 4, Step : 230, LR : 1.3228672528458213e-06, Avg Loss : 0.7657\n",
            "Epoch: 4, Step : 240, LR : 1.1864891855421284e-06, Avg Loss : 0.8473\n",
            "Epoch: 4, Step : 250, LR : 1.0501111182384355e-06, Avg Loss : 0.7686\n",
            "Epoch: 4, Step : 260, LR : 9.137330509347425e-07, Avg Loss : 0.7894\n",
            "Epoch: 4, Step : 270, LR : 7.773549836310496e-07, Avg Loss : 0.7645\n",
            "Epoch: 4, Step : 280, LR : 6.409769163273567e-07, Avg Loss : 0.8231\n",
            "Epoch: 4, Step : 290, LR : 5.045988490236638e-07, Avg Loss : 0.8374\n",
            "Epoch: 4, Step : 300, LR : 3.6822078171997094e-07, Avg Loss : 0.6905\n",
            "Epoch: 4, Step : 310, LR : 2.3184271441627796e-07, Avg Loss : 0.8041\n",
            "Epoch: 4, Step : 320, LR : 9.546464711258506e-08, Avg Loss : 0.7736\n",
            "Epoch 4 Total Mean Loss : 0.7808\n",
            "*****Epoch 4 Train Finish*****\n",
            "\n",
            "*****Epoch 4 Valid Start*****\n"
          ]
        },
        {
          "metadata": {
            "tags": null
          },
          "name": "stderr",
          "output_type": "stream",
          "text": [
            "\u001b[32m[I 2022-05-29 04:31:59,109]\u001b[0m Trial 0 finished with value: 0.8410858637408206 and parameters: {'lr': 1.7892802430244512e-05}. Best is trial 0 with value: 0.8410858637408206.\u001b[0m\n"
          ]
        },
        {
          "metadata": {
            "tags": null
          },
          "name": "stdout",
          "output_type": "stream",
          "text": [
            "Epoch 4 Valid Loss : 0.8411 Valid Acc : 75.90\n",
            "*****Epoch 4 Valid Finish*****\n",
            "\n",
            "Total train steps with 4 epochs: 1312\n",
            "*****Epoch 1 Train Start*****\n"
          ]
        },
        {
          "metadata": {
            "tags": null
          },
          "name": "stderr",
          "output_type": "stream",
          "text": [
            "/usr/local/lib/python3.7/dist-packages/transformers/optimization.py:309: FutureWarning: This implementation of AdamW is deprecated and will be removed in a future version. Use the PyTorch implementation torch.optim.AdamW instead, or set `no_deprecation_warning=True` to disable this warning\n",
            "  FutureWarning,\n"
          ]
        },
        {
          "metadata": {
            "tags": null
          },
          "name": "stdout",
          "output_type": "stream",
          "text": [
            "Epoch: 1, Step : 10, LR : 3.604445018440736e-05, Avg Loss : 0.8683\n",
            "Epoch: 1, Step : 20, LR : 3.576739829982314e-05, Avg Loss : 0.8408\n",
            "Epoch: 1, Step : 30, LR : 3.5490346415238916e-05, Avg Loss : 0.8120\n",
            "Epoch: 1, Step : 40, LR : 3.521329453065469e-05, Avg Loss : 0.8005\n",
            "Epoch: 1, Step : 50, LR : 3.493624264607047e-05, Avg Loss : 1.0246\n",
            "Epoch: 1, Step : 60, LR : 3.4659190761486246e-05, Avg Loss : 1.0004\n",
            "Epoch: 1, Step : 70, LR : 3.438213887690203e-05, Avg Loss : 0.8591\n",
            "Epoch: 1, Step : 80, LR : 3.41050869923178e-05, Avg Loss : 0.8949\n",
            "Epoch: 1, Step : 90, LR : 3.382803510773358e-05, Avg Loss : 0.8456\n",
            "Epoch: 1, Step : 100, LR : 3.355098322314936e-05, Avg Loss : 0.8637\n",
            "Epoch: 1, Step : 110, LR : 3.327393133856514e-05, Avg Loss : 0.8923\n",
            "Epoch: 1, Step : 120, LR : 3.299687945398091e-05, Avg Loss : 0.8833\n",
            "Epoch: 1, Step : 130, LR : 3.271982756939669e-05, Avg Loss : 0.8673\n",
            "Epoch: 1, Step : 140, LR : 3.244277568481247e-05, Avg Loss : 0.9596\n",
            "Epoch: 1, Step : 150, LR : 3.216572380022824e-05, Avg Loss : 0.8626\n",
            "Epoch: 1, Step : 160, LR : 3.1888671915644025e-05, Avg Loss : 0.8639\n",
            "Epoch: 1, Step : 170, LR : 3.16116200310598e-05, Avg Loss : 0.7920\n",
            "Epoch: 1, Step : 180, LR : 3.133456814647558e-05, Avg Loss : 0.7885\n",
            "Epoch: 1, Step : 190, LR : 3.1057516261891355e-05, Avg Loss : 0.8986\n",
            "Epoch: 1, Step : 200, LR : 3.078046437730713e-05, Avg Loss : 0.7824\n",
            "Epoch: 1, Step : 210, LR : 3.050341249272291e-05, Avg Loss : 0.7996\n",
            "Epoch: 1, Step : 220, LR : 3.0226360608138685e-05, Avg Loss : 0.8676\n",
            "Epoch: 1, Step : 230, LR : 2.9949308723554466e-05, Avg Loss : 0.8933\n",
            "Epoch: 1, Step : 240, LR : 2.967225683897024e-05, Avg Loss : 0.7354\n",
            "Epoch: 1, Step : 250, LR : 2.939520495438602e-05, Avg Loss : 0.8466\n",
            "Epoch: 1, Step : 260, LR : 2.9118153069801796e-05, Avg Loss : 0.9471\n",
            "Epoch: 1, Step : 270, LR : 2.8841101185217574e-05, Avg Loss : 0.7297\n",
            "Epoch: 1, Step : 280, LR : 2.856404930063335e-05, Avg Loss : 0.9878\n",
            "Epoch: 1, Step : 290, LR : 2.8286997416049127e-05, Avg Loss : 0.7386\n",
            "Epoch: 1, Step : 300, LR : 2.8009945531464908e-05, Avg Loss : 0.9034\n",
            "Epoch: 1, Step : 310, LR : 2.7732893646880682e-05, Avg Loss : 0.7762\n",
            "Epoch: 1, Step : 320, LR : 2.745584176229646e-05, Avg Loss : 0.8471\n",
            "Epoch 1 Total Mean Loss : 0.8590\n",
            "*****Epoch 1 Train Finish*****\n",
            "\n",
            "*****Epoch 1 Valid Start*****\n",
            "Epoch 1 Valid Loss : 0.9336 Valid Acc : 72.22\n",
            "*****Epoch 1 Valid Finish*****\n",
            "\n",
            "*****Epoch 2 Train Start*****\n",
            "Epoch: 2, Step : 10, LR : 2.6957148370044857e-05, Avg Loss : 0.7282\n",
            "Epoch: 2, Step : 20, LR : 2.6680096485460638e-05, Avg Loss : 0.7616\n",
            "Epoch: 2, Step : 30, LR : 2.6403044600876413e-05, Avg Loss : 0.6718\n",
            "Epoch: 2, Step : 40, LR : 2.612599271629219e-05, Avg Loss : 0.6863\n",
            "Epoch: 2, Step : 50, LR : 2.584894083170797e-05, Avg Loss : 0.6570\n",
            "Epoch: 2, Step : 60, LR : 2.5571888947123746e-05, Avg Loss : 0.7324\n",
            "Epoch: 2, Step : 70, LR : 2.5294837062539524e-05, Avg Loss : 0.7369\n",
            "Epoch: 2, Step : 80, LR : 2.5017785177955302e-05, Avg Loss : 0.7600\n",
            "Epoch: 2, Step : 90, LR : 2.474073329337108e-05, Avg Loss : 0.7513\n",
            "Epoch: 2, Step : 100, LR : 2.4463681408786854e-05, Avg Loss : 0.7451\n",
            "Epoch: 2, Step : 110, LR : 2.4186629524202635e-05, Avg Loss : 0.6562\n",
            "Epoch: 2, Step : 120, LR : 2.390957763961841e-05, Avg Loss : 0.7974\n",
            "Epoch: 2, Step : 130, LR : 2.3632525755034188e-05, Avg Loss : 0.7690\n",
            "Epoch: 2, Step : 140, LR : 2.335547387044997e-05, Avg Loss : 0.7358\n",
            "Epoch: 2, Step : 150, LR : 2.3078421985865743e-05, Avg Loss : 0.7985\n",
            "Epoch: 2, Step : 160, LR : 2.280137010128152e-05, Avg Loss : 0.6548\n",
            "Epoch: 2, Step : 170, LR : 2.2524318216697296e-05, Avg Loss : 0.8088\n",
            "Epoch: 2, Step : 180, LR : 2.2247266332113077e-05, Avg Loss : 0.7422\n",
            "Epoch: 2, Step : 190, LR : 2.197021444752885e-05, Avg Loss : 0.7972\n",
            "Epoch: 2, Step : 200, LR : 2.169316256294463e-05, Avg Loss : 0.6826\n",
            "Epoch: 2, Step : 210, LR : 2.141611067836041e-05, Avg Loss : 0.6537\n",
            "Epoch: 2, Step : 220, LR : 2.1139058793776185e-05, Avg Loss : 0.7778\n",
            "Epoch: 2, Step : 230, LR : 2.0862006909191963e-05, Avg Loss : 0.6544\n",
            "Epoch: 2, Step : 240, LR : 2.0584955024607737e-05, Avg Loss : 0.6365\n",
            "Epoch: 2, Step : 250, LR : 2.030790314002352e-05, Avg Loss : 0.6869\n",
            "Epoch: 2, Step : 260, LR : 2.0030851255439293e-05, Avg Loss : 0.6999\n",
            "Epoch: 2, Step : 270, LR : 1.975379937085507e-05, Avg Loss : 0.6791\n",
            "Epoch: 2, Step : 280, LR : 1.947674748627085e-05, Avg Loss : 0.7298\n",
            "Epoch: 2, Step : 290, LR : 1.9199695601686627e-05, Avg Loss : 0.7941\n",
            "Epoch: 2, Step : 300, LR : 1.8922643717102405e-05, Avg Loss : 0.6283\n",
            "Epoch: 2, Step : 310, LR : 1.8645591832518182e-05, Avg Loss : 0.7037\n",
            "Epoch: 2, Step : 320, LR : 1.836853994793396e-05, Avg Loss : 0.7724\n",
            "Epoch 2 Total Mean Loss : 0.7219\n",
            "*****Epoch 2 Train Finish*****\n",
            "\n",
            "*****Epoch 2 Valid Start*****\n",
            "Epoch 2 Valid Loss : 0.8348 Valid Acc : 73.49\n",
            "*****Epoch 2 Valid Finish*****\n",
            "\n",
            "*****Epoch 3 Train Start*****\n",
            "Epoch: 3, Step : 10, LR : 1.786984655568236e-05, Avg Loss : 0.6046\n",
            "Epoch: 3, Step : 20, LR : 1.7592794671098135e-05, Avg Loss : 0.6598\n",
            "Epoch: 3, Step : 30, LR : 1.7315742786513913e-05, Avg Loss : 0.6129\n",
            "Epoch: 3, Step : 40, LR : 1.703869090192969e-05, Avg Loss : 0.7369\n",
            "Epoch: 3, Step : 50, LR : 1.676163901734547e-05, Avg Loss : 0.6668\n",
            "Epoch: 3, Step : 60, LR : 1.6484587132761246e-05, Avg Loss : 0.6187\n",
            "Epoch: 3, Step : 70, LR : 1.620753524817702e-05, Avg Loss : 0.6398\n",
            "Epoch: 3, Step : 80, LR : 1.59304833635928e-05, Avg Loss : 0.6451\n",
            "Epoch: 3, Step : 90, LR : 1.5653431479008576e-05, Avg Loss : 0.6819\n",
            "Epoch: 3, Step : 100, LR : 1.5376379594424354e-05, Avg Loss : 0.6483\n",
            "Epoch: 3, Step : 110, LR : 1.5099327709840132e-05, Avg Loss : 0.6529\n",
            "Epoch: 3, Step : 120, LR : 1.482227582525591e-05, Avg Loss : 0.5931\n",
            "Epoch: 3, Step : 130, LR : 1.4545223940671686e-05, Avg Loss : 0.5983\n",
            "Epoch: 3, Step : 140, LR : 1.4268172056087464e-05, Avg Loss : 0.5774\n",
            "Epoch: 3, Step : 150, LR : 1.399112017150324e-05, Avg Loss : 0.6291\n",
            "Epoch: 3, Step : 160, LR : 1.3714068286919018e-05, Avg Loss : 0.5583\n",
            "Epoch: 3, Step : 170, LR : 1.3437016402334798e-05, Avg Loss : 0.6203\n",
            "Epoch: 3, Step : 180, LR : 1.3159964517750574e-05, Avg Loss : 0.6361\n",
            "Epoch: 3, Step : 190, LR : 1.2882912633166352e-05, Avg Loss : 0.7048\n",
            "Epoch: 3, Step : 200, LR : 1.260586074858213e-05, Avg Loss : 0.5565\n",
            "Epoch: 3, Step : 210, LR : 1.2328808863997906e-05, Avg Loss : 0.5380\n",
            "Epoch: 3, Step : 220, LR : 1.2051756979413684e-05, Avg Loss : 0.5319\n",
            "Epoch: 3, Step : 230, LR : 1.177470509482946e-05, Avg Loss : 0.5779\n",
            "Epoch: 3, Step : 240, LR : 1.1497653210245238e-05, Avg Loss : 0.5300\n",
            "Epoch: 3, Step : 250, LR : 1.1220601325661017e-05, Avg Loss : 0.5414\n",
            "Epoch: 3, Step : 260, LR : 1.0943549441076793e-05, Avg Loss : 0.6316\n",
            "Epoch: 3, Step : 270, LR : 1.0666497556492571e-05, Avg Loss : 0.5788\n",
            "Epoch: 3, Step : 280, LR : 1.0389445671908347e-05, Avg Loss : 0.5401\n",
            "Epoch: 3, Step : 290, LR : 1.0112393787324125e-05, Avg Loss : 0.6638\n",
            "Epoch: 3, Step : 300, LR : 9.835341902739903e-06, Avg Loss : 0.6538\n",
            "Epoch: 3, Step : 310, LR : 9.55829001815568e-06, Avg Loss : 0.5964\n",
            "Epoch: 3, Step : 320, LR : 9.281238133571457e-06, Avg Loss : 0.5986\n",
            "Epoch 3 Total Mean Loss : 0.6133\n",
            "*****Epoch 3 Train Finish*****\n",
            "\n",
            "*****Epoch 3 Valid Start*****\n",
            "Epoch 3 Valid Loss : 0.9209 Valid Acc : 74.01\n",
            "*****Epoch 3 Valid Finish*****\n",
            "\n",
            "*****Epoch 4 Train Start*****\n",
            "Epoch: 4, Step : 10, LR : 8.782544741319857e-06, Avg Loss : 0.5419\n",
            "Epoch: 4, Step : 20, LR : 8.505492856735635e-06, Avg Loss : 0.5314\n",
            "Epoch: 4, Step : 30, LR : 8.228440972151411e-06, Avg Loss : 0.5338\n",
            "Epoch: 4, Step : 40, LR : 7.951389087567189e-06, Avg Loss : 0.4438\n",
            "Epoch: 4, Step : 50, LR : 7.674337202982965e-06, Avg Loss : 0.5346\n",
            "Epoch: 4, Step : 60, LR : 7.397285318398743e-06, Avg Loss : 0.5377\n",
            "Epoch: 4, Step : 70, LR : 7.120233433814521e-06, Avg Loss : 0.5760\n",
            "Epoch: 4, Step : 80, LR : 6.843181549230299e-06, Avg Loss : 0.5301\n",
            "Epoch: 4, Step : 90, LR : 6.566129664646076e-06, Avg Loss : 0.5673\n",
            "Epoch: 4, Step : 100, LR : 6.289077780061853e-06, Avg Loss : 0.4793\n",
            "Epoch: 4, Step : 110, LR : 6.012025895477631e-06, Avg Loss : 0.4475\n",
            "Epoch: 4, Step : 120, LR : 5.734974010893408e-06, Avg Loss : 0.5061\n",
            "Epoch: 4, Step : 130, LR : 5.4579221263091855e-06, Avg Loss : 0.4994\n",
            "Epoch: 4, Step : 140, LR : 5.1808702417249625e-06, Avg Loss : 0.5530\n",
            "Epoch: 4, Step : 150, LR : 4.90381835714074e-06, Avg Loss : 0.5287\n",
            "Epoch: 4, Step : 160, LR : 4.626766472556517e-06, Avg Loss : 0.5578\n",
            "Epoch: 4, Step : 170, LR : 4.349714587972294e-06, Avg Loss : 0.5505\n",
            "Epoch: 4, Step : 180, LR : 4.072662703388072e-06, Avg Loss : 0.5421\n",
            "Epoch: 4, Step : 190, LR : 3.7956108188038497e-06, Avg Loss : 0.4527\n",
            "Epoch: 4, Step : 200, LR : 3.518558934219627e-06, Avg Loss : 0.5111\n",
            "Epoch: 4, Step : 210, LR : 3.241507049635404e-06, Avg Loss : 0.5226\n",
            "Epoch: 4, Step : 220, LR : 2.964455165051182e-06, Avg Loss : 0.4914\n",
            "Epoch: 4, Step : 230, LR : 2.687403280466959e-06, Avg Loss : 0.4923\n",
            "Epoch: 4, Step : 240, LR : 2.410351395882737e-06, Avg Loss : 0.5351\n",
            "Epoch: 4, Step : 250, LR : 2.133299511298514e-06, Avg Loss : 0.4576\n",
            "Epoch: 4, Step : 260, LR : 1.8562476267142913e-06, Avg Loss : 0.4633\n",
            "Epoch: 4, Step : 270, LR : 1.5791957421300688e-06, Avg Loss : 0.5548\n",
            "Epoch: 4, Step : 280, LR : 1.3021438575458462e-06, Avg Loss : 0.5321\n",
            "Epoch: 4, Step : 290, LR : 1.0250919729616236e-06, Avg Loss : 0.5817\n",
            "Epoch: 4, Step : 300, LR : 7.480400883774011e-07, Avg Loss : 0.5189\n",
            "Epoch: 4, Step : 310, LR : 4.709882037931784e-07, Avg Loss : 0.5442\n",
            "Epoch: 4, Step : 320, LR : 1.9393631920895584e-07, Avg Loss : 0.5507\n",
            "Epoch 4 Total Mean Loss : 0.5215\n",
            "*****Epoch 4 Train Finish*****\n",
            "\n",
            "*****Epoch 4 Valid Start*****\n"
          ]
        },
        {
          "metadata": {
            "tags": null
          },
          "name": "stderr",
          "output_type": "stream",
          "text": [
            "\u001b[32m[I 2022-05-29 04:38:17,702]\u001b[0m Trial 1 finished with value: 0.8348305821418762 and parameters: {'lr': 3.6349207257450006e-05}. Best is trial 1 with value: 0.8348305821418762.\u001b[0m\n"
          ]
        },
        {
          "metadata": {
            "tags": null
          },
          "name": "stdout",
          "output_type": "stream",
          "text": [
            "Epoch 4 Valid Loss : 0.9668 Valid Acc : 74.67\n",
            "*****Epoch 4 Valid Finish*****\n",
            "\n"
          ]
        }
      ]
    },
    {
      "cell_type": "code",
      "source": [
        "print('Minimum objective value: ' + str(study.best_value))\n",
        "print('Best parameter: ' + str(study.best_params))"
      ],
      "metadata": {
        "id": "QarUZ2Vm6C3c",
        "outputId": "cfc127c4-e0fb-4cc2-f841-ee5e9109eac0",
        "colab": {
          "base_uri": "https://localhost:8080/"
        }
      },
      "execution_count": 125,
      "outputs": [
        {
          "metadata": {
            "tags": null
          },
          "name": "stdout",
          "output_type": "stream",
          "text": [
            "Minimum objective value: 0.8348305821418762\n",
            "Best parameter: {'lr': 3.6349207257450006e-05}\n"
          ]
        }
      ]
    },
    {
      "cell_type": "code",
      "source": [
        ""
      ],
      "metadata": {
        "id": "KuKNaaDS6C56"
      },
      "execution_count": null,
      "outputs": []
    },
    {
      "cell_type": "code",
      "source": [
        ""
      ],
      "metadata": {
        "id": "rEJG0u5t6C8K"
      },
      "execution_count": null,
      "outputs": []
    },
    {
      "cell_type": "code",
      "source": [
        ""
      ],
      "metadata": {
        "id": "IdPtw6jG6C-R"
      },
      "execution_count": null,
      "outputs": []
    }
  ]
}