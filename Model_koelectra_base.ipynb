{
  "nbformat": 4,
  "nbformat_minor": 0,
  "metadata": {
    "colab": {
      "name": "Model_koelectra_base.ipynb",
      "provenance": [],
      "collapsed_sections": [],
      "mount_file_id": "1ZnkVxQk1VKGuc-DagQpWoiB8I4pC0UaV",
      "authorship_tag": "ABX9TyNz1IooCSd5eMNJDBXX5uAA",
      "include_colab_link": true
    },
    "kernelspec": {
      "name": "python3",
      "display_name": "Python 3"
    },
    "language_info": {
      "name": "python"
    },
    "accelerator": "GPU",
    "widgets": {
      "application/vnd.jupyter.widget-state+json": {
        "d445bfed5e4547c5afa922b89fd1a693": {
          "model_module": "@jupyter-widgets/controls",
          "model_name": "HBoxModel",
          "model_module_version": "1.5.0",
          "state": {
            "_dom_classes": [],
            "_model_module": "@jupyter-widgets/controls",
            "_model_module_version": "1.5.0",
            "_model_name": "HBoxModel",
            "_view_count": null,
            "_view_module": "@jupyter-widgets/controls",
            "_view_module_version": "1.5.0",
            "_view_name": "HBoxView",
            "box_style": "",
            "children": [
              "IPY_MODEL_f88022cf2da440c899488a2f7aa36ade",
              "IPY_MODEL_7fb23aa25caa43008ec38367a82e864d",
              "IPY_MODEL_ece381575124448d8ec772f5413a90fe"
            ],
            "layout": "IPY_MODEL_c842d33f22524a14a9e731463d72f112"
          }
        },
        "f88022cf2da440c899488a2f7aa36ade": {
          "model_module": "@jupyter-widgets/controls",
          "model_name": "HTMLModel",
          "model_module_version": "1.5.0",
          "state": {
            "_dom_classes": [],
            "_model_module": "@jupyter-widgets/controls",
            "_model_module_version": "1.5.0",
            "_model_name": "HTMLModel",
            "_view_count": null,
            "_view_module": "@jupyter-widgets/controls",
            "_view_module_version": "1.5.0",
            "_view_name": "HTMLView",
            "description": "",
            "description_tooltip": null,
            "layout": "IPY_MODEL_ddad9693789f47d08187b5421f844b7d",
            "placeholder": "​",
            "style": "IPY_MODEL_6a015e4f22f2470eb24a4213963dc5a7",
            "value": "Downloading: 100%"
          }
        },
        "7fb23aa25caa43008ec38367a82e864d": {
          "model_module": "@jupyter-widgets/controls",
          "model_name": "FloatProgressModel",
          "model_module_version": "1.5.0",
          "state": {
            "_dom_classes": [],
            "_model_module": "@jupyter-widgets/controls",
            "_model_module_version": "1.5.0",
            "_model_name": "FloatProgressModel",
            "_view_count": null,
            "_view_module": "@jupyter-widgets/controls",
            "_view_module_version": "1.5.0",
            "_view_name": "ProgressView",
            "bar_style": "success",
            "description": "",
            "description_tooltip": null,
            "layout": "IPY_MODEL_dcc0bcaaa1cc4868bfe535889df5d716",
            "max": 263326,
            "min": 0,
            "orientation": "horizontal",
            "style": "IPY_MODEL_2b426ea059cc493ca5fe0b30e924a4b0",
            "value": 263326
          }
        },
        "ece381575124448d8ec772f5413a90fe": {
          "model_module": "@jupyter-widgets/controls",
          "model_name": "HTMLModel",
          "model_module_version": "1.5.0",
          "state": {
            "_dom_classes": [],
            "_model_module": "@jupyter-widgets/controls",
            "_model_module_version": "1.5.0",
            "_model_name": "HTMLModel",
            "_view_count": null,
            "_view_module": "@jupyter-widgets/controls",
            "_view_module_version": "1.5.0",
            "_view_name": "HTMLView",
            "description": "",
            "description_tooltip": null,
            "layout": "IPY_MODEL_69e46b7371ba42b3ba984277346ce220",
            "placeholder": "​",
            "style": "IPY_MODEL_63b45f5e312f4910ab6f0abdf55d7964",
            "value": " 257k/257k [00:00&lt;00:00, 361kB/s]"
          }
        },
        "c842d33f22524a14a9e731463d72f112": {
          "model_module": "@jupyter-widgets/base",
          "model_name": "LayoutModel",
          "model_module_version": "1.2.0",
          "state": {
            "_model_module": "@jupyter-widgets/base",
            "_model_module_version": "1.2.0",
            "_model_name": "LayoutModel",
            "_view_count": null,
            "_view_module": "@jupyter-widgets/base",
            "_view_module_version": "1.2.0",
            "_view_name": "LayoutView",
            "align_content": null,
            "align_items": null,
            "align_self": null,
            "border": null,
            "bottom": null,
            "display": null,
            "flex": null,
            "flex_flow": null,
            "grid_area": null,
            "grid_auto_columns": null,
            "grid_auto_flow": null,
            "grid_auto_rows": null,
            "grid_column": null,
            "grid_gap": null,
            "grid_row": null,
            "grid_template_areas": null,
            "grid_template_columns": null,
            "grid_template_rows": null,
            "height": null,
            "justify_content": null,
            "justify_items": null,
            "left": null,
            "margin": null,
            "max_height": null,
            "max_width": null,
            "min_height": null,
            "min_width": null,
            "object_fit": null,
            "object_position": null,
            "order": null,
            "overflow": null,
            "overflow_x": null,
            "overflow_y": null,
            "padding": null,
            "right": null,
            "top": null,
            "visibility": null,
            "width": null
          }
        },
        "ddad9693789f47d08187b5421f844b7d": {
          "model_module": "@jupyter-widgets/base",
          "model_name": "LayoutModel",
          "model_module_version": "1.2.0",
          "state": {
            "_model_module": "@jupyter-widgets/base",
            "_model_module_version": "1.2.0",
            "_model_name": "LayoutModel",
            "_view_count": null,
            "_view_module": "@jupyter-widgets/base",
            "_view_module_version": "1.2.0",
            "_view_name": "LayoutView",
            "align_content": null,
            "align_items": null,
            "align_self": null,
            "border": null,
            "bottom": null,
            "display": null,
            "flex": null,
            "flex_flow": null,
            "grid_area": null,
            "grid_auto_columns": null,
            "grid_auto_flow": null,
            "grid_auto_rows": null,
            "grid_column": null,
            "grid_gap": null,
            "grid_row": null,
            "grid_template_areas": null,
            "grid_template_columns": null,
            "grid_template_rows": null,
            "height": null,
            "justify_content": null,
            "justify_items": null,
            "left": null,
            "margin": null,
            "max_height": null,
            "max_width": null,
            "min_height": null,
            "min_width": null,
            "object_fit": null,
            "object_position": null,
            "order": null,
            "overflow": null,
            "overflow_x": null,
            "overflow_y": null,
            "padding": null,
            "right": null,
            "top": null,
            "visibility": null,
            "width": null
          }
        },
        "6a015e4f22f2470eb24a4213963dc5a7": {
          "model_module": "@jupyter-widgets/controls",
          "model_name": "DescriptionStyleModel",
          "model_module_version": "1.5.0",
          "state": {
            "_model_module": "@jupyter-widgets/controls",
            "_model_module_version": "1.5.0",
            "_model_name": "DescriptionStyleModel",
            "_view_count": null,
            "_view_module": "@jupyter-widgets/base",
            "_view_module_version": "1.2.0",
            "_view_name": "StyleView",
            "description_width": ""
          }
        },
        "dcc0bcaaa1cc4868bfe535889df5d716": {
          "model_module": "@jupyter-widgets/base",
          "model_name": "LayoutModel",
          "model_module_version": "1.2.0",
          "state": {
            "_model_module": "@jupyter-widgets/base",
            "_model_module_version": "1.2.0",
            "_model_name": "LayoutModel",
            "_view_count": null,
            "_view_module": "@jupyter-widgets/base",
            "_view_module_version": "1.2.0",
            "_view_name": "LayoutView",
            "align_content": null,
            "align_items": null,
            "align_self": null,
            "border": null,
            "bottom": null,
            "display": null,
            "flex": null,
            "flex_flow": null,
            "grid_area": null,
            "grid_auto_columns": null,
            "grid_auto_flow": null,
            "grid_auto_rows": null,
            "grid_column": null,
            "grid_gap": null,
            "grid_row": null,
            "grid_template_areas": null,
            "grid_template_columns": null,
            "grid_template_rows": null,
            "height": null,
            "justify_content": null,
            "justify_items": null,
            "left": null,
            "margin": null,
            "max_height": null,
            "max_width": null,
            "min_height": null,
            "min_width": null,
            "object_fit": null,
            "object_position": null,
            "order": null,
            "overflow": null,
            "overflow_x": null,
            "overflow_y": null,
            "padding": null,
            "right": null,
            "top": null,
            "visibility": null,
            "width": null
          }
        },
        "2b426ea059cc493ca5fe0b30e924a4b0": {
          "model_module": "@jupyter-widgets/controls",
          "model_name": "ProgressStyleModel",
          "model_module_version": "1.5.0",
          "state": {
            "_model_module": "@jupyter-widgets/controls",
            "_model_module_version": "1.5.0",
            "_model_name": "ProgressStyleModel",
            "_view_count": null,
            "_view_module": "@jupyter-widgets/base",
            "_view_module_version": "1.2.0",
            "_view_name": "StyleView",
            "bar_color": null,
            "description_width": ""
          }
        },
        "69e46b7371ba42b3ba984277346ce220": {
          "model_module": "@jupyter-widgets/base",
          "model_name": "LayoutModel",
          "model_module_version": "1.2.0",
          "state": {
            "_model_module": "@jupyter-widgets/base",
            "_model_module_version": "1.2.0",
            "_model_name": "LayoutModel",
            "_view_count": null,
            "_view_module": "@jupyter-widgets/base",
            "_view_module_version": "1.2.0",
            "_view_name": "LayoutView",
            "align_content": null,
            "align_items": null,
            "align_self": null,
            "border": null,
            "bottom": null,
            "display": null,
            "flex": null,
            "flex_flow": null,
            "grid_area": null,
            "grid_auto_columns": null,
            "grid_auto_flow": null,
            "grid_auto_rows": null,
            "grid_column": null,
            "grid_gap": null,
            "grid_row": null,
            "grid_template_areas": null,
            "grid_template_columns": null,
            "grid_template_rows": null,
            "height": null,
            "justify_content": null,
            "justify_items": null,
            "left": null,
            "margin": null,
            "max_height": null,
            "max_width": null,
            "min_height": null,
            "min_width": null,
            "object_fit": null,
            "object_position": null,
            "order": null,
            "overflow": null,
            "overflow_x": null,
            "overflow_y": null,
            "padding": null,
            "right": null,
            "top": null,
            "visibility": null,
            "width": null
          }
        },
        "63b45f5e312f4910ab6f0abdf55d7964": {
          "model_module": "@jupyter-widgets/controls",
          "model_name": "DescriptionStyleModel",
          "model_module_version": "1.5.0",
          "state": {
            "_model_module": "@jupyter-widgets/controls",
            "_model_module_version": "1.5.0",
            "_model_name": "DescriptionStyleModel",
            "_view_count": null,
            "_view_module": "@jupyter-widgets/base",
            "_view_module_version": "1.2.0",
            "_view_name": "StyleView",
            "description_width": ""
          }
        },
        "e379622e8d964bc19e8495ccf1d77174": {
          "model_module": "@jupyter-widgets/controls",
          "model_name": "HBoxModel",
          "model_module_version": "1.5.0",
          "state": {
            "_dom_classes": [],
            "_model_module": "@jupyter-widgets/controls",
            "_model_module_version": "1.5.0",
            "_model_name": "HBoxModel",
            "_view_count": null,
            "_view_module": "@jupyter-widgets/controls",
            "_view_module_version": "1.5.0",
            "_view_name": "HBoxView",
            "box_style": "",
            "children": [
              "IPY_MODEL_c380b8417af7453abf8bb8c0b5e6670f",
              "IPY_MODEL_59f016df8dfa47c3b29cfe443751fbaf",
              "IPY_MODEL_54a41d703a7d40508dbf78785b42c71f"
            ],
            "layout": "IPY_MODEL_0b51a15e4f004bef85879d863a3f1cb7"
          }
        },
        "c380b8417af7453abf8bb8c0b5e6670f": {
          "model_module": "@jupyter-widgets/controls",
          "model_name": "HTMLModel",
          "model_module_version": "1.5.0",
          "state": {
            "_dom_classes": [],
            "_model_module": "@jupyter-widgets/controls",
            "_model_module_version": "1.5.0",
            "_model_name": "HTMLModel",
            "_view_count": null,
            "_view_module": "@jupyter-widgets/controls",
            "_view_module_version": "1.5.0",
            "_view_name": "HTMLView",
            "description": "",
            "description_tooltip": null,
            "layout": "IPY_MODEL_2140acb6e1be4cc3a10e9f497293c307",
            "placeholder": "​",
            "style": "IPY_MODEL_4a49648939a0459bb72991d725e222c3",
            "value": "Downloading: 100%"
          }
        },
        "59f016df8dfa47c3b29cfe443751fbaf": {
          "model_module": "@jupyter-widgets/controls",
          "model_name": "FloatProgressModel",
          "model_module_version": "1.5.0",
          "state": {
            "_dom_classes": [],
            "_model_module": "@jupyter-widgets/controls",
            "_model_module_version": "1.5.0",
            "_model_name": "FloatProgressModel",
            "_view_count": null,
            "_view_module": "@jupyter-widgets/controls",
            "_view_module_version": "1.5.0",
            "_view_name": "ProgressView",
            "bar_style": "success",
            "description": "",
            "description_tooltip": null,
            "layout": "IPY_MODEL_134d22274e74478f8a3ebd823b04a475",
            "max": 61,
            "min": 0,
            "orientation": "horizontal",
            "style": "IPY_MODEL_9996f05665e04b18ae8e7da15bc03823",
            "value": 61
          }
        },
        "54a41d703a7d40508dbf78785b42c71f": {
          "model_module": "@jupyter-widgets/controls",
          "model_name": "HTMLModel",
          "model_module_version": "1.5.0",
          "state": {
            "_dom_classes": [],
            "_model_module": "@jupyter-widgets/controls",
            "_model_module_version": "1.5.0",
            "_model_name": "HTMLModel",
            "_view_count": null,
            "_view_module": "@jupyter-widgets/controls",
            "_view_module_version": "1.5.0",
            "_view_name": "HTMLView",
            "description": "",
            "description_tooltip": null,
            "layout": "IPY_MODEL_b36526c87fc547f59ed19de51f0d4574",
            "placeholder": "​",
            "style": "IPY_MODEL_7b8a4f86bcbe4548ad606603896f47ae",
            "value": " 61.0/61.0 [00:00&lt;00:00, 1.82kB/s]"
          }
        },
        "0b51a15e4f004bef85879d863a3f1cb7": {
          "model_module": "@jupyter-widgets/base",
          "model_name": "LayoutModel",
          "model_module_version": "1.2.0",
          "state": {
            "_model_module": "@jupyter-widgets/base",
            "_model_module_version": "1.2.0",
            "_model_name": "LayoutModel",
            "_view_count": null,
            "_view_module": "@jupyter-widgets/base",
            "_view_module_version": "1.2.0",
            "_view_name": "LayoutView",
            "align_content": null,
            "align_items": null,
            "align_self": null,
            "border": null,
            "bottom": null,
            "display": null,
            "flex": null,
            "flex_flow": null,
            "grid_area": null,
            "grid_auto_columns": null,
            "grid_auto_flow": null,
            "grid_auto_rows": null,
            "grid_column": null,
            "grid_gap": null,
            "grid_row": null,
            "grid_template_areas": null,
            "grid_template_columns": null,
            "grid_template_rows": null,
            "height": null,
            "justify_content": null,
            "justify_items": null,
            "left": null,
            "margin": null,
            "max_height": null,
            "max_width": null,
            "min_height": null,
            "min_width": null,
            "object_fit": null,
            "object_position": null,
            "order": null,
            "overflow": null,
            "overflow_x": null,
            "overflow_y": null,
            "padding": null,
            "right": null,
            "top": null,
            "visibility": null,
            "width": null
          }
        },
        "2140acb6e1be4cc3a10e9f497293c307": {
          "model_module": "@jupyter-widgets/base",
          "model_name": "LayoutModel",
          "model_module_version": "1.2.0",
          "state": {
            "_model_module": "@jupyter-widgets/base",
            "_model_module_version": "1.2.0",
            "_model_name": "LayoutModel",
            "_view_count": null,
            "_view_module": "@jupyter-widgets/base",
            "_view_module_version": "1.2.0",
            "_view_name": "LayoutView",
            "align_content": null,
            "align_items": null,
            "align_self": null,
            "border": null,
            "bottom": null,
            "display": null,
            "flex": null,
            "flex_flow": null,
            "grid_area": null,
            "grid_auto_columns": null,
            "grid_auto_flow": null,
            "grid_auto_rows": null,
            "grid_column": null,
            "grid_gap": null,
            "grid_row": null,
            "grid_template_areas": null,
            "grid_template_columns": null,
            "grid_template_rows": null,
            "height": null,
            "justify_content": null,
            "justify_items": null,
            "left": null,
            "margin": null,
            "max_height": null,
            "max_width": null,
            "min_height": null,
            "min_width": null,
            "object_fit": null,
            "object_position": null,
            "order": null,
            "overflow": null,
            "overflow_x": null,
            "overflow_y": null,
            "padding": null,
            "right": null,
            "top": null,
            "visibility": null,
            "width": null
          }
        },
        "4a49648939a0459bb72991d725e222c3": {
          "model_module": "@jupyter-widgets/controls",
          "model_name": "DescriptionStyleModel",
          "model_module_version": "1.5.0",
          "state": {
            "_model_module": "@jupyter-widgets/controls",
            "_model_module_version": "1.5.0",
            "_model_name": "DescriptionStyleModel",
            "_view_count": null,
            "_view_module": "@jupyter-widgets/base",
            "_view_module_version": "1.2.0",
            "_view_name": "StyleView",
            "description_width": ""
          }
        },
        "134d22274e74478f8a3ebd823b04a475": {
          "model_module": "@jupyter-widgets/base",
          "model_name": "LayoutModel",
          "model_module_version": "1.2.0",
          "state": {
            "_model_module": "@jupyter-widgets/base",
            "_model_module_version": "1.2.0",
            "_model_name": "LayoutModel",
            "_view_count": null,
            "_view_module": "@jupyter-widgets/base",
            "_view_module_version": "1.2.0",
            "_view_name": "LayoutView",
            "align_content": null,
            "align_items": null,
            "align_self": null,
            "border": null,
            "bottom": null,
            "display": null,
            "flex": null,
            "flex_flow": null,
            "grid_area": null,
            "grid_auto_columns": null,
            "grid_auto_flow": null,
            "grid_auto_rows": null,
            "grid_column": null,
            "grid_gap": null,
            "grid_row": null,
            "grid_template_areas": null,
            "grid_template_columns": null,
            "grid_template_rows": null,
            "height": null,
            "justify_content": null,
            "justify_items": null,
            "left": null,
            "margin": null,
            "max_height": null,
            "max_width": null,
            "min_height": null,
            "min_width": null,
            "object_fit": null,
            "object_position": null,
            "order": null,
            "overflow": null,
            "overflow_x": null,
            "overflow_y": null,
            "padding": null,
            "right": null,
            "top": null,
            "visibility": null,
            "width": null
          }
        },
        "9996f05665e04b18ae8e7da15bc03823": {
          "model_module": "@jupyter-widgets/controls",
          "model_name": "ProgressStyleModel",
          "model_module_version": "1.5.0",
          "state": {
            "_model_module": "@jupyter-widgets/controls",
            "_model_module_version": "1.5.0",
            "_model_name": "ProgressStyleModel",
            "_view_count": null,
            "_view_module": "@jupyter-widgets/base",
            "_view_module_version": "1.2.0",
            "_view_name": "StyleView",
            "bar_color": null,
            "description_width": ""
          }
        },
        "b36526c87fc547f59ed19de51f0d4574": {
          "model_module": "@jupyter-widgets/base",
          "model_name": "LayoutModel",
          "model_module_version": "1.2.0",
          "state": {
            "_model_module": "@jupyter-widgets/base",
            "_model_module_version": "1.2.0",
            "_model_name": "LayoutModel",
            "_view_count": null,
            "_view_module": "@jupyter-widgets/base",
            "_view_module_version": "1.2.0",
            "_view_name": "LayoutView",
            "align_content": null,
            "align_items": null,
            "align_self": null,
            "border": null,
            "bottom": null,
            "display": null,
            "flex": null,
            "flex_flow": null,
            "grid_area": null,
            "grid_auto_columns": null,
            "grid_auto_flow": null,
            "grid_auto_rows": null,
            "grid_column": null,
            "grid_gap": null,
            "grid_row": null,
            "grid_template_areas": null,
            "grid_template_columns": null,
            "grid_template_rows": null,
            "height": null,
            "justify_content": null,
            "justify_items": null,
            "left": null,
            "margin": null,
            "max_height": null,
            "max_width": null,
            "min_height": null,
            "min_width": null,
            "object_fit": null,
            "object_position": null,
            "order": null,
            "overflow": null,
            "overflow_x": null,
            "overflow_y": null,
            "padding": null,
            "right": null,
            "top": null,
            "visibility": null,
            "width": null
          }
        },
        "7b8a4f86bcbe4548ad606603896f47ae": {
          "model_module": "@jupyter-widgets/controls",
          "model_name": "DescriptionStyleModel",
          "model_module_version": "1.5.0",
          "state": {
            "_model_module": "@jupyter-widgets/controls",
            "_model_module_version": "1.5.0",
            "_model_name": "DescriptionStyleModel",
            "_view_count": null,
            "_view_module": "@jupyter-widgets/base",
            "_view_module_version": "1.2.0",
            "_view_name": "StyleView",
            "description_width": ""
          }
        },
        "55ecf6e0777343e3836b989e9744c376": {
          "model_module": "@jupyter-widgets/controls",
          "model_name": "HBoxModel",
          "model_module_version": "1.5.0",
          "state": {
            "_dom_classes": [],
            "_model_module": "@jupyter-widgets/controls",
            "_model_module_version": "1.5.0",
            "_model_name": "HBoxModel",
            "_view_count": null,
            "_view_module": "@jupyter-widgets/controls",
            "_view_module_version": "1.5.0",
            "_view_name": "HBoxView",
            "box_style": "",
            "children": [
              "IPY_MODEL_c0baedc17a5342709eedba3c34abc793",
              "IPY_MODEL_d9c02197be2342d49112dd4163b37001",
              "IPY_MODEL_e5e86ec2b3d7472aabfdfce2507ab3fc"
            ],
            "layout": "IPY_MODEL_db3d9b825e6e483ab9a0d0e270985cbf"
          }
        },
        "c0baedc17a5342709eedba3c34abc793": {
          "model_module": "@jupyter-widgets/controls",
          "model_name": "HTMLModel",
          "model_module_version": "1.5.0",
          "state": {
            "_dom_classes": [],
            "_model_module": "@jupyter-widgets/controls",
            "_model_module_version": "1.5.0",
            "_model_name": "HTMLModel",
            "_view_count": null,
            "_view_module": "@jupyter-widgets/controls",
            "_view_module_version": "1.5.0",
            "_view_name": "HTMLView",
            "description": "",
            "description_tooltip": null,
            "layout": "IPY_MODEL_ca4f62aa5b794b4f91ea300883a34520",
            "placeholder": "​",
            "style": "IPY_MODEL_26e8674a506e41c0ae0deb829a5eaa54",
            "value": "Downloading: 100%"
          }
        },
        "d9c02197be2342d49112dd4163b37001": {
          "model_module": "@jupyter-widgets/controls",
          "model_name": "FloatProgressModel",
          "model_module_version": "1.5.0",
          "state": {
            "_dom_classes": [],
            "_model_module": "@jupyter-widgets/controls",
            "_model_module_version": "1.5.0",
            "_model_name": "FloatProgressModel",
            "_view_count": null,
            "_view_module": "@jupyter-widgets/controls",
            "_view_module_version": "1.5.0",
            "_view_name": "ProgressView",
            "bar_style": "success",
            "description": "",
            "description_tooltip": null,
            "layout": "IPY_MODEL_1db46d8757de42a5a88a1fe86a3c4e3f",
            "max": 467,
            "min": 0,
            "orientation": "horizontal",
            "style": "IPY_MODEL_7411ecf606ae46229cc9c1eaef824840",
            "value": 467
          }
        },
        "e5e86ec2b3d7472aabfdfce2507ab3fc": {
          "model_module": "@jupyter-widgets/controls",
          "model_name": "HTMLModel",
          "model_module_version": "1.5.0",
          "state": {
            "_dom_classes": [],
            "_model_module": "@jupyter-widgets/controls",
            "_model_module_version": "1.5.0",
            "_model_name": "HTMLModel",
            "_view_count": null,
            "_view_module": "@jupyter-widgets/controls",
            "_view_module_version": "1.5.0",
            "_view_name": "HTMLView",
            "description": "",
            "description_tooltip": null,
            "layout": "IPY_MODEL_329bc2d6079140209d5b7d37bc331e71",
            "placeholder": "​",
            "style": "IPY_MODEL_9dfd0c49cf61422096bd1754e5e473c6",
            "value": " 467/467 [00:00&lt;00:00, 6.39kB/s]"
          }
        },
        "db3d9b825e6e483ab9a0d0e270985cbf": {
          "model_module": "@jupyter-widgets/base",
          "model_name": "LayoutModel",
          "model_module_version": "1.2.0",
          "state": {
            "_model_module": "@jupyter-widgets/base",
            "_model_module_version": "1.2.0",
            "_model_name": "LayoutModel",
            "_view_count": null,
            "_view_module": "@jupyter-widgets/base",
            "_view_module_version": "1.2.0",
            "_view_name": "LayoutView",
            "align_content": null,
            "align_items": null,
            "align_self": null,
            "border": null,
            "bottom": null,
            "display": null,
            "flex": null,
            "flex_flow": null,
            "grid_area": null,
            "grid_auto_columns": null,
            "grid_auto_flow": null,
            "grid_auto_rows": null,
            "grid_column": null,
            "grid_gap": null,
            "grid_row": null,
            "grid_template_areas": null,
            "grid_template_columns": null,
            "grid_template_rows": null,
            "height": null,
            "justify_content": null,
            "justify_items": null,
            "left": null,
            "margin": null,
            "max_height": null,
            "max_width": null,
            "min_height": null,
            "min_width": null,
            "object_fit": null,
            "object_position": null,
            "order": null,
            "overflow": null,
            "overflow_x": null,
            "overflow_y": null,
            "padding": null,
            "right": null,
            "top": null,
            "visibility": null,
            "width": null
          }
        },
        "ca4f62aa5b794b4f91ea300883a34520": {
          "model_module": "@jupyter-widgets/base",
          "model_name": "LayoutModel",
          "model_module_version": "1.2.0",
          "state": {
            "_model_module": "@jupyter-widgets/base",
            "_model_module_version": "1.2.0",
            "_model_name": "LayoutModel",
            "_view_count": null,
            "_view_module": "@jupyter-widgets/base",
            "_view_module_version": "1.2.0",
            "_view_name": "LayoutView",
            "align_content": null,
            "align_items": null,
            "align_self": null,
            "border": null,
            "bottom": null,
            "display": null,
            "flex": null,
            "flex_flow": null,
            "grid_area": null,
            "grid_auto_columns": null,
            "grid_auto_flow": null,
            "grid_auto_rows": null,
            "grid_column": null,
            "grid_gap": null,
            "grid_row": null,
            "grid_template_areas": null,
            "grid_template_columns": null,
            "grid_template_rows": null,
            "height": null,
            "justify_content": null,
            "justify_items": null,
            "left": null,
            "margin": null,
            "max_height": null,
            "max_width": null,
            "min_height": null,
            "min_width": null,
            "object_fit": null,
            "object_position": null,
            "order": null,
            "overflow": null,
            "overflow_x": null,
            "overflow_y": null,
            "padding": null,
            "right": null,
            "top": null,
            "visibility": null,
            "width": null
          }
        },
        "26e8674a506e41c0ae0deb829a5eaa54": {
          "model_module": "@jupyter-widgets/controls",
          "model_name": "DescriptionStyleModel",
          "model_module_version": "1.5.0",
          "state": {
            "_model_module": "@jupyter-widgets/controls",
            "_model_module_version": "1.5.0",
            "_model_name": "DescriptionStyleModel",
            "_view_count": null,
            "_view_module": "@jupyter-widgets/base",
            "_view_module_version": "1.2.0",
            "_view_name": "StyleView",
            "description_width": ""
          }
        },
        "1db46d8757de42a5a88a1fe86a3c4e3f": {
          "model_module": "@jupyter-widgets/base",
          "model_name": "LayoutModel",
          "model_module_version": "1.2.0",
          "state": {
            "_model_module": "@jupyter-widgets/base",
            "_model_module_version": "1.2.0",
            "_model_name": "LayoutModel",
            "_view_count": null,
            "_view_module": "@jupyter-widgets/base",
            "_view_module_version": "1.2.0",
            "_view_name": "LayoutView",
            "align_content": null,
            "align_items": null,
            "align_self": null,
            "border": null,
            "bottom": null,
            "display": null,
            "flex": null,
            "flex_flow": null,
            "grid_area": null,
            "grid_auto_columns": null,
            "grid_auto_flow": null,
            "grid_auto_rows": null,
            "grid_column": null,
            "grid_gap": null,
            "grid_row": null,
            "grid_template_areas": null,
            "grid_template_columns": null,
            "grid_template_rows": null,
            "height": null,
            "justify_content": null,
            "justify_items": null,
            "left": null,
            "margin": null,
            "max_height": null,
            "max_width": null,
            "min_height": null,
            "min_width": null,
            "object_fit": null,
            "object_position": null,
            "order": null,
            "overflow": null,
            "overflow_x": null,
            "overflow_y": null,
            "padding": null,
            "right": null,
            "top": null,
            "visibility": null,
            "width": null
          }
        },
        "7411ecf606ae46229cc9c1eaef824840": {
          "model_module": "@jupyter-widgets/controls",
          "model_name": "ProgressStyleModel",
          "model_module_version": "1.5.0",
          "state": {
            "_model_module": "@jupyter-widgets/controls",
            "_model_module_version": "1.5.0",
            "_model_name": "ProgressStyleModel",
            "_view_count": null,
            "_view_module": "@jupyter-widgets/base",
            "_view_module_version": "1.2.0",
            "_view_name": "StyleView",
            "bar_color": null,
            "description_width": ""
          }
        },
        "329bc2d6079140209d5b7d37bc331e71": {
          "model_module": "@jupyter-widgets/base",
          "model_name": "LayoutModel",
          "model_module_version": "1.2.0",
          "state": {
            "_model_module": "@jupyter-widgets/base",
            "_model_module_version": "1.2.0",
            "_model_name": "LayoutModel",
            "_view_count": null,
            "_view_module": "@jupyter-widgets/base",
            "_view_module_version": "1.2.0",
            "_view_name": "LayoutView",
            "align_content": null,
            "align_items": null,
            "align_self": null,
            "border": null,
            "bottom": null,
            "display": null,
            "flex": null,
            "flex_flow": null,
            "grid_area": null,
            "grid_auto_columns": null,
            "grid_auto_flow": null,
            "grid_auto_rows": null,
            "grid_column": null,
            "grid_gap": null,
            "grid_row": null,
            "grid_template_areas": null,
            "grid_template_columns": null,
            "grid_template_rows": null,
            "height": null,
            "justify_content": null,
            "justify_items": null,
            "left": null,
            "margin": null,
            "max_height": null,
            "max_width": null,
            "min_height": null,
            "min_width": null,
            "object_fit": null,
            "object_position": null,
            "order": null,
            "overflow": null,
            "overflow_x": null,
            "overflow_y": null,
            "padding": null,
            "right": null,
            "top": null,
            "visibility": null,
            "width": null
          }
        },
        "9dfd0c49cf61422096bd1754e5e473c6": {
          "model_module": "@jupyter-widgets/controls",
          "model_name": "DescriptionStyleModel",
          "model_module_version": "1.5.0",
          "state": {
            "_model_module": "@jupyter-widgets/controls",
            "_model_module_version": "1.5.0",
            "_model_name": "DescriptionStyleModel",
            "_view_count": null,
            "_view_module": "@jupyter-widgets/base",
            "_view_module_version": "1.2.0",
            "_view_name": "StyleView",
            "description_width": ""
          }
        },
        "1a599e31c4e24113802e3dcef8feb367": {
          "model_module": "@jupyter-widgets/controls",
          "model_name": "HBoxModel",
          "model_module_version": "1.5.0",
          "state": {
            "_dom_classes": [],
            "_model_module": "@jupyter-widgets/controls",
            "_model_module_version": "1.5.0",
            "_model_name": "HBoxModel",
            "_view_count": null,
            "_view_module": "@jupyter-widgets/controls",
            "_view_module_version": "1.5.0",
            "_view_name": "HBoxView",
            "box_style": "",
            "children": [
              "IPY_MODEL_2556c940ac3b43e79c0261e1e97603ec",
              "IPY_MODEL_42b2c1c7e0bc456fb65c517e0c96d26d",
              "IPY_MODEL_61fa6fb7d3374b109eb2a60c5cac50b5"
            ],
            "layout": "IPY_MODEL_4a3738ee727c45f490acd1a64fd9050b"
          }
        },
        "2556c940ac3b43e79c0261e1e97603ec": {
          "model_module": "@jupyter-widgets/controls",
          "model_name": "HTMLModel",
          "model_module_version": "1.5.0",
          "state": {
            "_dom_classes": [],
            "_model_module": "@jupyter-widgets/controls",
            "_model_module_version": "1.5.0",
            "_model_name": "HTMLModel",
            "_view_count": null,
            "_view_module": "@jupyter-widgets/controls",
            "_view_module_version": "1.5.0",
            "_view_name": "HTMLView",
            "description": "",
            "description_tooltip": null,
            "layout": "IPY_MODEL_3aad361397834a418e7f66d7f6bf2b4c",
            "placeholder": "​",
            "style": "IPY_MODEL_308da83313f44ccd898b324879034de2",
            "value": "Downloading builder script: "
          }
        },
        "42b2c1c7e0bc456fb65c517e0c96d26d": {
          "model_module": "@jupyter-widgets/controls",
          "model_name": "FloatProgressModel",
          "model_module_version": "1.5.0",
          "state": {
            "_dom_classes": [],
            "_model_module": "@jupyter-widgets/controls",
            "_model_module_version": "1.5.0",
            "_model_name": "FloatProgressModel",
            "_view_count": null,
            "_view_module": "@jupyter-widgets/controls",
            "_view_module_version": "1.5.0",
            "_view_name": "ProgressView",
            "bar_style": "success",
            "description": "",
            "description_tooltip": null,
            "layout": "IPY_MODEL_f5504df215bf46908c5d938d836b8bbe",
            "max": 2318,
            "min": 0,
            "orientation": "horizontal",
            "style": "IPY_MODEL_e36dfb4011f14141b51f398a851e5b23",
            "value": 2318
          }
        },
        "61fa6fb7d3374b109eb2a60c5cac50b5": {
          "model_module": "@jupyter-widgets/controls",
          "model_name": "HTMLModel",
          "model_module_version": "1.5.0",
          "state": {
            "_dom_classes": [],
            "_model_module": "@jupyter-widgets/controls",
            "_model_module_version": "1.5.0",
            "_model_name": "HTMLModel",
            "_view_count": null,
            "_view_module": "@jupyter-widgets/controls",
            "_view_module_version": "1.5.0",
            "_view_name": "HTMLView",
            "description": "",
            "description_tooltip": null,
            "layout": "IPY_MODEL_1c74d88d04e8495f933e70cd66a78e8e",
            "placeholder": "​",
            "style": "IPY_MODEL_ffcc61b4696c49d9abde567e52781ec2",
            "value": " 6.50k/? [00:00&lt;00:00, 191kB/s]"
          }
        },
        "4a3738ee727c45f490acd1a64fd9050b": {
          "model_module": "@jupyter-widgets/base",
          "model_name": "LayoutModel",
          "model_module_version": "1.2.0",
          "state": {
            "_model_module": "@jupyter-widgets/base",
            "_model_module_version": "1.2.0",
            "_model_name": "LayoutModel",
            "_view_count": null,
            "_view_module": "@jupyter-widgets/base",
            "_view_module_version": "1.2.0",
            "_view_name": "LayoutView",
            "align_content": null,
            "align_items": null,
            "align_self": null,
            "border": null,
            "bottom": null,
            "display": null,
            "flex": null,
            "flex_flow": null,
            "grid_area": null,
            "grid_auto_columns": null,
            "grid_auto_flow": null,
            "grid_auto_rows": null,
            "grid_column": null,
            "grid_gap": null,
            "grid_row": null,
            "grid_template_areas": null,
            "grid_template_columns": null,
            "grid_template_rows": null,
            "height": null,
            "justify_content": null,
            "justify_items": null,
            "left": null,
            "margin": null,
            "max_height": null,
            "max_width": null,
            "min_height": null,
            "min_width": null,
            "object_fit": null,
            "object_position": null,
            "order": null,
            "overflow": null,
            "overflow_x": null,
            "overflow_y": null,
            "padding": null,
            "right": null,
            "top": null,
            "visibility": null,
            "width": null
          }
        },
        "3aad361397834a418e7f66d7f6bf2b4c": {
          "model_module": "@jupyter-widgets/base",
          "model_name": "LayoutModel",
          "model_module_version": "1.2.0",
          "state": {
            "_model_module": "@jupyter-widgets/base",
            "_model_module_version": "1.2.0",
            "_model_name": "LayoutModel",
            "_view_count": null,
            "_view_module": "@jupyter-widgets/base",
            "_view_module_version": "1.2.0",
            "_view_name": "LayoutView",
            "align_content": null,
            "align_items": null,
            "align_self": null,
            "border": null,
            "bottom": null,
            "display": null,
            "flex": null,
            "flex_flow": null,
            "grid_area": null,
            "grid_auto_columns": null,
            "grid_auto_flow": null,
            "grid_auto_rows": null,
            "grid_column": null,
            "grid_gap": null,
            "grid_row": null,
            "grid_template_areas": null,
            "grid_template_columns": null,
            "grid_template_rows": null,
            "height": null,
            "justify_content": null,
            "justify_items": null,
            "left": null,
            "margin": null,
            "max_height": null,
            "max_width": null,
            "min_height": null,
            "min_width": null,
            "object_fit": null,
            "object_position": null,
            "order": null,
            "overflow": null,
            "overflow_x": null,
            "overflow_y": null,
            "padding": null,
            "right": null,
            "top": null,
            "visibility": null,
            "width": null
          }
        },
        "308da83313f44ccd898b324879034de2": {
          "model_module": "@jupyter-widgets/controls",
          "model_name": "DescriptionStyleModel",
          "model_module_version": "1.5.0",
          "state": {
            "_model_module": "@jupyter-widgets/controls",
            "_model_module_version": "1.5.0",
            "_model_name": "DescriptionStyleModel",
            "_view_count": null,
            "_view_module": "@jupyter-widgets/base",
            "_view_module_version": "1.2.0",
            "_view_name": "StyleView",
            "description_width": ""
          }
        },
        "f5504df215bf46908c5d938d836b8bbe": {
          "model_module": "@jupyter-widgets/base",
          "model_name": "LayoutModel",
          "model_module_version": "1.2.0",
          "state": {
            "_model_module": "@jupyter-widgets/base",
            "_model_module_version": "1.2.0",
            "_model_name": "LayoutModel",
            "_view_count": null,
            "_view_module": "@jupyter-widgets/base",
            "_view_module_version": "1.2.0",
            "_view_name": "LayoutView",
            "align_content": null,
            "align_items": null,
            "align_self": null,
            "border": null,
            "bottom": null,
            "display": null,
            "flex": null,
            "flex_flow": null,
            "grid_area": null,
            "grid_auto_columns": null,
            "grid_auto_flow": null,
            "grid_auto_rows": null,
            "grid_column": null,
            "grid_gap": null,
            "grid_row": null,
            "grid_template_areas": null,
            "grid_template_columns": null,
            "grid_template_rows": null,
            "height": null,
            "justify_content": null,
            "justify_items": null,
            "left": null,
            "margin": null,
            "max_height": null,
            "max_width": null,
            "min_height": null,
            "min_width": null,
            "object_fit": null,
            "object_position": null,
            "order": null,
            "overflow": null,
            "overflow_x": null,
            "overflow_y": null,
            "padding": null,
            "right": null,
            "top": null,
            "visibility": null,
            "width": null
          }
        },
        "e36dfb4011f14141b51f398a851e5b23": {
          "model_module": "@jupyter-widgets/controls",
          "model_name": "ProgressStyleModel",
          "model_module_version": "1.5.0",
          "state": {
            "_model_module": "@jupyter-widgets/controls",
            "_model_module_version": "1.5.0",
            "_model_name": "ProgressStyleModel",
            "_view_count": null,
            "_view_module": "@jupyter-widgets/base",
            "_view_module_version": "1.2.0",
            "_view_name": "StyleView",
            "bar_color": null,
            "description_width": ""
          }
        },
        "1c74d88d04e8495f933e70cd66a78e8e": {
          "model_module": "@jupyter-widgets/base",
          "model_name": "LayoutModel",
          "model_module_version": "1.2.0",
          "state": {
            "_model_module": "@jupyter-widgets/base",
            "_model_module_version": "1.2.0",
            "_model_name": "LayoutModel",
            "_view_count": null,
            "_view_module": "@jupyter-widgets/base",
            "_view_module_version": "1.2.0",
            "_view_name": "LayoutView",
            "align_content": null,
            "align_items": null,
            "align_self": null,
            "border": null,
            "bottom": null,
            "display": null,
            "flex": null,
            "flex_flow": null,
            "grid_area": null,
            "grid_auto_columns": null,
            "grid_auto_flow": null,
            "grid_auto_rows": null,
            "grid_column": null,
            "grid_gap": null,
            "grid_row": null,
            "grid_template_areas": null,
            "grid_template_columns": null,
            "grid_template_rows": null,
            "height": null,
            "justify_content": null,
            "justify_items": null,
            "left": null,
            "margin": null,
            "max_height": null,
            "max_width": null,
            "min_height": null,
            "min_width": null,
            "object_fit": null,
            "object_position": null,
            "order": null,
            "overflow": null,
            "overflow_x": null,
            "overflow_y": null,
            "padding": null,
            "right": null,
            "top": null,
            "visibility": null,
            "width": null
          }
        },
        "ffcc61b4696c49d9abde567e52781ec2": {
          "model_module": "@jupyter-widgets/controls",
          "model_name": "DescriptionStyleModel",
          "model_module_version": "1.5.0",
          "state": {
            "_model_module": "@jupyter-widgets/controls",
            "_model_module_version": "1.5.0",
            "_model_name": "DescriptionStyleModel",
            "_view_count": null,
            "_view_module": "@jupyter-widgets/base",
            "_view_module_version": "1.2.0",
            "_view_name": "StyleView",
            "description_width": ""
          }
        },
        "ebda9da48ef8463f87cbdb7dd0f1adaa": {
          "model_module": "@jupyter-widgets/controls",
          "model_name": "HBoxModel",
          "model_module_version": "1.5.0",
          "state": {
            "_dom_classes": [],
            "_model_module": "@jupyter-widgets/controls",
            "_model_module_version": "1.5.0",
            "_model_name": "HBoxModel",
            "_view_count": null,
            "_view_module": "@jupyter-widgets/controls",
            "_view_module_version": "1.5.0",
            "_view_name": "HBoxView",
            "box_style": "",
            "children": [
              "IPY_MODEL_9a0e6e6ce93f4e1383689f10a7f861e8",
              "IPY_MODEL_1c07734598544d7eaffa11f2ede6436a",
              "IPY_MODEL_978cccb22cba493d911e85e154072efe"
            ],
            "layout": "IPY_MODEL_21f5270aa61647df8528f5be01677070"
          }
        },
        "9a0e6e6ce93f4e1383689f10a7f861e8": {
          "model_module": "@jupyter-widgets/controls",
          "model_name": "HTMLModel",
          "model_module_version": "1.5.0",
          "state": {
            "_dom_classes": [],
            "_model_module": "@jupyter-widgets/controls",
            "_model_module_version": "1.5.0",
            "_model_name": "HTMLModel",
            "_view_count": null,
            "_view_module": "@jupyter-widgets/controls",
            "_view_module_version": "1.5.0",
            "_view_name": "HTMLView",
            "description": "",
            "description_tooltip": null,
            "layout": "IPY_MODEL_b27b2c6a2ba146ada886f13446d25515",
            "placeholder": "​",
            "style": "IPY_MODEL_972ad1e41d48479f9fcdb412c61537ba",
            "value": "Downloading builder script: "
          }
        },
        "1c07734598544d7eaffa11f2ede6436a": {
          "model_module": "@jupyter-widgets/controls",
          "model_name": "FloatProgressModel",
          "model_module_version": "1.5.0",
          "state": {
            "_dom_classes": [],
            "_model_module": "@jupyter-widgets/controls",
            "_model_module_version": "1.5.0",
            "_model_name": "FloatProgressModel",
            "_view_count": null,
            "_view_module": "@jupyter-widgets/controls",
            "_view_module_version": "1.5.0",
            "_view_name": "ProgressView",
            "bar_style": "success",
            "description": "",
            "description_tooltip": null,
            "layout": "IPY_MODEL_33848470c9204617b8b82dae38b88a45",
            "max": 2150,
            "min": 0,
            "orientation": "horizontal",
            "style": "IPY_MODEL_273d2062d8dd40fd91fb8bb677a9a76e",
            "value": 2150
          }
        },
        "978cccb22cba493d911e85e154072efe": {
          "model_module": "@jupyter-widgets/controls",
          "model_name": "HTMLModel",
          "model_module_version": "1.5.0",
          "state": {
            "_dom_classes": [],
            "_model_module": "@jupyter-widgets/controls",
            "_model_module_version": "1.5.0",
            "_model_name": "HTMLModel",
            "_view_count": null,
            "_view_module": "@jupyter-widgets/controls",
            "_view_module_version": "1.5.0",
            "_view_name": "HTMLView",
            "description": "",
            "description_tooltip": null,
            "layout": "IPY_MODEL_ee5240f0c92c469589e3401b3c48fd87",
            "placeholder": "​",
            "style": "IPY_MODEL_f6a2a5385255450dbf2bab4c3b55c7df",
            "value": " 5.29k/? [00:00&lt;00:00, 125kB/s]"
          }
        },
        "21f5270aa61647df8528f5be01677070": {
          "model_module": "@jupyter-widgets/base",
          "model_name": "LayoutModel",
          "model_module_version": "1.2.0",
          "state": {
            "_model_module": "@jupyter-widgets/base",
            "_model_module_version": "1.2.0",
            "_model_name": "LayoutModel",
            "_view_count": null,
            "_view_module": "@jupyter-widgets/base",
            "_view_module_version": "1.2.0",
            "_view_name": "LayoutView",
            "align_content": null,
            "align_items": null,
            "align_self": null,
            "border": null,
            "bottom": null,
            "display": null,
            "flex": null,
            "flex_flow": null,
            "grid_area": null,
            "grid_auto_columns": null,
            "grid_auto_flow": null,
            "grid_auto_rows": null,
            "grid_column": null,
            "grid_gap": null,
            "grid_row": null,
            "grid_template_areas": null,
            "grid_template_columns": null,
            "grid_template_rows": null,
            "height": null,
            "justify_content": null,
            "justify_items": null,
            "left": null,
            "margin": null,
            "max_height": null,
            "max_width": null,
            "min_height": null,
            "min_width": null,
            "object_fit": null,
            "object_position": null,
            "order": null,
            "overflow": null,
            "overflow_x": null,
            "overflow_y": null,
            "padding": null,
            "right": null,
            "top": null,
            "visibility": null,
            "width": null
          }
        },
        "b27b2c6a2ba146ada886f13446d25515": {
          "model_module": "@jupyter-widgets/base",
          "model_name": "LayoutModel",
          "model_module_version": "1.2.0",
          "state": {
            "_model_module": "@jupyter-widgets/base",
            "_model_module_version": "1.2.0",
            "_model_name": "LayoutModel",
            "_view_count": null,
            "_view_module": "@jupyter-widgets/base",
            "_view_module_version": "1.2.0",
            "_view_name": "LayoutView",
            "align_content": null,
            "align_items": null,
            "align_self": null,
            "border": null,
            "bottom": null,
            "display": null,
            "flex": null,
            "flex_flow": null,
            "grid_area": null,
            "grid_auto_columns": null,
            "grid_auto_flow": null,
            "grid_auto_rows": null,
            "grid_column": null,
            "grid_gap": null,
            "grid_row": null,
            "grid_template_areas": null,
            "grid_template_columns": null,
            "grid_template_rows": null,
            "height": null,
            "justify_content": null,
            "justify_items": null,
            "left": null,
            "margin": null,
            "max_height": null,
            "max_width": null,
            "min_height": null,
            "min_width": null,
            "object_fit": null,
            "object_position": null,
            "order": null,
            "overflow": null,
            "overflow_x": null,
            "overflow_y": null,
            "padding": null,
            "right": null,
            "top": null,
            "visibility": null,
            "width": null
          }
        },
        "972ad1e41d48479f9fcdb412c61537ba": {
          "model_module": "@jupyter-widgets/controls",
          "model_name": "DescriptionStyleModel",
          "model_module_version": "1.5.0",
          "state": {
            "_model_module": "@jupyter-widgets/controls",
            "_model_module_version": "1.5.0",
            "_model_name": "DescriptionStyleModel",
            "_view_count": null,
            "_view_module": "@jupyter-widgets/base",
            "_view_module_version": "1.2.0",
            "_view_name": "StyleView",
            "description_width": ""
          }
        },
        "33848470c9204617b8b82dae38b88a45": {
          "model_module": "@jupyter-widgets/base",
          "model_name": "LayoutModel",
          "model_module_version": "1.2.0",
          "state": {
            "_model_module": "@jupyter-widgets/base",
            "_model_module_version": "1.2.0",
            "_model_name": "LayoutModel",
            "_view_count": null,
            "_view_module": "@jupyter-widgets/base",
            "_view_module_version": "1.2.0",
            "_view_name": "LayoutView",
            "align_content": null,
            "align_items": null,
            "align_self": null,
            "border": null,
            "bottom": null,
            "display": null,
            "flex": null,
            "flex_flow": null,
            "grid_area": null,
            "grid_auto_columns": null,
            "grid_auto_flow": null,
            "grid_auto_rows": null,
            "grid_column": null,
            "grid_gap": null,
            "grid_row": null,
            "grid_template_areas": null,
            "grid_template_columns": null,
            "grid_template_rows": null,
            "height": null,
            "justify_content": null,
            "justify_items": null,
            "left": null,
            "margin": null,
            "max_height": null,
            "max_width": null,
            "min_height": null,
            "min_width": null,
            "object_fit": null,
            "object_position": null,
            "order": null,
            "overflow": null,
            "overflow_x": null,
            "overflow_y": null,
            "padding": null,
            "right": null,
            "top": null,
            "visibility": null,
            "width": null
          }
        },
        "273d2062d8dd40fd91fb8bb677a9a76e": {
          "model_module": "@jupyter-widgets/controls",
          "model_name": "ProgressStyleModel",
          "model_module_version": "1.5.0",
          "state": {
            "_model_module": "@jupyter-widgets/controls",
            "_model_module_version": "1.5.0",
            "_model_name": "ProgressStyleModel",
            "_view_count": null,
            "_view_module": "@jupyter-widgets/base",
            "_view_module_version": "1.2.0",
            "_view_name": "StyleView",
            "bar_color": null,
            "description_width": ""
          }
        },
        "ee5240f0c92c469589e3401b3c48fd87": {
          "model_module": "@jupyter-widgets/base",
          "model_name": "LayoutModel",
          "model_module_version": "1.2.0",
          "state": {
            "_model_module": "@jupyter-widgets/base",
            "_model_module_version": "1.2.0",
            "_model_name": "LayoutModel",
            "_view_count": null,
            "_view_module": "@jupyter-widgets/base",
            "_view_module_version": "1.2.0",
            "_view_name": "LayoutView",
            "align_content": null,
            "align_items": null,
            "align_self": null,
            "border": null,
            "bottom": null,
            "display": null,
            "flex": null,
            "flex_flow": null,
            "grid_area": null,
            "grid_auto_columns": null,
            "grid_auto_flow": null,
            "grid_auto_rows": null,
            "grid_column": null,
            "grid_gap": null,
            "grid_row": null,
            "grid_template_areas": null,
            "grid_template_columns": null,
            "grid_template_rows": null,
            "height": null,
            "justify_content": null,
            "justify_items": null,
            "left": null,
            "margin": null,
            "max_height": null,
            "max_width": null,
            "min_height": null,
            "min_width": null,
            "object_fit": null,
            "object_position": null,
            "order": null,
            "overflow": null,
            "overflow_x": null,
            "overflow_y": null,
            "padding": null,
            "right": null,
            "top": null,
            "visibility": null,
            "width": null
          }
        },
        "f6a2a5385255450dbf2bab4c3b55c7df": {
          "model_module": "@jupyter-widgets/controls",
          "model_name": "DescriptionStyleModel",
          "model_module_version": "1.5.0",
          "state": {
            "_model_module": "@jupyter-widgets/controls",
            "_model_module_version": "1.5.0",
            "_model_name": "DescriptionStyleModel",
            "_view_count": null,
            "_view_module": "@jupyter-widgets/base",
            "_view_module_version": "1.2.0",
            "_view_name": "StyleView",
            "description_width": ""
          }
        },
        "1c01b2febe4b4cba8a3ac5db555faf02": {
          "model_module": "@jupyter-widgets/controls",
          "model_name": "HBoxModel",
          "model_module_version": "1.5.0",
          "state": {
            "_dom_classes": [],
            "_model_module": "@jupyter-widgets/controls",
            "_model_module_version": "1.5.0",
            "_model_name": "HBoxModel",
            "_view_count": null,
            "_view_module": "@jupyter-widgets/controls",
            "_view_module_version": "1.5.0",
            "_view_name": "HBoxView",
            "box_style": "",
            "children": [
              "IPY_MODEL_be28e597497049aa9ab9d49a7231c0d7",
              "IPY_MODEL_a4937488f53c4f9498d657a6ef50eee9",
              "IPY_MODEL_f403e4d895c34a25a51ed709c67f52be"
            ],
            "layout": "IPY_MODEL_7602ba9470f54c13bca8518113ef8bd1"
          }
        },
        "be28e597497049aa9ab9d49a7231c0d7": {
          "model_module": "@jupyter-widgets/controls",
          "model_name": "HTMLModel",
          "model_module_version": "1.5.0",
          "state": {
            "_dom_classes": [],
            "_model_module": "@jupyter-widgets/controls",
            "_model_module_version": "1.5.0",
            "_model_name": "HTMLModel",
            "_view_count": null,
            "_view_module": "@jupyter-widgets/controls",
            "_view_module_version": "1.5.0",
            "_view_name": "HTMLView",
            "description": "",
            "description_tooltip": null,
            "layout": "IPY_MODEL_c15b111659f640cbb2c6df175dac5545",
            "placeholder": "​",
            "style": "IPY_MODEL_bcc778c648aa46638aeccf28f424cf32",
            "value": "Downloading: 100%"
          }
        },
        "a4937488f53c4f9498d657a6ef50eee9": {
          "model_module": "@jupyter-widgets/controls",
          "model_name": "FloatProgressModel",
          "model_module_version": "1.5.0",
          "state": {
            "_dom_classes": [],
            "_model_module": "@jupyter-widgets/controls",
            "_model_module_version": "1.5.0",
            "_model_name": "FloatProgressModel",
            "_view_count": null,
            "_view_module": "@jupyter-widgets/controls",
            "_view_module_version": "1.5.0",
            "_view_name": "ProgressView",
            "bar_style": "success",
            "description": "",
            "description_tooltip": null,
            "layout": "IPY_MODEL_36f9fc47f9a04bf9b5ccc11734bc24b9",
            "max": 451741507,
            "min": 0,
            "orientation": "horizontal",
            "style": "IPY_MODEL_b0210faafeb94c6d83f94db0f077d7bd",
            "value": 451741507
          }
        },
        "f403e4d895c34a25a51ed709c67f52be": {
          "model_module": "@jupyter-widgets/controls",
          "model_name": "HTMLModel",
          "model_module_version": "1.5.0",
          "state": {
            "_dom_classes": [],
            "_model_module": "@jupyter-widgets/controls",
            "_model_module_version": "1.5.0",
            "_model_name": "HTMLModel",
            "_view_count": null,
            "_view_module": "@jupyter-widgets/controls",
            "_view_module_version": "1.5.0",
            "_view_name": "HTMLView",
            "description": "",
            "description_tooltip": null,
            "layout": "IPY_MODEL_3addb33f8fad49bea555d048eb714958",
            "placeholder": "​",
            "style": "IPY_MODEL_e1bf78c5b8fa4e069a8621f5885528fc",
            "value": " 431M/431M [00:08&lt;00:00, 63.4MB/s]"
          }
        },
        "7602ba9470f54c13bca8518113ef8bd1": {
          "model_module": "@jupyter-widgets/base",
          "model_name": "LayoutModel",
          "model_module_version": "1.2.0",
          "state": {
            "_model_module": "@jupyter-widgets/base",
            "_model_module_version": "1.2.0",
            "_model_name": "LayoutModel",
            "_view_count": null,
            "_view_module": "@jupyter-widgets/base",
            "_view_module_version": "1.2.0",
            "_view_name": "LayoutView",
            "align_content": null,
            "align_items": null,
            "align_self": null,
            "border": null,
            "bottom": null,
            "display": null,
            "flex": null,
            "flex_flow": null,
            "grid_area": null,
            "grid_auto_columns": null,
            "grid_auto_flow": null,
            "grid_auto_rows": null,
            "grid_column": null,
            "grid_gap": null,
            "grid_row": null,
            "grid_template_areas": null,
            "grid_template_columns": null,
            "grid_template_rows": null,
            "height": null,
            "justify_content": null,
            "justify_items": null,
            "left": null,
            "margin": null,
            "max_height": null,
            "max_width": null,
            "min_height": null,
            "min_width": null,
            "object_fit": null,
            "object_position": null,
            "order": null,
            "overflow": null,
            "overflow_x": null,
            "overflow_y": null,
            "padding": null,
            "right": null,
            "top": null,
            "visibility": null,
            "width": null
          }
        },
        "c15b111659f640cbb2c6df175dac5545": {
          "model_module": "@jupyter-widgets/base",
          "model_name": "LayoutModel",
          "model_module_version": "1.2.0",
          "state": {
            "_model_module": "@jupyter-widgets/base",
            "_model_module_version": "1.2.0",
            "_model_name": "LayoutModel",
            "_view_count": null,
            "_view_module": "@jupyter-widgets/base",
            "_view_module_version": "1.2.0",
            "_view_name": "LayoutView",
            "align_content": null,
            "align_items": null,
            "align_self": null,
            "border": null,
            "bottom": null,
            "display": null,
            "flex": null,
            "flex_flow": null,
            "grid_area": null,
            "grid_auto_columns": null,
            "grid_auto_flow": null,
            "grid_auto_rows": null,
            "grid_column": null,
            "grid_gap": null,
            "grid_row": null,
            "grid_template_areas": null,
            "grid_template_columns": null,
            "grid_template_rows": null,
            "height": null,
            "justify_content": null,
            "justify_items": null,
            "left": null,
            "margin": null,
            "max_height": null,
            "max_width": null,
            "min_height": null,
            "min_width": null,
            "object_fit": null,
            "object_position": null,
            "order": null,
            "overflow": null,
            "overflow_x": null,
            "overflow_y": null,
            "padding": null,
            "right": null,
            "top": null,
            "visibility": null,
            "width": null
          }
        },
        "bcc778c648aa46638aeccf28f424cf32": {
          "model_module": "@jupyter-widgets/controls",
          "model_name": "DescriptionStyleModel",
          "model_module_version": "1.5.0",
          "state": {
            "_model_module": "@jupyter-widgets/controls",
            "_model_module_version": "1.5.0",
            "_model_name": "DescriptionStyleModel",
            "_view_count": null,
            "_view_module": "@jupyter-widgets/base",
            "_view_module_version": "1.2.0",
            "_view_name": "StyleView",
            "description_width": ""
          }
        },
        "36f9fc47f9a04bf9b5ccc11734bc24b9": {
          "model_module": "@jupyter-widgets/base",
          "model_name": "LayoutModel",
          "model_module_version": "1.2.0",
          "state": {
            "_model_module": "@jupyter-widgets/base",
            "_model_module_version": "1.2.0",
            "_model_name": "LayoutModel",
            "_view_count": null,
            "_view_module": "@jupyter-widgets/base",
            "_view_module_version": "1.2.0",
            "_view_name": "LayoutView",
            "align_content": null,
            "align_items": null,
            "align_self": null,
            "border": null,
            "bottom": null,
            "display": null,
            "flex": null,
            "flex_flow": null,
            "grid_area": null,
            "grid_auto_columns": null,
            "grid_auto_flow": null,
            "grid_auto_rows": null,
            "grid_column": null,
            "grid_gap": null,
            "grid_row": null,
            "grid_template_areas": null,
            "grid_template_columns": null,
            "grid_template_rows": null,
            "height": null,
            "justify_content": null,
            "justify_items": null,
            "left": null,
            "margin": null,
            "max_height": null,
            "max_width": null,
            "min_height": null,
            "min_width": null,
            "object_fit": null,
            "object_position": null,
            "order": null,
            "overflow": null,
            "overflow_x": null,
            "overflow_y": null,
            "padding": null,
            "right": null,
            "top": null,
            "visibility": null,
            "width": null
          }
        },
        "b0210faafeb94c6d83f94db0f077d7bd": {
          "model_module": "@jupyter-widgets/controls",
          "model_name": "ProgressStyleModel",
          "model_module_version": "1.5.0",
          "state": {
            "_model_module": "@jupyter-widgets/controls",
            "_model_module_version": "1.5.0",
            "_model_name": "ProgressStyleModel",
            "_view_count": null,
            "_view_module": "@jupyter-widgets/base",
            "_view_module_version": "1.2.0",
            "_view_name": "StyleView",
            "bar_color": null,
            "description_width": ""
          }
        },
        "3addb33f8fad49bea555d048eb714958": {
          "model_module": "@jupyter-widgets/base",
          "model_name": "LayoutModel",
          "model_module_version": "1.2.0",
          "state": {
            "_model_module": "@jupyter-widgets/base",
            "_model_module_version": "1.2.0",
            "_model_name": "LayoutModel",
            "_view_count": null,
            "_view_module": "@jupyter-widgets/base",
            "_view_module_version": "1.2.0",
            "_view_name": "LayoutView",
            "align_content": null,
            "align_items": null,
            "align_self": null,
            "border": null,
            "bottom": null,
            "display": null,
            "flex": null,
            "flex_flow": null,
            "grid_area": null,
            "grid_auto_columns": null,
            "grid_auto_flow": null,
            "grid_auto_rows": null,
            "grid_column": null,
            "grid_gap": null,
            "grid_row": null,
            "grid_template_areas": null,
            "grid_template_columns": null,
            "grid_template_rows": null,
            "height": null,
            "justify_content": null,
            "justify_items": null,
            "left": null,
            "margin": null,
            "max_height": null,
            "max_width": null,
            "min_height": null,
            "min_width": null,
            "object_fit": null,
            "object_position": null,
            "order": null,
            "overflow": null,
            "overflow_x": null,
            "overflow_y": null,
            "padding": null,
            "right": null,
            "top": null,
            "visibility": null,
            "width": null
          }
        },
        "e1bf78c5b8fa4e069a8621f5885528fc": {
          "model_module": "@jupyter-widgets/controls",
          "model_name": "DescriptionStyleModel",
          "model_module_version": "1.5.0",
          "state": {
            "_model_module": "@jupyter-widgets/controls",
            "_model_module_version": "1.5.0",
            "_model_name": "DescriptionStyleModel",
            "_view_count": null,
            "_view_module": "@jupyter-widgets/base",
            "_view_module_version": "1.2.0",
            "_view_name": "StyleView",
            "description_width": ""
          }
        }
      }
    }
  },
  "cells": [
    {
      "cell_type": "markdown",
      "metadata": {
        "id": "view-in-github",
        "colab_type": "text"
      },
      "source": [
        "<a href=\"https://colab.research.google.com/github/snaiws/NLP_project/blob/main/Model_koelectra_base.ipynb\" target=\"_parent\"><img src=\"https://colab.research.google.com/assets/colab-badge.svg\" alt=\"Open In Colab\"/></a>"
      ]
    },
    {
      "cell_type": "markdown",
      "source": [
        "# Libraries"
      ],
      "metadata": {
        "id": "ZEQ-tAC6zIGv"
      }
    },
    {
      "cell_type": "code",
      "execution_count": 1,
      "metadata": {
        "colab": {
          "base_uri": "https://localhost:8080/"
        },
        "id": "qhsY0hJvziNP",
        "outputId": "c07dd0ea-63dd-4e5f-c1d5-65c86f6ee33a"
      },
      "outputs": [
        {
          "output_type": "stream",
          "name": "stdout",
          "text": [
            "Looking in indexes: https://pypi.org/simple, https://us-python.pkg.dev/colab-wheels/public/simple/\n",
            "Collecting transformers\n",
            "  Downloading transformers-4.19.2-py3-none-any.whl (4.2 MB)\n",
            "\u001b[K     |████████████████████████████████| 4.2 MB 4.3 MB/s \n",
            "\u001b[?25hCollecting datasets\n",
            "  Downloading datasets-2.2.2-py3-none-any.whl (346 kB)\n",
            "\u001b[K     |████████████████████████████████| 346 kB 71.8 MB/s \n",
            "\u001b[?25hCollecting tokenizers!=0.11.3,<0.13,>=0.11.1\n",
            "  Downloading tokenizers-0.12.1-cp37-cp37m-manylinux_2_12_x86_64.manylinux2010_x86_64.whl (6.6 MB)\n",
            "\u001b[K     |████████████████████████████████| 6.6 MB 37.2 MB/s \n",
            "\u001b[?25hRequirement already satisfied: numpy>=1.17 in /usr/local/lib/python3.7/dist-packages (from transformers) (1.21.6)\n",
            "Requirement already satisfied: importlib-metadata in /usr/local/lib/python3.7/dist-packages (from transformers) (4.11.4)\n",
            "Requirement already satisfied: packaging>=20.0 in /usr/local/lib/python3.7/dist-packages (from transformers) (21.3)\n",
            "Requirement already satisfied: regex!=2019.12.17 in /usr/local/lib/python3.7/dist-packages (from transformers) (2019.12.20)\n",
            "Requirement already satisfied: requests in /usr/local/lib/python3.7/dist-packages (from transformers) (2.23.0)\n",
            "Collecting pyyaml>=5.1\n",
            "  Downloading PyYAML-6.0-cp37-cp37m-manylinux_2_5_x86_64.manylinux1_x86_64.manylinux_2_12_x86_64.manylinux2010_x86_64.whl (596 kB)\n",
            "\u001b[K     |████████████████████████████████| 596 kB 65.9 MB/s \n",
            "\u001b[?25hRequirement already satisfied: tqdm>=4.27 in /usr/local/lib/python3.7/dist-packages (from transformers) (4.64.0)\n",
            "Requirement already satisfied: filelock in /usr/local/lib/python3.7/dist-packages (from transformers) (3.7.0)\n",
            "Collecting huggingface-hub<1.0,>=0.1.0\n",
            "  Downloading huggingface_hub-0.7.0-py3-none-any.whl (86 kB)\n",
            "\u001b[K     |████████████████████████████████| 86 kB 5.7 MB/s \n",
            "\u001b[?25hRequirement already satisfied: typing-extensions>=3.7.4.3 in /usr/local/lib/python3.7/dist-packages (from huggingface-hub<1.0,>=0.1.0->transformers) (4.2.0)\n",
            "Requirement already satisfied: pyparsing!=3.0.5,>=2.0.2 in /usr/local/lib/python3.7/dist-packages (from packaging>=20.0->transformers) (3.0.9)\n",
            "Requirement already satisfied: pyarrow>=6.0.0 in /usr/local/lib/python3.7/dist-packages (from datasets) (6.0.1)\n",
            "Collecting aiohttp\n",
            "  Downloading aiohttp-3.8.1-cp37-cp37m-manylinux_2_5_x86_64.manylinux1_x86_64.manylinux_2_12_x86_64.manylinux2010_x86_64.whl (1.1 MB)\n",
            "\u001b[K     |████████████████████████████████| 1.1 MB 46.3 MB/s \n",
            "\u001b[?25hCollecting dill<0.3.5\n",
            "  Downloading dill-0.3.4-py2.py3-none-any.whl (86 kB)\n",
            "\u001b[K     |████████████████████████████████| 86 kB 6.1 MB/s \n",
            "\u001b[?25hCollecting xxhash\n",
            "  Downloading xxhash-3.0.0-cp37-cp37m-manylinux_2_17_x86_64.manylinux2014_x86_64.whl (212 kB)\n",
            "\u001b[K     |████████████████████████████████| 212 kB 58.9 MB/s \n",
            "\u001b[?25hCollecting responses<0.19\n",
            "  Downloading responses-0.18.0-py3-none-any.whl (38 kB)\n",
            "Collecting fsspec[http]>=2021.05.0\n",
            "  Downloading fsspec-2022.5.0-py3-none-any.whl (140 kB)\n",
            "\u001b[K     |████████████████████████████████| 140 kB 64.7 MB/s \n",
            "\u001b[?25hRequirement already satisfied: pandas in /usr/local/lib/python3.7/dist-packages (from datasets) (1.3.5)\n",
            "Requirement already satisfied: multiprocess in /usr/local/lib/python3.7/dist-packages (from datasets) (0.70.13)\n",
            "Requirement already satisfied: certifi>=2017.4.17 in /usr/local/lib/python3.7/dist-packages (from requests->transformers) (2022.5.18.1)\n",
            "Requirement already satisfied: chardet<4,>=3.0.2 in /usr/local/lib/python3.7/dist-packages (from requests->transformers) (3.0.4)\n",
            "Requirement already satisfied: urllib3!=1.25.0,!=1.25.1,<1.26,>=1.21.1 in /usr/local/lib/python3.7/dist-packages (from requests->transformers) (1.24.3)\n",
            "Requirement already satisfied: idna<3,>=2.5 in /usr/local/lib/python3.7/dist-packages (from requests->transformers) (2.10)\n",
            "Collecting urllib3!=1.25.0,!=1.25.1,<1.26,>=1.21.1\n",
            "  Downloading urllib3-1.25.11-py2.py3-none-any.whl (127 kB)\n",
            "\u001b[K     |████████████████████████████████| 127 kB 56.6 MB/s \n",
            "\u001b[?25hCollecting multidict<7.0,>=4.5\n",
            "  Downloading multidict-6.0.2-cp37-cp37m-manylinux_2_17_x86_64.manylinux2014_x86_64.whl (94 kB)\n",
            "\u001b[K     |████████████████████████████████| 94 kB 4.3 MB/s \n",
            "\u001b[?25hCollecting frozenlist>=1.1.1\n",
            "  Downloading frozenlist-1.3.0-cp37-cp37m-manylinux_2_5_x86_64.manylinux1_x86_64.manylinux_2_17_x86_64.manylinux2014_x86_64.whl (144 kB)\n",
            "\u001b[K     |████████████████████████████████| 144 kB 50.3 MB/s \n",
            "\u001b[?25hRequirement already satisfied: attrs>=17.3.0 in /usr/local/lib/python3.7/dist-packages (from aiohttp->datasets) (21.4.0)\n",
            "Collecting yarl<2.0,>=1.0\n",
            "  Downloading yarl-1.7.2-cp37-cp37m-manylinux_2_5_x86_64.manylinux1_x86_64.manylinux_2_12_x86_64.manylinux2010_x86_64.whl (271 kB)\n",
            "\u001b[K     |████████████████████████████████| 271 kB 59.0 MB/s \n",
            "\u001b[?25hRequirement already satisfied: charset-normalizer<3.0,>=2.0 in /usr/local/lib/python3.7/dist-packages (from aiohttp->datasets) (2.0.12)\n",
            "Collecting async-timeout<5.0,>=4.0.0a3\n",
            "  Downloading async_timeout-4.0.2-py3-none-any.whl (5.8 kB)\n",
            "Collecting aiosignal>=1.1.2\n",
            "  Downloading aiosignal-1.2.0-py3-none-any.whl (8.2 kB)\n",
            "Collecting asynctest==0.13.0\n",
            "  Downloading asynctest-0.13.0-py3-none-any.whl (26 kB)\n",
            "Requirement already satisfied: zipp>=0.5 in /usr/local/lib/python3.7/dist-packages (from importlib-metadata->transformers) (3.8.0)\n",
            "Collecting multiprocess\n",
            "  Downloading multiprocess-0.70.12.2-py37-none-any.whl (112 kB)\n",
            "\u001b[K     |████████████████████████████████| 112 kB 54.4 MB/s \n",
            "\u001b[?25hRequirement already satisfied: pytz>=2017.3 in /usr/local/lib/python3.7/dist-packages (from pandas->datasets) (2022.1)\n",
            "Requirement already satisfied: python-dateutil>=2.7.3 in /usr/local/lib/python3.7/dist-packages (from pandas->datasets) (2.8.2)\n",
            "Requirement already satisfied: six>=1.5 in /usr/local/lib/python3.7/dist-packages (from python-dateutil>=2.7.3->pandas->datasets) (1.15.0)\n",
            "Installing collected packages: multidict, frozenlist, yarl, urllib3, asynctest, async-timeout, aiosignal, pyyaml, fsspec, dill, aiohttp, xxhash, tokenizers, responses, multiprocess, huggingface-hub, transformers, datasets\n",
            "  Attempting uninstall: urllib3\n",
            "    Found existing installation: urllib3 1.24.3\n",
            "    Uninstalling urllib3-1.24.3:\n",
            "      Successfully uninstalled urllib3-1.24.3\n",
            "  Attempting uninstall: pyyaml\n",
            "    Found existing installation: PyYAML 3.13\n",
            "    Uninstalling PyYAML-3.13:\n",
            "      Successfully uninstalled PyYAML-3.13\n",
            "  Attempting uninstall: dill\n",
            "    Found existing installation: dill 0.3.5.1\n",
            "    Uninstalling dill-0.3.5.1:\n",
            "      Successfully uninstalled dill-0.3.5.1\n",
            "  Attempting uninstall: multiprocess\n",
            "    Found existing installation: multiprocess 0.70.13\n",
            "    Uninstalling multiprocess-0.70.13:\n",
            "      Successfully uninstalled multiprocess-0.70.13\n",
            "\u001b[31mERROR: pip's dependency resolver does not currently take into account all the packages that are installed. This behaviour is the source of the following dependency conflicts.\n",
            "datascience 0.10.6 requires folium==0.2.1, but you have folium 0.8.3 which is incompatible.\u001b[0m\n",
            "Successfully installed aiohttp-3.8.1 aiosignal-1.2.0 async-timeout-4.0.2 asynctest-0.13.0 datasets-2.2.2 dill-0.3.4 frozenlist-1.3.0 fsspec-2022.5.0 huggingface-hub-0.7.0 multidict-6.0.2 multiprocess-0.70.12.2 pyyaml-6.0 responses-0.18.0 tokenizers-0.12.1 transformers-4.19.2 urllib3-1.25.11 xxhash-3.0.0 yarl-1.7.2\n",
            "Looking in indexes: https://pypi.org/simple, https://us-python.pkg.dev/colab-wheels/public/simple/\n",
            "Requirement already satisfied: fastprogress in /usr/local/lib/python3.7/dist-packages (1.0.2)\n",
            "Looking in indexes: https://pypi.org/simple, https://us-python.pkg.dev/colab-wheels/public/simple/\n",
            "Collecting optuna\n",
            "  Downloading optuna-2.10.0-py3-none-any.whl (308 kB)\n",
            "\u001b[K     |████████████████████████████████| 308 kB 4.3 MB/s \n",
            "\u001b[?25hRequirement already satisfied: packaging>=20.0 in /usr/local/lib/python3.7/dist-packages (from optuna) (21.3)\n",
            "Collecting cliff\n",
            "  Downloading cliff-3.10.1-py3-none-any.whl (81 kB)\n",
            "\u001b[K     |████████████████████████████████| 81 kB 12.1 MB/s \n",
            "\u001b[?25hRequirement already satisfied: tqdm in /usr/local/lib/python3.7/dist-packages (from optuna) (4.64.0)\n",
            "Collecting alembic\n",
            "  Downloading alembic-1.8.0-py3-none-any.whl (209 kB)\n",
            "\u001b[K     |████████████████████████████████| 209 kB 66.6 MB/s \n",
            "\u001b[?25hCollecting colorlog\n",
            "  Downloading colorlog-6.6.0-py2.py3-none-any.whl (11 kB)\n",
            "Requirement already satisfied: numpy in /usr/local/lib/python3.7/dist-packages (from optuna) (1.21.6)\n",
            "Requirement already satisfied: sqlalchemy>=1.1.0 in /usr/local/lib/python3.7/dist-packages (from optuna) (1.4.36)\n",
            "Requirement already satisfied: PyYAML in /usr/local/lib/python3.7/dist-packages (from optuna) (6.0)\n",
            "Collecting cmaes>=0.8.2\n",
            "  Downloading cmaes-0.8.2-py3-none-any.whl (15 kB)\n",
            "Requirement already satisfied: scipy!=1.4.0 in /usr/local/lib/python3.7/dist-packages (from optuna) (1.4.1)\n",
            "Requirement already satisfied: pyparsing!=3.0.5,>=2.0.2 in /usr/local/lib/python3.7/dist-packages (from packaging>=20.0->optuna) (3.0.9)\n",
            "Requirement already satisfied: importlib-metadata in /usr/local/lib/python3.7/dist-packages (from sqlalchemy>=1.1.0->optuna) (4.11.4)\n",
            "Requirement already satisfied: greenlet!=0.4.17 in /usr/local/lib/python3.7/dist-packages (from sqlalchemy>=1.1.0->optuna) (1.1.2)\n",
            "Collecting Mako\n",
            "  Downloading Mako-1.2.0-py3-none-any.whl (78 kB)\n",
            "\u001b[K     |████████████████████████████████| 78 kB 6.3 MB/s \n",
            "\u001b[?25hRequirement already satisfied: importlib-resources in /usr/local/lib/python3.7/dist-packages (from alembic->optuna) (5.7.1)\n",
            "Collecting pbr!=2.1.0,>=2.0.0\n",
            "  Downloading pbr-5.9.0-py2.py3-none-any.whl (112 kB)\n",
            "\u001b[K     |████████████████████████████████| 112 kB 66.8 MB/s \n",
            "\u001b[?25hCollecting stevedore>=2.0.1\n",
            "  Downloading stevedore-3.5.0-py3-none-any.whl (49 kB)\n",
            "\u001b[K     |████████████████████████████████| 49 kB 7.9 MB/s \n",
            "\u001b[?25hCollecting cmd2>=1.0.0\n",
            "  Downloading cmd2-2.4.1-py3-none-any.whl (146 kB)\n",
            "\u001b[K     |████████████████████████████████| 146 kB 69.7 MB/s \n",
            "\u001b[?25hRequirement already satisfied: PrettyTable>=0.7.2 in /usr/local/lib/python3.7/dist-packages (from cliff->optuna) (3.3.0)\n",
            "Collecting autopage>=0.4.0\n",
            "  Downloading autopage-0.5.1-py3-none-any.whl (29 kB)\n",
            "Requirement already satisfied: wcwidth>=0.1.7 in /usr/local/lib/python3.7/dist-packages (from cmd2>=1.0.0->cliff->optuna) (0.2.5)\n",
            "Collecting pyperclip>=1.6\n",
            "  Downloading pyperclip-1.8.2.tar.gz (20 kB)\n",
            "Requirement already satisfied: attrs>=16.3.0 in /usr/local/lib/python3.7/dist-packages (from cmd2>=1.0.0->cliff->optuna) (21.4.0)\n",
            "Requirement already satisfied: typing-extensions in /usr/local/lib/python3.7/dist-packages (from cmd2>=1.0.0->cliff->optuna) (4.2.0)\n",
            "Requirement already satisfied: zipp>=0.5 in /usr/local/lib/python3.7/dist-packages (from importlib-metadata->sqlalchemy>=1.1.0->optuna) (3.8.0)\n",
            "Requirement already satisfied: MarkupSafe>=0.9.2 in /usr/local/lib/python3.7/dist-packages (from Mako->alembic->optuna) (2.0.1)\n",
            "Building wheels for collected packages: pyperclip\n",
            "  Building wheel for pyperclip (setup.py) ... \u001b[?25l\u001b[?25hdone\n",
            "  Created wheel for pyperclip: filename=pyperclip-1.8.2-py3-none-any.whl size=11137 sha256=4cdfe2be2b72c288d5489ecf9c92e13181afd9791c347a19c7e197c11b8f5655\n",
            "  Stored in directory: /root/.cache/pip/wheels/9f/18/84/8f69f8b08169c7bae2dde6bd7daf0c19fca8c8e500ee620a28\n",
            "Successfully built pyperclip\n",
            "Installing collected packages: pyperclip, pbr, stevedore, Mako, cmd2, autopage, colorlog, cmaes, cliff, alembic, optuna\n",
            "Successfully installed Mako-1.2.0 alembic-1.8.0 autopage-0.5.1 cliff-3.10.1 cmaes-0.8.2 cmd2-2.4.1 colorlog-6.6.0 optuna-2.10.0 pbr-5.9.0 pyperclip-1.8.2 stevedore-3.5.0\n"
          ]
        }
      ],
      "source": [
        "# transformer, datset 설치\n",
        "!pip install transformers datasets\n",
        "#progress bar\n",
        "!pip install fastprogress\n",
        "# Hyperparameter 탐색: optuna 설치\n",
        "!pip install optuna"
      ]
    },
    {
      "cell_type": "code",
      "source": [
        "# tensorboard 패키지 설치\n",
        "!pip install jupyter-tensorboard"
      ],
      "metadata": {
        "colab": {
          "base_uri": "https://localhost:8080/"
        },
        "id": "kHaTl0OG-bvy",
        "outputId": "b07ebc8e-4176-4e18-b380-863133b7e79f"
      },
      "execution_count": 2,
      "outputs": [
        {
          "output_type": "stream",
          "name": "stdout",
          "text": [
            "Looking in indexes: https://pypi.org/simple, https://us-python.pkg.dev/colab-wheels/public/simple/\n",
            "Collecting jupyter-tensorboard\n",
            "  Downloading jupyter_tensorboard-0.2.0.tar.gz (15 kB)\n",
            "Requirement already satisfied: notebook>=5.0 in /usr/local/lib/python3.7/dist-packages (from jupyter-tensorboard) (5.3.1)\n",
            "Requirement already satisfied: jinja2 in /usr/local/lib/python3.7/dist-packages (from notebook>=5.0->jupyter-tensorboard) (2.11.3)\n",
            "Requirement already satisfied: Send2Trash in /usr/local/lib/python3.7/dist-packages (from notebook>=5.0->jupyter-tensorboard) (1.8.0)\n",
            "Requirement already satisfied: terminado>=0.8.1 in /usr/local/lib/python3.7/dist-packages (from notebook>=5.0->jupyter-tensorboard) (0.13.3)\n",
            "Requirement already satisfied: nbformat in /usr/local/lib/python3.7/dist-packages (from notebook>=5.0->jupyter-tensorboard) (5.4.0)\n",
            "Requirement already satisfied: ipython-genutils in /usr/local/lib/python3.7/dist-packages (from notebook>=5.0->jupyter-tensorboard) (0.2.0)\n",
            "Requirement already satisfied: traitlets>=4.2.1 in /usr/local/lib/python3.7/dist-packages (from notebook>=5.0->jupyter-tensorboard) (5.1.1)\n",
            "Requirement already satisfied: tornado>=4 in /usr/local/lib/python3.7/dist-packages (from notebook>=5.0->jupyter-tensorboard) (5.1.1)\n",
            "Requirement already satisfied: jupyter-core>=4.4.0 in /usr/local/lib/python3.7/dist-packages (from notebook>=5.0->jupyter-tensorboard) (4.10.0)\n",
            "Requirement already satisfied: jupyter-client>=5.2.0 in /usr/local/lib/python3.7/dist-packages (from notebook>=5.0->jupyter-tensorboard) (5.3.5)\n",
            "Requirement already satisfied: nbconvert in /usr/local/lib/python3.7/dist-packages (from notebook>=5.0->jupyter-tensorboard) (5.6.1)\n",
            "Requirement already satisfied: ipykernel in /usr/local/lib/python3.7/dist-packages (from notebook>=5.0->jupyter-tensorboard) (4.10.1)\n",
            "Requirement already satisfied: python-dateutil>=2.1 in /usr/local/lib/python3.7/dist-packages (from jupyter-client>=5.2.0->notebook>=5.0->jupyter-tensorboard) (2.8.2)\n",
            "Requirement already satisfied: pyzmq>=13 in /usr/local/lib/python3.7/dist-packages (from jupyter-client>=5.2.0->notebook>=5.0->jupyter-tensorboard) (23.0.0)\n",
            "Requirement already satisfied: six>=1.5 in /usr/local/lib/python3.7/dist-packages (from python-dateutil>=2.1->jupyter-client>=5.2.0->notebook>=5.0->jupyter-tensorboard) (1.15.0)\n",
            "Requirement already satisfied: ptyprocess in /usr/local/lib/python3.7/dist-packages (from terminado>=0.8.1->notebook>=5.0->jupyter-tensorboard) (0.7.0)\n",
            "Requirement already satisfied: ipython>=4.0.0 in /usr/local/lib/python3.7/dist-packages (from ipykernel->notebook>=5.0->jupyter-tensorboard) (5.5.0)\n",
            "Requirement already satisfied: pickleshare in /usr/local/lib/python3.7/dist-packages (from ipython>=4.0.0->ipykernel->notebook>=5.0->jupyter-tensorboard) (0.7.5)\n",
            "Requirement already satisfied: pygments in /usr/local/lib/python3.7/dist-packages (from ipython>=4.0.0->ipykernel->notebook>=5.0->jupyter-tensorboard) (2.6.1)\n",
            "Requirement already satisfied: pexpect in /usr/local/lib/python3.7/dist-packages (from ipython>=4.0.0->ipykernel->notebook>=5.0->jupyter-tensorboard) (4.8.0)\n",
            "Requirement already satisfied: simplegeneric>0.8 in /usr/local/lib/python3.7/dist-packages (from ipython>=4.0.0->ipykernel->notebook>=5.0->jupyter-tensorboard) (0.8.1)\n",
            "Requirement already satisfied: prompt-toolkit<2.0.0,>=1.0.4 in /usr/local/lib/python3.7/dist-packages (from ipython>=4.0.0->ipykernel->notebook>=5.0->jupyter-tensorboard) (1.0.18)\n",
            "Requirement already satisfied: decorator in /usr/local/lib/python3.7/dist-packages (from ipython>=4.0.0->ipykernel->notebook>=5.0->jupyter-tensorboard) (4.4.2)\n",
            "Requirement already satisfied: setuptools>=18.5 in /usr/local/lib/python3.7/dist-packages (from ipython>=4.0.0->ipykernel->notebook>=5.0->jupyter-tensorboard) (57.4.0)\n",
            "Requirement already satisfied: wcwidth in /usr/local/lib/python3.7/dist-packages (from prompt-toolkit<2.0.0,>=1.0.4->ipython>=4.0.0->ipykernel->notebook>=5.0->jupyter-tensorboard) (0.2.5)\n",
            "Requirement already satisfied: MarkupSafe>=0.23 in /usr/local/lib/python3.7/dist-packages (from jinja2->notebook>=5.0->jupyter-tensorboard) (2.0.1)\n",
            "Requirement already satisfied: entrypoints>=0.2.2 in /usr/local/lib/python3.7/dist-packages (from nbconvert->notebook>=5.0->jupyter-tensorboard) (0.4)\n",
            "Requirement already satisfied: bleach in /usr/local/lib/python3.7/dist-packages (from nbconvert->notebook>=5.0->jupyter-tensorboard) (5.0.0)\n",
            "Requirement already satisfied: mistune<2,>=0.8.1 in /usr/local/lib/python3.7/dist-packages (from nbconvert->notebook>=5.0->jupyter-tensorboard) (0.8.4)\n",
            "Requirement already satisfied: testpath in /usr/local/lib/python3.7/dist-packages (from nbconvert->notebook>=5.0->jupyter-tensorboard) (0.6.0)\n",
            "Requirement already satisfied: defusedxml in /usr/local/lib/python3.7/dist-packages (from nbconvert->notebook>=5.0->jupyter-tensorboard) (0.7.1)\n",
            "Requirement already satisfied: pandocfilters>=1.4.1 in /usr/local/lib/python3.7/dist-packages (from nbconvert->notebook>=5.0->jupyter-tensorboard) (1.5.0)\n",
            "Requirement already satisfied: jsonschema>=2.6 in /usr/local/lib/python3.7/dist-packages (from nbformat->notebook>=5.0->jupyter-tensorboard) (4.3.3)\n",
            "Requirement already satisfied: fastjsonschema in /usr/local/lib/python3.7/dist-packages (from nbformat->notebook>=5.0->jupyter-tensorboard) (2.15.3)\n",
            "Requirement already satisfied: importlib-metadata in /usr/local/lib/python3.7/dist-packages (from jsonschema>=2.6->nbformat->notebook>=5.0->jupyter-tensorboard) (4.11.4)\n",
            "Requirement already satisfied: importlib-resources>=1.4.0 in /usr/local/lib/python3.7/dist-packages (from jsonschema>=2.6->nbformat->notebook>=5.0->jupyter-tensorboard) (5.7.1)\n",
            "Requirement already satisfied: pyrsistent!=0.17.0,!=0.17.1,!=0.17.2,>=0.14.0 in /usr/local/lib/python3.7/dist-packages (from jsonschema>=2.6->nbformat->notebook>=5.0->jupyter-tensorboard) (0.18.1)\n",
            "Requirement already satisfied: attrs>=17.4.0 in /usr/local/lib/python3.7/dist-packages (from jsonschema>=2.6->nbformat->notebook>=5.0->jupyter-tensorboard) (21.4.0)\n",
            "Requirement already satisfied: typing-extensions in /usr/local/lib/python3.7/dist-packages (from jsonschema>=2.6->nbformat->notebook>=5.0->jupyter-tensorboard) (4.2.0)\n",
            "Requirement already satisfied: zipp>=3.1.0 in /usr/local/lib/python3.7/dist-packages (from importlib-resources>=1.4.0->jsonschema>=2.6->nbformat->notebook>=5.0->jupyter-tensorboard) (3.8.0)\n",
            "Requirement already satisfied: webencodings in /usr/local/lib/python3.7/dist-packages (from bleach->nbconvert->notebook>=5.0->jupyter-tensorboard) (0.5.1)\n",
            "Building wheels for collected packages: jupyter-tensorboard\n",
            "  Building wheel for jupyter-tensorboard (setup.py) ... \u001b[?25l\u001b[?25hdone\n",
            "  Created wheel for jupyter-tensorboard: filename=jupyter_tensorboard-0.2.0-py2.py3-none-any.whl size=15258 sha256=b10c561d4b97bc384f8b58e35e78e556f09026631e62ba74b1764463b31e48a0\n",
            "  Stored in directory: /root/.cache/pip/wheels/59/14/ab/6d0bce449039ebdcbf45c1aff8c19153a68bf3f0492a32620e\n",
            "Successfully built jupyter-tensorboard\n",
            "Installing collected packages: jupyter-tensorboard\n",
            "Successfully installed jupyter-tensorboard-0.2.0\n"
          ]
        }
      ]
    },
    {
      "cell_type": "code",
      "source": [
        "# tensorboard extension 설치\n",
        "%load_ext tensorboard"
      ],
      "metadata": {
        "id": "UwDRmaJt-ZtL"
      },
      "execution_count": 3,
      "outputs": []
    },
    {
      "cell_type": "code",
      "source": [
        "import os\n",
        "import copy\n",
        "import json\n",
        "import logging\n",
        "import re\n",
        "from tqdm import tqdm\n",
        "\n",
        "# Data\n",
        "import pandas as pd\n",
        "import json\n",
        "import numpy as np\n",
        "import random\n",
        "import torch\n",
        "import transformers\n",
        "from numpy.lib.function_base import average\n",
        "from sklearn.model_selection import train_test_split\n",
        "from datasets import load_metric\n",
        "\n",
        "import torch\n",
        "import torch.nn as nn\n",
        "import torch.nn.functional as F\n",
        "from torch.utils.data import TensorDataset\n",
        "from torch.utils.data import DataLoader, RandomSampler, SequentialSampler\n",
        "from torch.utils.tensorboard import SummaryWriter\n",
        "from torch.nn.utils import clip_grad_norm_\n",
        "\n",
        "# Visualize Loss \n",
        "import seaborn as sns\n",
        "import matplotlib.pyplot as plt\n",
        "\n",
        "\n",
        "# Modeling\n",
        "from transformers import ElectraConfig, ElectraTokenizer, ElectraForSequenceClassification, ElectraModel\n",
        "from transformers import get_linear_schedule_with_warmup, AdamW\n",
        "from transformers import EarlyStoppingCallback\n",
        "\n",
        "# Train\n",
        "from fastprogress.fastprogress import master_bar, progress_bar"
      ],
      "metadata": {
        "id": "Za-SXc_G0uc3"
      },
      "execution_count": 4,
      "outputs": []
    },
    {
      "cell_type": "code",
      "source": [
        "# seed\n",
        "seed = 42\n",
        "torch.manual_seed(seed)\n",
        "torch.cuda.manual_seed_all(seed)\n",
        "\n",
        "np.random.seed(seed)\n",
        "random.seed(seed)\n",
        "\n",
        "torch.backends.cudnn.deterministic = True\n",
        "torch.backends.cudnn.benchmark = False\n",
        "\n",
        "# device type\n",
        "if torch.cuda.is_available():\n",
        "    device = torch.device(\"cuda\")\n",
        "    print(f\"# available GPUs : {torch.cuda.device_count()}\")\n",
        "    print(f\"GPU name : {torch.cuda.get_device_name()}\")\n",
        "else:\n",
        "    device = torch.device(\"cpu\")\n",
        "print(device)"
      ],
      "metadata": {
        "colab": {
          "base_uri": "https://localhost:8080/"
        },
        "id": "IJKSbUoR1qEo",
        "outputId": "e1c24762-cf14-4ab3-d4fe-e39b0cba9190"
      },
      "execution_count": 5,
      "outputs": [
        {
          "output_type": "stream",
          "name": "stdout",
          "text": [
            "# available GPUs : 1\n",
            "GPU name : Tesla P100-PCIE-16GB\n",
            "cuda\n"
          ]
        }
      ]
    },
    {
      "cell_type": "code",
      "source": [
        "#reset gpu cache\n",
        "import gc\n",
        "gc.collect()\n",
        "torch.cuda.empty_cache()"
      ],
      "metadata": {
        "id": "FSdHKK8h1ouK"
      },
      "execution_count": 6,
      "outputs": []
    },
    {
      "cell_type": "markdown",
      "source": [
        "# AUGMENT"
      ],
      "metadata": {
        "id": "GcEadgt319Jw"
      }
    },
    {
      "cell_type": "code",
      "source": [
        "# argument setting\n",
        "train_batch_size = 32\n",
        "eval_batch_size = 64\n",
        "epochs=20\n",
        "patience=2\n",
        "\n",
        "num_label = 1\n",
        "max_seq_len=128\n",
        "learning_rate=5e-5\n",
        "adam_epsilon = 1e-8\n",
        "\n",
        "model_checkpoint = \"monologg/koelectra-base-v3-discriminator\"\n",
        "model_type = \"koelectra-base-v3\"\n",
        "tokenizer = ElectraTokenizer.from_pretrained(model_checkpoint, do_lower_case=False)"
      ],
      "metadata": {
        "id": "vT1ph0_Q1tMN",
        "colab": {
          "base_uri": "https://localhost:8080/",
          "height": 113,
          "referenced_widgets": [
            "d445bfed5e4547c5afa922b89fd1a693",
            "f88022cf2da440c899488a2f7aa36ade",
            "7fb23aa25caa43008ec38367a82e864d",
            "ece381575124448d8ec772f5413a90fe",
            "c842d33f22524a14a9e731463d72f112",
            "ddad9693789f47d08187b5421f844b7d",
            "6a015e4f22f2470eb24a4213963dc5a7",
            "dcc0bcaaa1cc4868bfe535889df5d716",
            "2b426ea059cc493ca5fe0b30e924a4b0",
            "69e46b7371ba42b3ba984277346ce220",
            "63b45f5e312f4910ab6f0abdf55d7964",
            "e379622e8d964bc19e8495ccf1d77174",
            "c380b8417af7453abf8bb8c0b5e6670f",
            "59f016df8dfa47c3b29cfe443751fbaf",
            "54a41d703a7d40508dbf78785b42c71f",
            "0b51a15e4f004bef85879d863a3f1cb7",
            "2140acb6e1be4cc3a10e9f497293c307",
            "4a49648939a0459bb72991d725e222c3",
            "134d22274e74478f8a3ebd823b04a475",
            "9996f05665e04b18ae8e7da15bc03823",
            "b36526c87fc547f59ed19de51f0d4574",
            "7b8a4f86bcbe4548ad606603896f47ae",
            "55ecf6e0777343e3836b989e9744c376",
            "c0baedc17a5342709eedba3c34abc793",
            "d9c02197be2342d49112dd4163b37001",
            "e5e86ec2b3d7472aabfdfce2507ab3fc",
            "db3d9b825e6e483ab9a0d0e270985cbf",
            "ca4f62aa5b794b4f91ea300883a34520",
            "26e8674a506e41c0ae0deb829a5eaa54",
            "1db46d8757de42a5a88a1fe86a3c4e3f",
            "7411ecf606ae46229cc9c1eaef824840",
            "329bc2d6079140209d5b7d37bc331e71",
            "9dfd0c49cf61422096bd1754e5e473c6"
          ]
        },
        "outputId": "14797fea-00d1-400f-ab21-df6f28c16dec"
      },
      "execution_count": 7,
      "outputs": [
        {
          "output_type": "display_data",
          "data": {
            "text/plain": [
              "Downloading:   0%|          | 0.00/257k [00:00<?, ?B/s]"
            ],
            "application/vnd.jupyter.widget-view+json": {
              "version_major": 2,
              "version_minor": 0,
              "model_id": "d445bfed5e4547c5afa922b89fd1a693"
            }
          },
          "metadata": {}
        },
        {
          "output_type": "display_data",
          "data": {
            "text/plain": [
              "Downloading:   0%|          | 0.00/61.0 [00:00<?, ?B/s]"
            ],
            "application/vnd.jupyter.widget-view+json": {
              "version_major": 2,
              "version_minor": 0,
              "model_id": "e379622e8d964bc19e8495ccf1d77174"
            }
          },
          "metadata": {}
        },
        {
          "output_type": "display_data",
          "data": {
            "text/plain": [
              "Downloading:   0%|          | 0.00/467 [00:00<?, ?B/s]"
            ],
            "application/vnd.jupyter.widget-view+json": {
              "version_major": 2,
              "version_minor": 0,
              "model_id": "55ecf6e0777343e3836b989e9744c376"
            }
          },
          "metadata": {}
        }
      ]
    },
    {
      "cell_type": "markdown",
      "source": [
        "# DATA FUNC"
      ],
      "metadata": {
        "id": "s10xRcuk1RGk"
      }
    },
    {
      "cell_type": "markdown",
      "source": [
        "### Data prepare"
      ],
      "metadata": {
        "id": "x51TnnRV1XIb"
      }
    },
    {
      "cell_type": "code",
      "source": [
        "from google.colab import drive\n",
        "drive.mount('/content/drive')"
      ],
      "metadata": {
        "id": "XOT2hjP30nYZ",
        "colab": {
          "base_uri": "https://localhost:8080/"
        },
        "outputId": "a3009708-11e3-4edd-c7a1-eb1cdb4c6222"
      },
      "execution_count": 8,
      "outputs": [
        {
          "output_type": "stream",
          "name": "stdout",
          "text": [
            "Drive already mounted at /content/drive; to attempt to forcibly remount, call drive.mount(\"/content/drive\", force_remount=True).\n"
          ]
        }
      ]
    },
    {
      "cell_type": "code",
      "source": [
        "cd /content/drive/MyDrive/AIBootCamp/NLP"
      ],
      "metadata": {
        "colab": {
          "base_uri": "https://localhost:8080/"
        },
        "id": "lghtyv1f72V2",
        "outputId": "0d7e70aa-6eb9-48c7-bab4-1d0fa87b9e31"
      },
      "execution_count": 9,
      "outputs": [
        {
          "output_type": "stream",
          "name": "stdout",
          "text": [
            "/content/drive/MyDrive/AIBootCamp/NLP\n"
          ]
        }
      ]
    },
    {
      "cell_type": "code",
      "source": [
        "import os\n",
        "_CUR_DIR = os.path.abspath(os.curdir)\n",
        "print(f\"My current directory : {_CUR_DIR}\")"
      ],
      "metadata": {
        "colab": {
          "base_uri": "https://localhost:8080/"
        },
        "id": "QfCe9d8572QH",
        "outputId": "da57b1ef-5cdc-4b03-9875-d16fa1a4498b"
      },
      "execution_count": 10,
      "outputs": [
        {
          "output_type": "stream",
          "name": "stdout",
          "text": [
            "My current directory : /content/drive/MyDrive/AIBootCamp/NLP\n"
          ]
        }
      ]
    },
    {
      "cell_type": "code",
      "source": [
        "train_all = pd.read_json('./data/klue-sts-v1.1/klue-sts-v1.1_train.json')\n",
        "test = pd.read_json('./data/klue-sts-v1.1/klue-sts-v1.1_dev.json')"
      ],
      "metadata": {
        "id": "lCgB7MLo2NVj"
      },
      "execution_count": 11,
      "outputs": []
    },
    {
      "cell_type": "code",
      "source": [
        "# 중복제거\n",
        "train_all = train_all.drop_duplicates(['sentence1','sentence2']).reset_index(drop=True)\n",
        "test = test.drop_duplicates(['sentence1','sentence2']).reset_index(drop=True)"
      ],
      "metadata": {
        "id": "6FtvIYsU5H4m"
      },
      "execution_count": 12,
      "outputs": []
    },
    {
      "cell_type": "code",
      "source": [
        "train, valid = train_test_split(train_all, test_size=0.1, random_state=seed)"
      ],
      "metadata": {
        "id": "8C0leeOI2Vdi"
      },
      "execution_count": 13,
      "outputs": []
    },
    {
      "cell_type": "markdown",
      "source": [
        "### Data Utils"
      ],
      "metadata": {
        "id": "o8naMMww1r2P"
      }
    },
    {
      "cell_type": "code",
      "source": [
        "def make_seed_dataset(df):\n",
        "    # sentence pairs\n",
        "    sent_pairs = [(sent1, sent2) for sent1, sent2 in zip(df['sentence1'], df['sentence2'])]\n",
        "    \n",
        "    # labels(float)\n",
        "    labels = [label['real-label'] for label in df['labels']]\n",
        "\n",
        "    # labels(binary)\n",
        "    b_labels = [label['binary-label'] for label in  df['labels']]\n",
        "    \n",
        "    return sent_pairs, labels, b_labels\n",
        "\n",
        "def encode(tokenizer, sent_pairs):\n",
        "    batch_encoding = tokenizer.batch_encode_plus(\n",
        "                              [(pairs[0], pairs[1]) for pairs in tqdm(sent_pairs, total=len(sent_pairs))], # total : int, 전체 반복량\n",
        "                              max_length=max_seq_len,\n",
        "                              padding=\"max_length\",    \n",
        "                              add_special_tokens=True,\n",
        "                              truncation=True,\n",
        "                              )\n",
        "    return batch_encoding\n",
        "\n",
        "def make_features(sent_pairs, batch_encoding, labels):\n",
        "    features = []\n",
        "    for i in tqdm(range(len(sent_pairs)), total=len(sent_pairs)):\n",
        "        inputs = {k: batch_encoding[k][i] for k in batch_encoding}\n",
        "        if \"token_type_ids\" not in inputs:\n",
        "            inputs[\"token_type_ids\"] = [0] * len(inputs[\"input_ids\"])\n",
        "\n",
        "        feature = {'input_ids':inputs['input_ids'],\n",
        "                  'attention_mask':inputs['attention_mask'],\n",
        "                  'token_type_ids':inputs['token_type_ids'],\n",
        "                  'label':labels[i]\n",
        "                  }\n",
        "        \n",
        "        features.append(feature)\n",
        "    \n",
        "    return features\n",
        "\n",
        "def make_inputs(features):\n",
        "    # inputs\n",
        "    all_input_ids = torch.tensor([f['input_ids'] for f in features], dtype=torch.long)\n",
        "    all_attention_mask = torch.tensor([f['attention_mask'] for f in features], dtype=torch.long)\n",
        "    all_token_type_ids = torch.tensor([f['token_type_ids'] for f in features], dtype=torch.long)\n",
        "\n",
        "    # label\n",
        "    try:\n",
        "      all_labels = torch.tensor([f['label'] for f in features], dtype=torch.float)\n",
        "    except:\n",
        "        raise TypeError # dtype change to torch.float\n",
        "\n",
        "    # dataset\n",
        "    dataset = TensorDataset(all_input_ids, all_attention_mask, all_token_type_ids, all_labels)\n",
        "\n",
        "    return dataset\n",
        "\n",
        "def make_dataloader(dataset, mode:str):\n",
        "    assert mode in ['train', 'valid', 'test']\n",
        "\n",
        "    if mode == \"train\":\n",
        "        dataloader = DataLoader(dataset = dataset, # (input_ids, attention_mask, token_type_ids, labels)\n",
        "                                sampler = RandomSampler(dataset), \n",
        "                                batch_size = train_batch_size)\n",
        "    elif mode == \"valid\":\n",
        "        dataloader = DataLoader(dataset = dataset, \n",
        "                                sampler = RandomSampler(dataset), \n",
        "                                batch_size = eval_batch_size)\n",
        "    elif mode == \"test\":\n",
        "        dataloader = DataLoader(dataset = dataset, \n",
        "                                sampler = SequentialSampler(dataset), \n",
        "                                batch_size = eval_batch_size)\n",
        "    else:\n",
        "        raise AssertionError(mode) # write mode\n",
        "\n",
        "    return dataloader"
      ],
      "metadata": {
        "id": "wlu_iutg1p_3"
      },
      "execution_count": 14,
      "outputs": []
    },
    {
      "cell_type": "markdown",
      "source": [
        "## DATA SET"
      ],
      "metadata": {
        "id": "4YVSqs1Q4HUl"
      }
    },
    {
      "cell_type": "code",
      "source": [
        "# train dataset\n",
        "t_sent_pairs, t_labels, t_b_labels = make_seed_dataset(train)\n",
        "\n",
        "# validation dataset\n",
        "v_sent_pairs, v_labels, v_b_labels = make_seed_dataset(valid)\n",
        "\n",
        "# dev dataset\n",
        "d_sent_pairs, d_labels, d_b_labels = make_seed_dataset(test)"
      ],
      "metadata": {
        "id": "bkN1xkZ1K-7b"
      },
      "execution_count": 15,
      "outputs": []
    },
    {
      "cell_type": "code",
      "source": [
        "# Encoding\n",
        "encoded_train = encode(tokenizer, t_sent_pairs)\n",
        "encoded_valid = encode(tokenizer, v_sent_pairs) \n",
        "encoded_test = encode(tokenizer, d_sent_pairs)"
      ],
      "metadata": {
        "id": "eU4gJ35nAEMV",
        "colab": {
          "base_uri": "https://localhost:8080/"
        },
        "outputId": "a19a093b-f17e-40d5-bbaa-72bc25e57327"
      },
      "execution_count": 16,
      "outputs": [
        {
          "output_type": "stream",
          "name": "stderr",
          "text": [
            "100%|██████████| 10494/10494 [00:00<00:00, 510929.30it/s]\n",
            "100%|██████████| 1167/1167 [00:00<00:00, 922841.77it/s]\n",
            "100%|██████████| 519/519 [00:00<00:00, 196006.10it/s]\n"
          ]
        }
      ]
    },
    {
      "cell_type": "code",
      "source": [
        "# Get features \n",
        "train_features = make_features(t_sent_pairs, encoded_train, t_labels)\n",
        "valid_features = make_features(v_sent_pairs, encoded_valid, v_labels)\n",
        "test_features = make_features(d_sent_pairs, encoded_test, d_labels)"
      ],
      "metadata": {
        "colab": {
          "base_uri": "https://localhost:8080/"
        },
        "id": "6Yr5mb4i57Wt",
        "outputId": "4b4815a2-19e1-489e-bed5-02662a31a429"
      },
      "execution_count": 17,
      "outputs": [
        {
          "output_type": "stream",
          "name": "stderr",
          "text": [
            "100%|██████████| 10494/10494 [00:00<00:00, 267436.86it/s]\n",
            "100%|██████████| 1167/1167 [00:00<00:00, 316648.52it/s]\n",
            "100%|██████████| 519/519 [00:00<00:00, 166234.73it/s]\n"
          ]
        }
      ]
    },
    {
      "cell_type": "code",
      "source": [
        "# make inputs\n",
        "train_dataset = make_inputs(train_features)\n",
        "valid_dataset = make_inputs(valid_features)\n",
        "test_dataset = make_inputs(test_features)"
      ],
      "metadata": {
        "id": "l01QYGYp6GNu"
      },
      "execution_count": 18,
      "outputs": []
    },
    {
      "cell_type": "code",
      "source": [
        "# data loader\n",
        "train_dataloader = make_dataloader(train_dataset, mode='train')\n",
        "valid_dataloader = make_dataloader(valid_dataset, mode='valid')\n",
        "dev_dataloader = make_dataloader(test_dataset, mode='test')"
      ],
      "metadata": {
        "id": "moCYtqSB6YXO"
      },
      "execution_count": 19,
      "outputs": []
    },
    {
      "cell_type": "markdown",
      "source": [
        "# Preset(logging, DIR, metric)"
      ],
      "metadata": {
        "id": "9xUn1oAj65JV"
      }
    },
    {
      "cell_type": "code",
      "source": [
        "_CUR_DIR"
      ],
      "metadata": {
        "colab": {
          "base_uri": "https://localhost:8080/",
          "height": 35
        },
        "id": "L9jMddqk7NKx",
        "outputId": "53d852a2-de7e-4033-c5a6-de0c5e9a0632"
      },
      "execution_count": 20,
      "outputs": [
        {
          "output_type": "execute_result",
          "data": {
            "text/plain": [
              "'/content/drive/MyDrive/AIBootCamp/NLP'"
            ],
            "application/vnd.google.colaboratory.intrinsic+json": {
              "type": "string"
            }
          },
          "metadata": {},
          "execution_count": 20
        }
      ]
    },
    {
      "cell_type": "code",
      "source": [
        "# 텐서보드 dir 정의 \n",
        "logdir_path = os.path.join(_CUR_DIR,\"KoELECTRA/koelectra_log\") # log 파일을 저장할 경로를 지정 \n",
        "writer = SummaryWriter(logdir_path)"
      ],
      "metadata": {
        "id": "RnbdtgJE-hIS"
      },
      "execution_count": 21,
      "outputs": []
    },
    {
      "cell_type": "code",
      "source": [
        "# '__main__' 이름의 logger 생성\n",
        "logger = logging.getLogger(__name__)"
      ],
      "metadata": {
        "id": "xnXFz-Oy64QS"
      },
      "execution_count": 22,
      "outputs": []
    },
    {
      "cell_type": "code",
      "source": [
        "save_path = os.path.join(_CUR_DIR,\"KoELECTRA/koelectra_tensor\")"
      ],
      "metadata": {
        "id": "ud8WASuH7AlC"
      },
      "execution_count": 23,
      "outputs": []
    },
    {
      "cell_type": "code",
      "source": [
        "# f1과 pearson 메트릭 불러오기 \n",
        "metric_f1 = load_metric(\"f1\") \n",
        "metric_pearson = load_metric(\"pearsonr\")"
      ],
      "metadata": {
        "id": "zjK79Vnb_clS",
        "colab": {
          "base_uri": "https://localhost:8080/",
          "height": 81,
          "referenced_widgets": [
            "1a599e31c4e24113802e3dcef8feb367",
            "2556c940ac3b43e79c0261e1e97603ec",
            "42b2c1c7e0bc456fb65c517e0c96d26d",
            "61fa6fb7d3374b109eb2a60c5cac50b5",
            "4a3738ee727c45f490acd1a64fd9050b",
            "3aad361397834a418e7f66d7f6bf2b4c",
            "308da83313f44ccd898b324879034de2",
            "f5504df215bf46908c5d938d836b8bbe",
            "e36dfb4011f14141b51f398a851e5b23",
            "1c74d88d04e8495f933e70cd66a78e8e",
            "ffcc61b4696c49d9abde567e52781ec2",
            "ebda9da48ef8463f87cbdb7dd0f1adaa",
            "9a0e6e6ce93f4e1383689f10a7f861e8",
            "1c07734598544d7eaffa11f2ede6436a",
            "978cccb22cba493d911e85e154072efe",
            "21f5270aa61647df8528f5be01677070",
            "b27b2c6a2ba146ada886f13446d25515",
            "972ad1e41d48479f9fcdb412c61537ba",
            "33848470c9204617b8b82dae38b88a45",
            "273d2062d8dd40fd91fb8bb677a9a76e",
            "ee5240f0c92c469589e3401b3c48fd87",
            "f6a2a5385255450dbf2bab4c3b55c7df"
          ]
        },
        "outputId": "ce4cef4e-acae-4ab6-a100-11262f18c18b"
      },
      "execution_count": 24,
      "outputs": [
        {
          "output_type": "display_data",
          "data": {
            "text/plain": [
              "Downloading builder script:   0%|          | 0.00/2.32k [00:00<?, ?B/s]"
            ],
            "application/vnd.jupyter.widget-view+json": {
              "version_major": 2,
              "version_minor": 0,
              "model_id": "1a599e31c4e24113802e3dcef8feb367"
            }
          },
          "metadata": {}
        },
        {
          "output_type": "display_data",
          "data": {
            "text/plain": [
              "Downloading builder script:   0%|          | 0.00/2.15k [00:00<?, ?B/s]"
            ],
            "application/vnd.jupyter.widget-view+json": {
              "version_major": 2,
              "version_minor": 0,
              "model_id": "ebda9da48ef8463f87cbdb7dd0f1adaa"
            }
          },
          "metadata": {}
        }
      ]
    },
    {
      "cell_type": "markdown",
      "source": [
        "# TRAIN"
      ],
      "metadata": {
        "id": "vo7bItoy7dPv"
      }
    },
    {
      "cell_type": "markdown",
      "source": [
        "### Train Utils"
      ],
      "metadata": {
        "id": "8oSyxKso75ye"
      }
    },
    {
      "cell_type": "code",
      "source": [
        "args = {\"model_type\": \"koelectra-base-v3\"}"
      ],
      "metadata": {
        "id": "cdc6bNDvLuu-"
      },
      "execution_count": 25,
      "outputs": []
    },
    {
      "cell_type": "code",
      "source": [
        "class EarlyStopping:\n",
        "    \"\"\"주어진 patience 이후로 validation loss가 개선되지 않으면 학습을 조기 중지\"\"\"\n",
        "    def __init__(self, patience=1, verbose=False, delta=0, path='checkpoint.pt'):\n",
        "        \"\"\"\n",
        "        Args:\n",
        "            patience (int): validation loss가 개선된 후 기다리는 기간\n",
        "                            Default: 7\n",
        "            verbose (bool): True일 경우 각 validation loss의 개선 사항 메세지 출력\n",
        "                            Default: False\n",
        "            delta (float): 개선되었다고 인정되는 monitered quantity의 최소 변화\n",
        "                            Default: 0\n",
        "            path (str): checkpoint저장 경로\n",
        "                            Default: 'checkpoint.pt'\n",
        "        \"\"\"\n",
        "        self.patience = patience\n",
        "        self.verbose = verbose\n",
        "        self.counter = 0\n",
        "        self.best_score = None\n",
        "        self.early_stop = False\n",
        "        self.val_loss_min = np.Inf\n",
        "        self.delta = delta\n",
        "        self.path = path\n",
        "\n",
        "    def __call__(self, val_loss, model, optimizer, scheduler, epoch):\n",
        "\n",
        "        score = -val_loss\n",
        "\n",
        "        if self.best_score is None:\n",
        "            self.best_score = score\n",
        "            self.save_checkpoint(model, optimizer, scheduler, epoch, val_loss)\n",
        "        elif score < self.best_score + self.delta:\n",
        "            self.counter += 1\n",
        "            print(f'EarlyStopping counter: {self.counter} out of {self.patience}')\n",
        "            if self.counter >= self.patience:\n",
        "                self.early_stop = True\n",
        "        else:\n",
        "            self.best_score = score\n",
        "            self.save_checkpoint(model, optimizer, scheduler, epoch, val_loss)\n",
        "            self.counter = 0\n",
        "\n",
        "    def save_checkpoint(self, model, optimizer, scheduler, epoch, loss):\n",
        "        file_name = f'{self.path}/model.ckpt.best_{epoch}'\n",
        "        \n",
        "        torch.save(\n",
        "            {\n",
        "                'epoch': epoch,\n",
        "                'model_state_dict': model.state_dict(),\n",
        "                'optimizer_state_dict': optimizer.state_dict(),\n",
        "                'scheduler_state_dict': scheduler.state_dict(),\n",
        "                'loss' : loss\n",
        "            }, \n",
        "            file_name\n",
        "        )\n",
        "      \n",
        "        print(f\"Saving epoch {epoch} checkpoint at {file_name}\")"
      ],
      "metadata": {
        "id": "ErohdH4Z738y"
      },
      "execution_count": 26,
      "outputs": []
    },
    {
      "cell_type": "code",
      "source": [
        "def init_logger():\n",
        "    logging.basicConfig(\n",
        "        format=\"%(asctime)s - %(levelname)s - %(name)s -   %(message)s\",\n",
        "        datefmt=\"%m/%d/%Y %H:%M:%S\",\n",
        "        level=logging.INFO,\n",
        "    )\n",
        "\n",
        "\n",
        "def compute_metrics(labels, preds):\n",
        "    predict_f1 = [1 if i>=3.0 else 0 for i in preds] # 3.0 이상-> 1, 3.0 미만 -> 0으로 변환\n",
        "    labels_f1 = [1 if i>=3.0 else 0 for i in labels] # 3.0 이상-> 1, 3.0 미만 -> 0으로 변환\n",
        "\n",
        "    pr = metric_pearson.compute(predictions=preds, # peason r 계산\n",
        "                                   references=labels)\n",
        "\n",
        "    f1 = metric_f1.compute(predictions=predict_f1,   # f1\n",
        "                                     references=labels_f1)\n",
        "    return {'pearsonr' : pr,\n",
        "             'f1' : f1}"
      ],
      "metadata": {
        "id": "OwF8o_9S-udQ"
      },
      "execution_count": 27,
      "outputs": []
    },
    {
      "cell_type": "code",
      "source": [
        "def validate(model, valid_dataloader, mode, global_step=None):\n",
        "    results = {}\n",
        "\n",
        "    # Eval!\n",
        "    if global_step != None:\n",
        "        logger.info(\"***** Running evaluation on {} dataset ({} step) *****\".format(mode, global_step))\n",
        "    else:\n",
        "        logger.info(\"***** Running evaluation on {} dataset *****\".format(mode))\n",
        "    logger.info(\"  Num examples = {}\".format(len(valid_dataset)))\n",
        "    logger.info(\"  Eval Batch size = {}\".format(eval_batch_size))\n",
        "    \n",
        "    loss = 0.0\n",
        "    nb_eval_steps = 0\n",
        "    preds = None\n",
        "    out_label_ids = None\n",
        "    \n",
        "    for batch in progress_bar(valid_dataloader):\n",
        "        model.eval()\n",
        "        batch = tuple(item.to(device) for item in batch)\n",
        "\n",
        "        # no_grad\n",
        "        with torch.no_grad():\n",
        "            # inputs\n",
        "            inputs = {\n",
        "                \"input_ids\": batch[0],\n",
        "                \"attention_mask\": batch[1],\n",
        "                \"token_type_ids\": batch[2],\n",
        "                \"labels\": batch[3]\n",
        "            }\n",
        "            \n",
        "            # outputs\n",
        "            outputs = model(**inputs)\n",
        "\n",
        "            # loss and logits\n",
        "            tmp_eval_loss, logits = outputs[:2]\n",
        "            loss += tmp_eval_loss.mean().item()\n",
        "\n",
        "        nb_eval_steps += 1\n",
        "        # Get preds and out_label_ids\n",
        "        if preds is None:\n",
        "            preds = logits.detach().cpu().numpy()\n",
        "            out_label_ids = inputs[\"labels\"].detach().cpu().numpy()\n",
        "        else:\n",
        "            preds = np.append(preds, logits.detach().cpu().numpy(), axis=0)\n",
        "            out_label_ids = np.append(out_label_ids, inputs[\"labels\"].detach().cpu().numpy(), axis=0)\n",
        "\n",
        "    # average valid loss per epoch\n",
        "    loss = loss / nb_eval_steps\n",
        "    \n",
        "    # preds depending on the type of task\n",
        "    preds = np.argmax(preds, axis=1)\n",
        "\n",
        "    # Pearson correlation coefficient and Spearman correlation coefficient\n",
        "    result = compute_metrics(out_label_ids, preds)\n",
        "    results.update(result)\n",
        "\n",
        "    return results, loss"
      ],
      "metadata": {
        "id": "QXuk_nViFuM9"
      },
      "execution_count": 28,
      "outputs": []
    },
    {
      "cell_type": "code",
      "source": [
        "def train(model, train_dataloader, valid_dataloader=None):\n",
        "    # early_stopping object의 초기화\n",
        "    early_stopping = EarlyStopping(patience = patience, verbose = True, path=save_path)\n",
        "    \n",
        "    # train loss and val loss per epoch\n",
        "    avg_tr_loss = []\n",
        "    avg_val_loss = []\n",
        "\n",
        "     # Prepare optimizer and schedule\n",
        "    no_decay = ['bias', 'LayerNorm.weight']\n",
        "    optimizer_grouped_parameters = [\n",
        "        {'params': [p for n, p in model.named_parameters() if not any(nd in n for nd in no_decay)],\n",
        "         'weight_decay': 0.0},\n",
        "        {'params': [p for n, p in model.named_parameters() if any(nd in n for nd in no_decay)], \n",
        "         'weight_decay': 0.0}\n",
        "    ]\n",
        "\n",
        "    # train total steps\n",
        "    total_steps  = len(train_dataloader) * epochs\n",
        "\n",
        "    optimizer = AdamW(optimizer_grouped_parameters,\n",
        "                      lr=5e-5,\n",
        "                      eps=adam_epsilon)\n",
        "    scheduler = get_linear_schedule_with_warmup(optimizer=optimizer,\n",
        "                                                num_warmup_steps=0, \n",
        "                                                num_training_steps=total_steps)\n",
        "    \n",
        "    \n",
        "    # Train!\n",
        "    logger.info(\"***** Running training *****\")\n",
        "    logger.info(\"  Num examples = %d\", len(train_dataloader))\n",
        "    logger.info(\"  Num Epochs = %d\", epochs)\n",
        "    logger.info(\"  Total train batch size = %d\", train_batch_size)\n",
        "    logger.info(\"  Total optimization steps = %d\", total_steps)\n",
        "\n",
        "    # Set step and loss\n",
        "    global_step, batch_step = 0, 0\n",
        "    tr_loss, batch_loss = 0.0 ,0.0\n",
        "\n",
        "    # zero_grad\n",
        "    model.zero_grad()\n",
        "\n",
        "    # train_dataloaer 학습을 epochs만큼 반복\n",
        "    mb = master_bar(range(int(epochs)))\n",
        "    for epoch in tqdm(mb):\n",
        "        #progress bar\n",
        "        epoch_iterator = progress_bar(train_dataloader, parent=mb)\n",
        "        for step, batch in enumerate(epoch_iterator):\n",
        "            batch_step+=1\n",
        "            \n",
        "            # train mode\n",
        "            model.train()\n",
        "            \n",
        "            # inputs to device\n",
        "            batch = tuple(item.to(device) for item in batch) # tuple(item.to(args.device) for item in batch)\n",
        "            inputs = {\n",
        "                \"input_ids\": batch[0],\n",
        "                \"attention_mask\": batch[1],\n",
        "                \"token_type_ids\": batch[2],\n",
        "                \"labels\": batch[3]\n",
        "            }\n",
        "            \n",
        "            # forward\n",
        "            outputs = model(**inputs)\n",
        "\n",
        "            # loss \n",
        "            loss = outputs[0]\n",
        "\n",
        "            # backward\n",
        "            loss.backward()\n",
        "\n",
        "            # loss of both batch and tr\n",
        "            batch_loss += loss.item()\n",
        "            tr_loss += loss.item()\n",
        "            \n",
        "            # gradient clipping (max_norm = 1)\n",
        "            clip_grad_norm_(model.parameters(), max_norm = 1.0)\n",
        "                \n",
        "            # Update optimizer & scheduler\n",
        "            optimizer.step()\n",
        "            scheduler.step()\n",
        "\n",
        "            # initialize gradient by each batch \n",
        "            model.zero_grad()\n",
        "            \n",
        "            # Print out the batch_loss and the learning rate by every 10 batches\n",
        "            if (step % 10 == 0 and step != 0):\n",
        "                learning_rate = optimizer.param_groups[0]['lr']\n",
        "                print(f\"Epoch: {epoch}, Step : {step}, LR : {learning_rate}, Avg Loss : {batch_loss / batch_step:.4f}\")\n",
        "                \n",
        "                # 학습 loss 기록 tensorboard\n",
        "                writer.add_scalar(\n",
        "                    tag = \"Train Loss\",\n",
        "                    scalar_value = batch_loss / batch_step,\n",
        "                    global_step = epoch * len(train_dataloader) + step\n",
        "                )\n",
        "\n",
        "                # 학습 learning rate 기록\n",
        "                writer.add_scalar(\n",
        "                    tag = \"Train LR\",\n",
        "                    scalar_value = optimizer.param_groups[0]['lr'],\n",
        "                    global_step = epoch * len(train_dataloader) + step\n",
        "                )\n",
        "\n",
        "                # Reset batch_loss and batch_step\n",
        "                batch_loss, batch_step = 0.0, 0\n",
        "                \n",
        "            global_step += 1\n",
        "\n",
        "        # Average train loss per epoch\n",
        "        avg_train_loss = round(tr_loss / global_step, 4)\n",
        "        avg_tr_loss.append(avg_train_loss)\n",
        "        print(f\"Epoch {epoch} Train Loss : {avg_tr_loss}\")\n",
        "\n",
        "        # Validate!\n",
        "        if valid_dataloader is not None:\n",
        "            print(f\"*****Epoch {epoch} Valid Start*****\")\n",
        "            results, val_loss = validate(model, valid_dataloader, \"valid\", global_step)\n",
        "            avg_val_loss.append(val_loss)\n",
        "            print(f\"Epoch {epoch} Valid Loss : {val_loss:.4f}\")\n",
        "            print(f\"*****Epoch {epoch} Train and Valid Finish*****\\n\")\n",
        "            \n",
        "            # val loss 기록 tensorboard\n",
        "            writer.add_scalar(\n",
        "                tag = \"Valid Loss\",\n",
        "                scalar_value = val_loss,\n",
        "                global_step = epoch\n",
        "            )\n",
        "        early_stopping(val_loss, model, optimizer, scheduler, epoch)\n",
        "\n",
        "        if early_stopping.early_stop:\n",
        "            print(\"Early stopping\")\n",
        "            break\n",
        "        else:\n",
        "          early_stopping.save_checkpoint(model, optimizer, scheduler, epoch, loss)\n",
        "\n",
        "    print(\"Train Completed. End Program.\")\n",
        "    writer.close()  #tensorboard기록중지\n",
        "    return global_step, tr_loss / global_step, avg_tr_loss, avg_val_loss\n"
      ],
      "metadata": {
        "id": "djcq2zjn7kZ4"
      },
      "execution_count": 29,
      "outputs": []
    },
    {
      "cell_type": "code",
      "source": [
        "def main():\n",
        "\n",
        "    init_logger()\n",
        "      \n",
        "    model =  ElectraForSequenceClassification.from_pretrained(model_checkpoint,num_labels=num_label).cuda()\n",
        "\n",
        "    global_step, tr_loss, avg_tr_loss_li, avg_val_loss_li = train(model, train_dataloader, valid_dataloader)\n",
        "    logger.info(\" global_step = {}, average loss = {}\".format(global_step, tr_loss))\n",
        "\n",
        "\n",
        "    return  avg_tr_loss_li, avg_val_loss_li"
      ],
      "metadata": {
        "id": "FSjB_VE3_JAF"
      },
      "execution_count": 30,
      "outputs": []
    },
    {
      "cell_type": "code",
      "source": [
        "# 훈련 / 검증\n",
        "avg_tr_loss_li, avg_val_loss_li = main()"
      ],
      "metadata": {
        "id": "j5Urh7Cf_TJm",
        "colab": {
          "base_uri": "https://localhost:8080/",
          "height": 1000,
          "referenced_widgets": [
            "1c01b2febe4b4cba8a3ac5db555faf02",
            "be28e597497049aa9ab9d49a7231c0d7",
            "a4937488f53c4f9498d657a6ef50eee9",
            "f403e4d895c34a25a51ed709c67f52be",
            "7602ba9470f54c13bca8518113ef8bd1",
            "c15b111659f640cbb2c6df175dac5545",
            "bcc778c648aa46638aeccf28f424cf32",
            "36f9fc47f9a04bf9b5ccc11734bc24b9",
            "b0210faafeb94c6d83f94db0f077d7bd",
            "3addb33f8fad49bea555d048eb714958",
            "e1bf78c5b8fa4e069a8621f5885528fc"
          ]
        },
        "outputId": "8fbcf623-7ccb-4ef6-f5d1-dacd2d62daad"
      },
      "execution_count": 31,
      "outputs": [
        {
          "output_type": "display_data",
          "data": {
            "text/plain": [
              "Downloading:   0%|          | 0.00/431M [00:00<?, ?B/s]"
            ],
            "application/vnd.jupyter.widget-view+json": {
              "version_major": 2,
              "version_minor": 0,
              "model_id": "1c01b2febe4b4cba8a3ac5db555faf02"
            }
          },
          "metadata": {}
        },
        {
          "output_type": "stream",
          "name": "stderr",
          "text": [
            "Some weights of the model checkpoint at monologg/koelectra-base-v3-discriminator were not used when initializing ElectraForSequenceClassification: ['discriminator_predictions.dense_prediction.weight', 'discriminator_predictions.dense_prediction.bias', 'discriminator_predictions.dense.weight', 'discriminator_predictions.dense.bias']\n",
            "- This IS expected if you are initializing ElectraForSequenceClassification from the checkpoint of a model trained on another task or with another architecture (e.g. initializing a BertForSequenceClassification model from a BertForPreTraining model).\n",
            "- This IS NOT expected if you are initializing ElectraForSequenceClassification from the checkpoint of a model that you expect to be exactly identical (initializing a BertForSequenceClassification model from a BertForSequenceClassification model).\n",
            "Some weights of ElectraForSequenceClassification were not initialized from the model checkpoint at monologg/koelectra-base-v3-discriminator and are newly initialized: ['classifier.dense.bias', 'classifier.out_proj.weight', 'classifier.out_proj.bias', 'classifier.dense.weight']\n",
            "You should probably TRAIN this model on a down-stream task to be able to use it for predictions and inference.\n",
            "/usr/local/lib/python3.7/dist-packages/transformers/optimization.py:309: FutureWarning: This implementation of AdamW is deprecated and will be removed in a future version. Use the PyTorch implementation torch.optim.AdamW instead, or set `no_deprecation_warning=True` to disable this warning\n",
            "  FutureWarning,\n",
            "06/02/2022 22:50:35 - INFO - __main__ -   ***** Running training *****\n",
            "06/02/2022 22:50:35 - INFO - __main__ -     Num examples = 328\n",
            "06/02/2022 22:50:35 - INFO - __main__ -     Num Epochs = 20\n",
            "06/02/2022 22:50:35 - INFO - __main__ -     Total train batch size = 32\n",
            "06/02/2022 22:50:35 - INFO - __main__ -     Total optimization steps = 6560\n",
            "0it [00:00, ?it/s]"
          ]
        },
        {
          "output_type": "display_data",
          "data": {
            "text/plain": [
              "<IPython.core.display.HTML object>"
            ],
            "text/html": [
              "\n",
              "<style>\n",
              "    /* Turns off some styling */\n",
              "    progress {\n",
              "        /* gets rid of default border in Firefox and Opera. */\n",
              "        border: none;\n",
              "        /* Needs to be in here for Safari polyfill so background images work as expected. */\n",
              "        background-size: auto;\n",
              "    }\n",
              "    .progress-bar-interrupted, .progress-bar-interrupted::-webkit-progress-bar {\n",
              "        background: #F44336;\n",
              "    }\n",
              "</style>\n"
            ]
          },
          "metadata": {}
        },
        {
          "output_type": "display_data",
          "data": {
            "text/plain": [
              "<IPython.core.display.HTML object>"
            ],
            "text/html": [
              "\n",
              "    <div>\n",
              "      <progress value='3' class='' max='20' style='width:300px; height:20px; vertical-align: middle;'></progress>\n",
              "      15.00% [3/20 08:01<45:31]\n",
              "    </div>\n",
              "    \n",
              "\n",
              "\n",
              "    <div>\n",
              "      <progress value='328' class='' max='328' style='width:300px; height:20px; vertical-align: middle;'></progress>\n",
              "      100.00% [328/328 02:03<00:00]\n",
              "    </div>\n",
              "    "
            ]
          },
          "metadata": {}
        },
        {
          "output_type": "stream",
          "name": "stdout",
          "text": [
            "Epoch: 0, Step : 10, LR : 4.9916158536585364e-05, Avg Loss : 5.8596\n",
            "Epoch: 0, Step : 20, LR : 4.983993902439025e-05, Avg Loss : 2.7481\n",
            "Epoch: 0, Step : 30, LR : 4.976371951219512e-05, Avg Loss : 1.1302\n",
            "Epoch: 0, Step : 40, LR : 4.96875e-05, Avg Loss : 0.4560\n",
            "Epoch: 0, Step : 50, LR : 4.961128048780488e-05, Avg Loss : 0.3422\n",
            "Epoch: 0, Step : 60, LR : 4.953506097560976e-05, Avg Loss : 0.2758\n",
            "Epoch: 0, Step : 70, LR : 4.945884146341463e-05, Avg Loss : 0.3792\n",
            "Epoch: 0, Step : 80, LR : 4.938262195121951e-05, Avg Loss : 0.3418\n",
            "Epoch: 0, Step : 90, LR : 4.930640243902439e-05, Avg Loss : 0.2794\n",
            "Epoch: 0, Step : 100, LR : 4.923018292682927e-05, Avg Loss : 0.2835\n",
            "Epoch: 0, Step : 110, LR : 4.915396341463414e-05, Avg Loss : 0.2403\n",
            "Epoch: 0, Step : 120, LR : 4.907774390243903e-05, Avg Loss : 0.2228\n",
            "Epoch: 0, Step : 130, LR : 4.90015243902439e-05, Avg Loss : 0.2461\n",
            "Epoch: 0, Step : 140, LR : 4.892530487804878e-05, Avg Loss : 0.2728\n",
            "Epoch: 0, Step : 150, LR : 4.884908536585366e-05, Avg Loss : 0.2801\n",
            "Epoch: 0, Step : 160, LR : 4.877286585365854e-05, Avg Loss : 0.6503\n",
            "Epoch: 0, Step : 170, LR : 4.869664634146341e-05, Avg Loss : 0.2407\n",
            "Epoch: 0, Step : 180, LR : 4.862042682926829e-05, Avg Loss : 0.2295\n",
            "Epoch: 0, Step : 190, LR : 4.854420731707317e-05, Avg Loss : 0.2024\n",
            "Epoch: 0, Step : 200, LR : 4.846798780487805e-05, Avg Loss : 0.2336\n",
            "Epoch: 0, Step : 210, LR : 4.839176829268293e-05, Avg Loss : 0.3736\n",
            "Epoch: 0, Step : 220, LR : 4.831554878048781e-05, Avg Loss : 0.2396\n",
            "Epoch: 0, Step : 230, LR : 4.823932926829269e-05, Avg Loss : 0.2154\n",
            "Epoch: 0, Step : 240, LR : 4.816310975609756e-05, Avg Loss : 0.1991\n",
            "Epoch: 0, Step : 250, LR : 4.808689024390244e-05, Avg Loss : 0.2171\n",
            "Epoch: 0, Step : 260, LR : 4.801067073170732e-05, Avg Loss : 0.1969\n",
            "Epoch: 0, Step : 270, LR : 4.79344512195122e-05, Avg Loss : 0.1622\n",
            "Epoch: 0, Step : 280, LR : 4.785823170731707e-05, Avg Loss : 0.2145\n",
            "Epoch: 0, Step : 290, LR : 4.778201219512196e-05, Avg Loss : 0.1755\n",
            "Epoch: 0, Step : 300, LR : 4.770579268292683e-05, Avg Loss : 0.2607\n",
            "Epoch: 0, Step : 310, LR : 4.762957317073171e-05, Avg Loss : 0.1961\n",
            "Epoch: 0, Step : 320, LR : 4.755335365853659e-05, Avg Loss : 0.2365\n"
          ]
        },
        {
          "output_type": "stream",
          "name": "stderr",
          "text": [
            "06/02/2022 22:52:38 - INFO - __main__ -   ***** Running evaluation on valid dataset (328 step) *****\n",
            "06/02/2022 22:52:38 - INFO - __main__ -     Num examples = 1167\n",
            "06/02/2022 22:52:38 - INFO - __main__ -     Eval Batch size = 64\n"
          ]
        },
        {
          "output_type": "stream",
          "name": "stdout",
          "text": [
            "Epoch 0 Train Loss : [0.558]\n",
            "*****Epoch 0 Valid Start*****\n"
          ]
        },
        {
          "output_type": "display_data",
          "data": {
            "text/plain": [
              "<IPython.core.display.HTML object>"
            ],
            "text/html": [
              "\n",
              "<style>\n",
              "    /* Turns off some styling */\n",
              "    progress {\n",
              "        /* gets rid of default border in Firefox and Opera. */\n",
              "        border: none;\n",
              "        /* Needs to be in here for Safari polyfill so background images work as expected. */\n",
              "        background-size: auto;\n",
              "    }\n",
              "    .progress-bar-interrupted, .progress-bar-interrupted::-webkit-progress-bar {\n",
              "        background: #F44336;\n",
              "    }\n",
              "</style>\n"
            ]
          },
          "metadata": {}
        },
        {
          "output_type": "display_data",
          "data": {
            "text/plain": [
              "<IPython.core.display.HTML object>"
            ],
            "text/html": [
              "\n",
              "    <div>\n",
              "      <progress value='19' class='' max='19' style='width:300px; height:20px; vertical-align: middle;'></progress>\n",
              "      100.00% [19/19 00:04<00:00]\n",
              "    </div>\n",
              "    "
            ]
          },
          "metadata": {}
        },
        {
          "output_type": "stream",
          "name": "stderr",
          "text": [
            "/usr/local/lib/python3.7/dist-packages/scipy/stats/stats.py:3508: PearsonRConstantInputWarning: An input array is constant; the correlation coefficent is not defined.\n",
            "  warnings.warn(PearsonRConstantInputWarning())\n"
          ]
        },
        {
          "output_type": "stream",
          "name": "stdout",
          "text": [
            "Epoch 0 Valid Loss : 0.3048\n",
            "*****Epoch 0 Train and Valid Finish*****\n",
            "\n",
            "Saving epoch 0 checkpoint at /content/drive/MyDrive/AIBootCamp/NLP/KoELECTRA/koelectra_tensor/model.ckpt.best_0\n"
          ]
        },
        {
          "output_type": "stream",
          "name": "stderr",
          "text": [
            "\r1it [02:45, 165.75s/it]"
          ]
        },
        {
          "output_type": "stream",
          "name": "stdout",
          "text": [
            "Saving epoch 0 checkpoint at /content/drive/MyDrive/AIBootCamp/NLP/KoELECTRA/koelectra_tensor/model.ckpt.best_0\n",
            "Epoch: 1, Step : 10, LR : 4.741615853658537e-05, Avg Loss : 0.1560\n",
            "Epoch: 1, Step : 20, LR : 4.733993902439024e-05, Avg Loss : 0.1462\n",
            "Epoch: 1, Step : 30, LR : 4.726371951219513e-05, Avg Loss : 0.1321\n",
            "Epoch: 1, Step : 40, LR : 4.71875e-05, Avg Loss : 0.1399\n",
            "Epoch: 1, Step : 50, LR : 4.711128048780488e-05, Avg Loss : 0.1376\n",
            "Epoch: 1, Step : 60, LR : 4.703506097560976e-05, Avg Loss : 0.1553\n",
            "Epoch: 1, Step : 70, LR : 4.695884146341464e-05, Avg Loss : 0.1322\n",
            "Epoch: 1, Step : 80, LR : 4.688262195121951e-05, Avg Loss : 0.1590\n",
            "Epoch: 1, Step : 90, LR : 4.680640243902439e-05, Avg Loss : 0.1125\n",
            "Epoch: 1, Step : 100, LR : 4.673018292682927e-05, Avg Loss : 0.1430\n",
            "Epoch: 1, Step : 110, LR : 4.665396341463415e-05, Avg Loss : 0.1621\n",
            "Epoch: 1, Step : 120, LR : 4.657774390243902e-05, Avg Loss : 0.1538\n",
            "Epoch: 1, Step : 130, LR : 4.650152439024391e-05, Avg Loss : 0.1472\n",
            "Epoch: 1, Step : 140, LR : 4.642530487804878e-05, Avg Loss : 0.1544\n",
            "Epoch: 1, Step : 150, LR : 4.634908536585366e-05, Avg Loss : 0.1736\n",
            "Epoch: 1, Step : 160, LR : 4.6272865853658534e-05, Avg Loss : 0.1232\n",
            "Epoch: 1, Step : 170, LR : 4.619664634146342e-05, Avg Loss : 0.1432\n",
            "Epoch: 1, Step : 180, LR : 4.612042682926829e-05, Avg Loss : 0.1716\n",
            "Epoch: 1, Step : 190, LR : 4.604420731707317e-05, Avg Loss : 0.1394\n",
            "Epoch: 1, Step : 200, LR : 4.596798780487805e-05, Avg Loss : 0.1354\n",
            "Epoch: 1, Step : 210, LR : 4.589176829268293e-05, Avg Loss : 0.1665\n",
            "Epoch: 1, Step : 220, LR : 4.58155487804878e-05, Avg Loss : 0.1467\n",
            "Epoch: 1, Step : 230, LR : 4.573932926829269e-05, Avg Loss : 0.1321\n",
            "Epoch: 1, Step : 240, LR : 4.566310975609756e-05, Avg Loss : 0.1125\n",
            "Epoch: 1, Step : 250, LR : 4.558689024390244e-05, Avg Loss : 0.1172\n",
            "Epoch: 1, Step : 260, LR : 4.551067073170731e-05, Avg Loss : 0.1462\n",
            "Epoch: 1, Step : 270, LR : 4.54344512195122e-05, Avg Loss : 0.1166\n",
            "Epoch: 1, Step : 280, LR : 4.535823170731707e-05, Avg Loss : 0.1565\n",
            "Epoch: 1, Step : 290, LR : 4.528201219512195e-05, Avg Loss : 0.1418\n",
            "Epoch: 1, Step : 300, LR : 4.520579268292684e-05, Avg Loss : 0.1101\n",
            "Epoch: 1, Step : 310, LR : 4.512957317073171e-05, Avg Loss : 0.1247\n",
            "Epoch: 1, Step : 320, LR : 4.505335365853659e-05, Avg Loss : 0.1439\n"
          ]
        },
        {
          "output_type": "stream",
          "name": "stderr",
          "text": [
            "06/02/2022 22:55:24 - INFO - __main__ -   ***** Running evaluation on valid dataset (656 step) *****\n",
            "06/02/2022 22:55:24 - INFO - __main__ -     Num examples = 1167\n",
            "06/02/2022 22:55:24 - INFO - __main__ -     Eval Batch size = 64\n"
          ]
        },
        {
          "output_type": "stream",
          "name": "stdout",
          "text": [
            "Epoch 1 Train Loss : [0.558, 0.3497]\n",
            "*****Epoch 1 Valid Start*****\n"
          ]
        },
        {
          "output_type": "display_data",
          "data": {
            "text/plain": [
              "<IPython.core.display.HTML object>"
            ],
            "text/html": [
              "\n",
              "<style>\n",
              "    /* Turns off some styling */\n",
              "    progress {\n",
              "        /* gets rid of default border in Firefox and Opera. */\n",
              "        border: none;\n",
              "        /* Needs to be in here for Safari polyfill so background images work as expected. */\n",
              "        background-size: auto;\n",
              "    }\n",
              "    .progress-bar-interrupted, .progress-bar-interrupted::-webkit-progress-bar {\n",
              "        background: #F44336;\n",
              "    }\n",
              "</style>\n"
            ]
          },
          "metadata": {}
        },
        {
          "output_type": "display_data",
          "data": {
            "text/plain": [
              "<IPython.core.display.HTML object>"
            ],
            "text/html": [
              "\n",
              "    <div>\n",
              "      <progress value='19' class='' max='19' style='width:300px; height:20px; vertical-align: middle;'></progress>\n",
              "      100.00% [19/19 00:04<00:00]\n",
              "    </div>\n",
              "    "
            ]
          },
          "metadata": {}
        },
        {
          "output_type": "stream",
          "name": "stderr",
          "text": [
            "/usr/local/lib/python3.7/dist-packages/scipy/stats/stats.py:3508: PearsonRConstantInputWarning: An input array is constant; the correlation coefficent is not defined.\n",
            "  warnings.warn(PearsonRConstantInputWarning())\n"
          ]
        },
        {
          "output_type": "stream",
          "name": "stdout",
          "text": [
            "Epoch 1 Valid Loss : 0.1416\n",
            "*****Epoch 1 Train and Valid Finish*****\n",
            "\n",
            "Saving epoch 1 checkpoint at /content/drive/MyDrive/AIBootCamp/NLP/KoELECTRA/koelectra_tensor/model.ckpt.best_1\n"
          ]
        },
        {
          "output_type": "stream",
          "name": "stderr",
          "text": [
            "\r2it [05:26, 162.65s/it]"
          ]
        },
        {
          "output_type": "stream",
          "name": "stdout",
          "text": [
            "Saving epoch 1 checkpoint at /content/drive/MyDrive/AIBootCamp/NLP/KoELECTRA/koelectra_tensor/model.ckpt.best_1\n",
            "Epoch: 2, Step : 10, LR : 4.491615853658537e-05, Avg Loss : 0.1257\n",
            "Epoch: 2, Step : 20, LR : 4.483993902439025e-05, Avg Loss : 0.0858\n",
            "Epoch: 2, Step : 30, LR : 4.476371951219512e-05, Avg Loss : 0.0714\n",
            "Epoch: 2, Step : 40, LR : 4.46875e-05, Avg Loss : 0.0757\n",
            "Epoch: 2, Step : 50, LR : 4.461128048780488e-05, Avg Loss : 0.0926\n",
            "Epoch: 2, Step : 60, LR : 4.453506097560976e-05, Avg Loss : 0.0956\n",
            "Epoch: 2, Step : 70, LR : 4.445884146341463e-05, Avg Loss : 0.1057\n",
            "Epoch: 2, Step : 80, LR : 4.438262195121952e-05, Avg Loss : 0.0943\n",
            "Epoch: 2, Step : 90, LR : 4.430640243902439e-05, Avg Loss : 0.0899\n",
            "Epoch: 2, Step : 100, LR : 4.423018292682927e-05, Avg Loss : 0.0996\n",
            "Epoch: 2, Step : 110, LR : 4.415396341463415e-05, Avg Loss : 0.0928\n",
            "Epoch: 2, Step : 120, LR : 4.407774390243903e-05, Avg Loss : 0.0776\n",
            "Epoch: 2, Step : 130, LR : 4.40015243902439e-05, Avg Loss : 0.0829\n",
            "Epoch: 2, Step : 140, LR : 4.392530487804878e-05, Avg Loss : 0.1151\n",
            "Epoch: 2, Step : 150, LR : 4.384908536585366e-05, Avg Loss : 0.0903\n",
            "Epoch: 2, Step : 160, LR : 4.377286585365854e-05, Avg Loss : 0.1122\n",
            "Epoch: 2, Step : 170, LR : 4.369664634146341e-05, Avg Loss : 0.1139\n",
            "Epoch: 2, Step : 180, LR : 4.36204268292683e-05, Avg Loss : 0.0914\n",
            "Epoch: 2, Step : 190, LR : 4.354420731707317e-05, Avg Loss : 0.0921\n",
            "Epoch: 2, Step : 200, LR : 4.346798780487805e-05, Avg Loss : 0.0957\n",
            "Epoch: 2, Step : 210, LR : 4.339176829268293e-05, Avg Loss : 0.0806\n",
            "Epoch: 2, Step : 220, LR : 4.331554878048781e-05, Avg Loss : 0.0763\n",
            "Epoch: 2, Step : 230, LR : 4.323932926829268e-05, Avg Loss : 0.0908\n",
            "Epoch: 2, Step : 240, LR : 4.316310975609756e-05, Avg Loss : 0.1023\n",
            "Epoch: 2, Step : 250, LR : 4.308689024390244e-05, Avg Loss : 0.0800\n",
            "Epoch: 2, Step : 260, LR : 4.301067073170732e-05, Avg Loss : 0.1082\n",
            "Epoch: 2, Step : 270, LR : 4.293445121951219e-05, Avg Loss : 0.0777\n",
            "Epoch: 2, Step : 280, LR : 4.285823170731708e-05, Avg Loss : 0.1042\n",
            "Epoch: 2, Step : 290, LR : 4.278201219512195e-05, Avg Loss : 0.0993\n",
            "Epoch: 2, Step : 300, LR : 4.270579268292683e-05, Avg Loss : 0.0962\n",
            "Epoch: 2, Step : 310, LR : 4.262957317073171e-05, Avg Loss : 0.0846\n",
            "Epoch: 2, Step : 320, LR : 4.255335365853659e-05, Avg Loss : 0.0769\n"
          ]
        },
        {
          "output_type": "stream",
          "name": "stderr",
          "text": [
            "06/02/2022 22:58:05 - INFO - __main__ -   ***** Running evaluation on valid dataset (984 step) *****\n",
            "06/02/2022 22:58:05 - INFO - __main__ -     Num examples = 1167\n",
            "06/02/2022 22:58:05 - INFO - __main__ -     Eval Batch size = 64\n"
          ]
        },
        {
          "output_type": "stream",
          "name": "stdout",
          "text": [
            "Epoch 2 Train Loss : [0.558, 0.3497, 0.2643]\n",
            "*****Epoch 2 Valid Start*****\n"
          ]
        },
        {
          "output_type": "display_data",
          "data": {
            "text/plain": [
              "<IPython.core.display.HTML object>"
            ],
            "text/html": [
              "\n",
              "<style>\n",
              "    /* Turns off some styling */\n",
              "    progress {\n",
              "        /* gets rid of default border in Firefox and Opera. */\n",
              "        border: none;\n",
              "        /* Needs to be in here for Safari polyfill so background images work as expected. */\n",
              "        background-size: auto;\n",
              "    }\n",
              "    .progress-bar-interrupted, .progress-bar-interrupted::-webkit-progress-bar {\n",
              "        background: #F44336;\n",
              "    }\n",
              "</style>\n"
            ]
          },
          "metadata": {}
        },
        {
          "output_type": "display_data",
          "data": {
            "text/plain": [
              "<IPython.core.display.HTML object>"
            ],
            "text/html": [
              "\n",
              "    <div>\n",
              "      <progress value='19' class='' max='19' style='width:300px; height:20px; vertical-align: middle;'></progress>\n",
              "      100.00% [19/19 00:04<00:00]\n",
              "    </div>\n",
              "    "
            ]
          },
          "metadata": {}
        },
        {
          "output_type": "stream",
          "name": "stderr",
          "text": [
            "/usr/local/lib/python3.7/dist-packages/scipy/stats/stats.py:3508: PearsonRConstantInputWarning: An input array is constant; the correlation coefficent is not defined.\n",
            "  warnings.warn(PearsonRConstantInputWarning())\n"
          ]
        },
        {
          "output_type": "stream",
          "name": "stdout",
          "text": [
            "Epoch 2 Valid Loss : 0.1521\n",
            "*****Epoch 2 Train and Valid Finish*****\n",
            "\n",
            "EarlyStopping counter: 1 out of 2\n"
          ]
        },
        {
          "output_type": "stream",
          "name": "stderr",
          "text": [
            "\r3it [08:01, 159.49s/it]"
          ]
        },
        {
          "output_type": "stream",
          "name": "stdout",
          "text": [
            "Saving epoch 2 checkpoint at /content/drive/MyDrive/AIBootCamp/NLP/KoELECTRA/koelectra_tensor/model.ckpt.best_2\n",
            "Epoch: 3, Step : 10, LR : 4.2416158536585364e-05, Avg Loss : 0.0975\n",
            "Epoch: 3, Step : 20, LR : 4.2339939024390244e-05, Avg Loss : 0.0650\n",
            "Epoch: 3, Step : 30, LR : 4.226371951219512e-05, Avg Loss : 0.0720\n",
            "Epoch: 3, Step : 40, LR : 4.21875e-05, Avg Loss : 0.0674\n",
            "Epoch: 3, Step : 50, LR : 4.211128048780488e-05, Avg Loss : 0.0752\n",
            "Epoch: 3, Step : 60, LR : 4.203506097560976e-05, Avg Loss : 0.0665\n",
            "Epoch: 3, Step : 70, LR : 4.195884146341464e-05, Avg Loss : 0.0797\n",
            "Epoch: 3, Step : 80, LR : 4.188262195121951e-05, Avg Loss : 0.0705\n",
            "Epoch: 3, Step : 90, LR : 4.180640243902439e-05, Avg Loss : 0.0992\n",
            "Epoch: 3, Step : 100, LR : 4.173018292682927e-05, Avg Loss : 0.0796\n",
            "Epoch: 3, Step : 110, LR : 4.165396341463415e-05, Avg Loss : 0.0626\n",
            "Epoch: 3, Step : 120, LR : 4.157774390243902e-05, Avg Loss : 0.0817\n",
            "Epoch: 3, Step : 130, LR : 4.150152439024391e-05, Avg Loss : 0.0858\n",
            "Epoch: 3, Step : 140, LR : 4.142530487804878e-05, Avg Loss : 0.0674\n",
            "Epoch: 3, Step : 150, LR : 4.134908536585366e-05, Avg Loss : 0.0835\n",
            "Epoch: 3, Step : 160, LR : 4.127286585365854e-05, Avg Loss : 0.0734\n",
            "Epoch: 3, Step : 170, LR : 4.119664634146342e-05, Avg Loss : 0.0663\n",
            "Epoch: 3, Step : 180, LR : 4.112042682926829e-05, Avg Loss : 0.0736\n",
            "Epoch: 3, Step : 190, LR : 4.104420731707317e-05, Avg Loss : 0.0671\n",
            "Epoch: 3, Step : 200, LR : 4.096798780487805e-05, Avg Loss : 0.0710\n",
            "Epoch: 3, Step : 210, LR : 4.089176829268293e-05, Avg Loss : 0.0565\n",
            "Epoch: 3, Step : 220, LR : 4.08155487804878e-05, Avg Loss : 0.0632\n",
            "Epoch: 3, Step : 230, LR : 4.073932926829269e-05, Avg Loss : 0.0866\n",
            "Epoch: 3, Step : 240, LR : 4.066310975609756e-05, Avg Loss : 0.0735\n",
            "Epoch: 3, Step : 250, LR : 4.058689024390244e-05, Avg Loss : 0.0666\n",
            "Epoch: 3, Step : 260, LR : 4.051067073170732e-05, Avg Loss : 0.0844\n",
            "Epoch: 3, Step : 270, LR : 4.04344512195122e-05, Avg Loss : 0.0691\n",
            "Epoch: 3, Step : 280, LR : 4.035823170731707e-05, Avg Loss : 0.0676\n",
            "Epoch: 3, Step : 290, LR : 4.028201219512195e-05, Avg Loss : 0.0705\n",
            "Epoch: 3, Step : 300, LR : 4.020579268292683e-05, Avg Loss : 0.0685\n",
            "Epoch: 3, Step : 310, LR : 4.012957317073171e-05, Avg Loss : 0.0614\n",
            "Epoch: 3, Step : 320, LR : 4.005335365853658e-05, Avg Loss : 0.0715\n"
          ]
        },
        {
          "output_type": "stream",
          "name": "stderr",
          "text": [
            "06/02/2022 23:00:40 - INFO - __main__ -   ***** Running evaluation on valid dataset (1312 step) *****\n",
            "06/02/2022 23:00:40 - INFO - __main__ -     Num examples = 1167\n",
            "06/02/2022 23:00:40 - INFO - __main__ -     Eval Batch size = 64\n"
          ]
        },
        {
          "output_type": "stream",
          "name": "stdout",
          "text": [
            "Epoch 3 Train Loss : [0.558, 0.3497, 0.2643, 0.2164]\n",
            "*****Epoch 3 Valid Start*****\n"
          ]
        },
        {
          "output_type": "display_data",
          "data": {
            "text/plain": [
              "<IPython.core.display.HTML object>"
            ],
            "text/html": [
              "\n",
              "<style>\n",
              "    /* Turns off some styling */\n",
              "    progress {\n",
              "        /* gets rid of default border in Firefox and Opera. */\n",
              "        border: none;\n",
              "        /* Needs to be in here for Safari polyfill so background images work as expected. */\n",
              "        background-size: auto;\n",
              "    }\n",
              "    .progress-bar-interrupted, .progress-bar-interrupted::-webkit-progress-bar {\n",
              "        background: #F44336;\n",
              "    }\n",
              "</style>\n"
            ]
          },
          "metadata": {}
        },
        {
          "output_type": "display_data",
          "data": {
            "text/plain": [
              "<IPython.core.display.HTML object>"
            ],
            "text/html": [
              "\n",
              "    <div>\n",
              "      <progress value='19' class='' max='19' style='width:300px; height:20px; vertical-align: middle;'></progress>\n",
              "      100.00% [19/19 00:04<00:00]\n",
              "    </div>\n",
              "    "
            ]
          },
          "metadata": {}
        },
        {
          "output_type": "stream",
          "name": "stderr",
          "text": [
            "/usr/local/lib/python3.7/dist-packages/scipy/stats/stats.py:3508: PearsonRConstantInputWarning: An input array is constant; the correlation coefficent is not defined.\n",
            "  warnings.warn(PearsonRConstantInputWarning())\n",
            "\r3it [10:09, 203.08s/it]\n",
            "06/02/2022 23:00:45 - INFO - __main__ -    global_step = 1312, average loss = 0.21644340692621813\n"
          ]
        },
        {
          "output_type": "stream",
          "name": "stdout",
          "text": [
            "Epoch 3 Valid Loss : 0.1955\n",
            "*****Epoch 3 Train and Valid Finish*****\n",
            "\n",
            "EarlyStopping counter: 2 out of 2\n",
            "Early stopping\n",
            "Train Completed. End Program.\n"
          ]
        }
      ]
    },
    {
      "cell_type": "code",
      "source": [
        "# loss 변화 시각화\n",
        "val_loss = {'train_loss' : avg_tr_loss_li,\n",
        "            'val_loss' : avg_val_loss_li,\n",
        "            'epoch' : [1, 2, 3, 4]}\n",
        "loss_df = pd.DataFrame(data=val_loss)\n",
        "\n",
        "sns.lineplot(x='epoch', y='train_loss', data=loss_df, label='train_loss')\n",
        "sns.lineplot(x='epoch', y='val_loss', data=loss_df, label='val_loss')\n",
        "\n",
        "plt.xlabel('EPOCH')\n",
        "plt.ylabel('LOSS')\n",
        "plt.show();"
      ],
      "metadata": {
        "colab": {
          "base_uri": "https://localhost:8080/",
          "height": 279
        },
        "id": "CDS6CvoSUdVE",
        "outputId": "59e6bd60-ca75-40d1-985f-519e5f8bd2a4"
      },
      "execution_count": 34,
      "outputs": [
        {
          "output_type": "display_data",
          "data": {
            "text/plain": [
              "<Figure size 432x288 with 1 Axes>"
            ],
            "image/png": "[encoded data removed]"
          },
          "metadata": {
            "needs_background": "light"
          }
        }
      ]
    },
    {
      "cell_type": "markdown",
      "source": [
        "# PREDICTION"
      ],
      "metadata": {
        "id": "ivkBBEqrVEL6"
      }
    },
    {
      "cell_type": "code",
      "source": [
        "import torch"
      ],
      "metadata": {
        "id": "a9f87qgd7C9h"
      },
      "execution_count": 35,
      "outputs": []
    },
    {
      "cell_type": "code",
      "source": [
        "# Load model\n",
        "path = '/content/drive/MyDrive/AIBootCamp/NLP/KoELECTRA/koelectra_tensor'\n",
        "checkpoint = torch.load(f'{path}/model.ckpt.best_3')"
      ],
      "metadata": {
        "id": "Mjc3BB54VAyu"
      },
      "execution_count": 36,
      "outputs": []
    },
    {
      "cell_type": "code",
      "source": [
        "# ckpt keys\n",
        "checkpoint.keys()"
      ],
      "metadata": {
        "colab": {
          "base_uri": "https://localhost:8080/"
        },
        "id": "4W7RgN2RVUWY",
        "outputId": "a42b812e-a76a-4ce4-ada1-72930fc25675"
      },
      "execution_count": 37,
      "outputs": [
        {
          "output_type": "execute_result",
          "data": {
            "text/plain": [
              "dict_keys(['epoch', 'model_state_dict', 'optimizer_state_dict', 'scheduler_state_dict', 'loss'])"
            ]
          },
          "metadata": {},
          "execution_count": 37
        }
      ]
    },
    {
      "cell_type": "code",
      "source": [
        "dic = checkpoint['model_state_dict']"
      ],
      "metadata": {
        "id": "bkgtq-oF7sDP"
      },
      "execution_count": 38,
      "outputs": []
    },
    {
      "cell_type": "code",
      "source": [
        "def model_init():\n",
        "  return ElectraForSequenceClassification.from_pretrained(model_checkpoint,num_labels=num_label).cuda()"
      ],
      "metadata": {
        "id": "0fFAIoRRVWar"
      },
      "execution_count": 39,
      "outputs": []
    },
    {
      "cell_type": "code",
      "source": [
        "model = model_init()"
      ],
      "metadata": {
        "colab": {
          "base_uri": "https://localhost:8080/"
        },
        "id": "EoIo0ZzIVk9a",
        "outputId": "1114e3e5-4da6-4e11-b242-1850ea964749"
      },
      "execution_count": 40,
      "outputs": [
        {
          "output_type": "stream",
          "name": "stderr",
          "text": [
            "Some weights of the model checkpoint at monologg/koelectra-base-v3-discriminator were not used when initializing ElectraForSequenceClassification: ['discriminator_predictions.dense_prediction.weight', 'discriminator_predictions.dense_prediction.bias', 'discriminator_predictions.dense.weight', 'discriminator_predictions.dense.bias']\n",
            "- This IS expected if you are initializing ElectraForSequenceClassification from the checkpoint of a model trained on another task or with another architecture (e.g. initializing a BertForSequenceClassification model from a BertForPreTraining model).\n",
            "- This IS NOT expected if you are initializing ElectraForSequenceClassification from the checkpoint of a model that you expect to be exactly identical (initializing a BertForSequenceClassification model from a BertForSequenceClassification model).\n",
            "Some weights of ElectraForSequenceClassification were not initialized from the model checkpoint at monologg/koelectra-base-v3-discriminator and are newly initialized: ['classifier.dense.bias', 'classifier.out_proj.weight', 'classifier.out_proj.bias', 'classifier.dense.weight']\n",
            "You should probably TRAIN this model on a down-stream task to be able to use it for predictions and inference.\n"
          ]
        }
      ]
    },
    {
      "cell_type": "code",
      "source": [
        "# model_state_dict\n",
        "model.load_state_dict(checkpoint[\"model_state_dict\"])"
      ],
      "metadata": {
        "colab": {
          "base_uri": "https://localhost:8080/"
        },
        "id": "QJWIEEatWRtM",
        "outputId": "a8bdcdee-f43e-4e11-b1cf-5b280478523c"
      },
      "execution_count": 41,
      "outputs": [
        {
          "output_type": "execute_result",
          "data": {
            "text/plain": [
              "<All keys matched successfully>"
            ]
          },
          "metadata": {},
          "execution_count": 41
        }
      ]
    },
    {
      "cell_type": "markdown",
      "source": [
        "# FLASK test"
      ],
      "metadata": {
        "id": "jX06GVL9SPZi"
      }
    },
    {
      "cell_type": "code",
      "source": [
        "sentence1 = \"나는 방금 밥을 먹었다.\"\n",
        "sentence2 = \"나는 내일 밥을 먹었다.\""
      ],
      "metadata": {
        "id": "OGh0DskiQfhw"
      },
      "execution_count": 54,
      "outputs": []
    },
    {
      "cell_type": "code",
      "source": [
        "tokens = tokenizer(sentence1, sentence2, padding=True, truncation=True, return_tensors=\"pt\")"
      ],
      "metadata": {
        "id": "aIv3HVmPQjyO"
      },
      "execution_count": 55,
      "outputs": []
    },
    {
      "cell_type": "code",
      "source": [
        "tokens.to(device)"
      ],
      "metadata": {
        "colab": {
          "base_uri": "https://localhost:8080/"
        },
        "id": "AASHkia_Qsd-",
        "outputId": "572bc0a8-2f6c-4d99-bd59-7497f654a15f"
      },
      "execution_count": 56,
      "outputs": [
        {
          "output_type": "execute_result",
          "data": {
            "text/plain": [
              "{'input_ids': tensor([[    2,  2236,  4034, 13195,  2739,  4292,  2654,  4480,  4176,    18,\n",
              "             3,  2236,  4034,  8258,  2739,  4292,  2654,  4480,  4176,    18,\n",
              "             3]], device='cuda:0'), 'token_type_ids': tensor([[0, 0, 0, 0, 0, 0, 0, 0, 0, 0, 0, 1, 1, 1, 1, 1, 1, 1, 1, 1, 1]],\n",
              "       device='cuda:0'), 'attention_mask': tensor([[1, 1, 1, 1, 1, 1, 1, 1, 1, 1, 1, 1, 1, 1, 1, 1, 1, 1, 1, 1, 1]],\n",
              "       device='cuda:0')}"
            ]
          },
          "metadata": {},
          "execution_count": 56
        }
      ]
    },
    {
      "cell_type": "code",
      "source": [
        "output = model(**tokens)"
      ],
      "metadata": {
        "id": "Ny1LD5pGQvi9"
      },
      "execution_count": 57,
      "outputs": []
    },
    {
      "cell_type": "code",
      "source": [
        "output[0][0][0].detach().cpu().numpy()"
      ],
      "metadata": {
        "colab": {
          "base_uri": "https://localhost:8080/"
        },
        "id": "cH9eP--lSIZe",
        "outputId": "a76e9a20-00e7-4d17-abee-c117e88716b5"
      },
      "execution_count": 58,
      "outputs": [
        {
          "output_type": "execute_result",
          "data": {
            "text/plain": [
              "array(3.298328, dtype=float32)"
            ]
          },
          "metadata": {},
          "execution_count": 58
        }
      ]
    },
    {
      "cell_type": "code",
      "source": [
        "float(output[0][0][0].detach().cpu().numpy())"
      ],
      "metadata": {
        "colab": {
          "base_uri": "https://localhost:8080/"
        },
        "id": "7dsHEcEWRcjC",
        "outputId": "47c0afaa-2cfa-4109-b807-a4c348e96c03"
      },
      "execution_count": 59,
      "outputs": [
        {
          "output_type": "execute_result",
          "data": {
            "text/plain": [
              "3.298327922821045"
            ]
          },
          "metadata": {},
          "execution_count": 59
        }
      ]
    },
    {
      "cell_type": "code",
      "source": [
        "sentence1 = \"나는 방금 밥을 먹었다.\"\n",
        "sentence2 = \"나는 내일 밥을 먹었다.\"\n",
        "\n",
        "tokens = tokenizer(sentence1, sentence2, padding=True, truncation=True, return_tensors=\"pt\")\n",
        "\n",
        "#token device 올리기\n",
        "tokens.to(device)\n",
        "\n",
        "output = model(**tokens)\n",
        "\n",
        "pred = float(output[0][0][0].detach().cpu().numpy())\n",
        "\n",
        "label = 1 if pred>=3.0 else 0"
      ],
      "metadata": {
        "id": "x7COuYWHTNen"
      },
      "execution_count": 60,
      "outputs": []
    },
    {
      "cell_type": "code",
      "source": [
        "label"
      ],
      "metadata": {
        "id": "G_LWbWMZTNZk",
        "outputId": "ba1386ca-0b13-4da1-c690-271e0bfce0d6",
        "colab": {
          "base_uri": "https://localhost:8080/"
        }
      },
      "execution_count": 61,
      "outputs": [
        {
          "output_type": "execute_result",
          "data": {
            "text/plain": [
              "1"
            ]
          },
          "metadata": {},
          "execution_count": 61
        }
      ]
    },
    {
      "cell_type": "markdown",
      "source": [
        "# PREDICT"
      ],
      "metadata": {
        "id": "vqGlnjlQpwSW"
      }
    },
    {
      "cell_type": "code",
      "source": [
        "def predict(model, test_dataloader, mode, global_step=None):\n",
        "\n",
        "    \n",
        "    if global_step != None:\n",
        "        logger.info(\"***** Running test on {} dataset ({} step) *****\".format(mode, global_step))\n",
        "    else:\n",
        "        logger.info(\"***** Running test on {} dataset *****\".format(mode))\n",
        "    logger.info(\"  Num examples = {}\".format(len(test_dataset)))\n",
        "    logger.info(\"  Eval Batch size = {}\".format(eval_batch_size))\n",
        "    \n",
        "    # loss, steps, preds, labels\n",
        "    loss = 0.0\n",
        "    nb_test_steps = 0\n",
        "    preds = None\n",
        "    out_label_ids = None\n",
        "    \n",
        "    # Predict !\n",
        "    model.eval()\n",
        "    model.to(device)\n",
        "    for batch in progress_bar(dev_dataloader):\n",
        "        batch = tuple(item.to(device) for item in batch)\n",
        "\n",
        "        # no_grad\n",
        "        with torch.no_grad():\n",
        "            # inputs\n",
        "            inputs = {\n",
        "                \"input_ids\": batch[0],\n",
        "                \"attention_mask\": batch[1],\n",
        "                \"token_type_ids\": batch[2],\n",
        "                \"labels\": batch[3]\n",
        "            }\n",
        "\n",
        "            # outputs\n",
        "            outputs = model(**inputs)\n",
        "\n",
        "            # loss and logits\n",
        "            tmp_test_loss, logits = outputs[:2]\n",
        "            loss += tmp_test_loss.mean().item()\n",
        "        \n",
        "        nb_test_steps += 1\n",
        "\n",
        "        # preds and labels\n",
        "        if preds is None:\n",
        "            preds = logits.detach().cpu().numpy()\n",
        "            out_label_ids = inputs[\"labels\"].detach().cpu().numpy()\n",
        "        else:\n",
        "            preds = np.append(preds, logits.detach().cpu().numpy(), axis=0)\n",
        "            out_label_ids = np.append(out_label_ids, inputs[\"labels\"].detach().cpu().numpy(), axis=0)\n",
        "\n",
        "\n",
        "    ################################### RETURNS ###################################\n",
        "    \n",
        "    # average loss\n",
        "    loss = loss / nb_test_steps\n",
        "  \n",
        "\n",
        "    \"\"\" returns info\n",
        "    preds           :  predictions(float)\n",
        "    out_label_ids   :  labels(float)\n",
        "    loss            :  loss of prediction\n",
        "    \"\"\"\n",
        "    return preds, out_label_ids, loss"
      ],
      "metadata": {
        "id": "knmPKD9sVtwz"
      },
      "execution_count": 42,
      "outputs": []
    },
    {
      "cell_type": "code",
      "source": [
        "# Predict !\n",
        "preds, out_label_ids, loss = predict(model, dev_dataloader, 'test')"
      ],
      "metadata": {
        "colab": {
          "base_uri": "https://localhost:8080/",
          "height": 93
        },
        "id": "bIUEwa95V-IP",
        "outputId": "1d422780-e68b-4ed5-d090-e63e7cb4c65c"
      },
      "execution_count": 43,
      "outputs": [
        {
          "output_type": "stream",
          "name": "stderr",
          "text": [
            "06/02/2022 23:01:53 - INFO - __main__ -   ***** Running test on test dataset *****\n",
            "06/02/2022 23:01:53 - INFO - __main__ -     Num examples = 519\n",
            "06/02/2022 23:01:53 - INFO - __main__ -     Eval Batch size = 64\n"
          ]
        },
        {
          "output_type": "display_data",
          "data": {
            "text/plain": [
              "<IPython.core.display.HTML object>"
            ],
            "text/html": [
              "\n",
              "<style>\n",
              "    /* Turns off some styling */\n",
              "    progress {\n",
              "        /* gets rid of default border in Firefox and Opera. */\n",
              "        border: none;\n",
              "        /* Needs to be in here for Safari polyfill so background images work as expected. */\n",
              "        background-size: auto;\n",
              "    }\n",
              "    .progress-bar-interrupted, .progress-bar-interrupted::-webkit-progress-bar {\n",
              "        background: #F44336;\n",
              "    }\n",
              "</style>\n"
            ]
          },
          "metadata": {}
        },
        {
          "output_type": "display_data",
          "data": {
            "text/plain": [
              "<IPython.core.display.HTML object>"
            ],
            "text/html": [
              "\n",
              "    <div>\n",
              "      <progress value='9' class='' max='9' style='width:300px; height:20px; vertical-align: middle;'></progress>\n",
              "      100.00% [9/9 00:01<00:00]\n",
              "    </div>\n",
              "    "
            ]
          },
          "metadata": {}
        }
      ]
    },
    {
      "cell_type": "code",
      "source": [
        "pred_bi_label = [1 if i >= 3.0 else 0 for i in preds]"
      ],
      "metadata": {
        "id": "mOXcyR0uXil1"
      },
      "execution_count": 44,
      "outputs": []
    },
    {
      "cell_type": "code",
      "source": [
        "# Metrics\n",
        "from scipy.stats import pearsonr\n",
        "from sklearn import metrics as sklearn_metrics"
      ],
      "metadata": {
        "id": "EI7azXTKXOYJ"
      },
      "execution_count": 45,
      "outputs": []
    },
    {
      "cell_type": "code",
      "source": [
        "test_f1 = sklearn_metrics.f1_score(d_b_labels, pred_bi_label, average=\"macro\")\n",
        "test_pearson = pearsonr(d_labels, preds)[0][0]"
      ],
      "metadata": {
        "id": "f2ze233FWnP0"
      },
      "execution_count": 46,
      "outputs": []
    },
    {
      "cell_type": "code",
      "source": [
        "test_pearson"
      ],
      "metadata": {
        "colab": {
          "base_uri": "https://localhost:8080/"
        },
        "id": "bauMEq5tZtEI",
        "outputId": "60697825-ae50-4490-b94b-10fdd97fb15d"
      },
      "execution_count": 49,
      "outputs": [
        {
          "output_type": "execute_result",
          "data": {
            "text/plain": [
              "0.9227742330979258"
            ]
          },
          "metadata": {},
          "execution_count": 49
        }
      ]
    },
    {
      "cell_type": "code",
      "source": [
        "loss"
      ],
      "metadata": {
        "colab": {
          "base_uri": "https://localhost:8080/"
        },
        "id": "E00vx5rgXX07",
        "outputId": "e409a1e3-a8d3-479f-bd8e-d2b56dac6382"
      },
      "execution_count": 50,
      "outputs": [
        {
          "output_type": "execute_result",
          "data": {
            "text/plain": [
              "0.40840278731452095"
            ]
          },
          "metadata": {},
          "execution_count": 50
        }
      ]
    },
    {
      "cell_type": "code",
      "source": [
        "result = pd.DataFrame({'test_f1' :round( test_f1, 4),\n",
        "              'test_pearson' : round(test_pearson, 4),\n",
        "              'test_loss' : round(loss,4)},  index = ['value'])\n",
        "result"
      ],
      "metadata": {
        "colab": {
          "base_uri": "https://localhost:8080/",
          "height": 81
        },
        "id": "-4W6pOsHXZ1N",
        "outputId": "fe5b27de-97ee-4f9c-b0a0-2a6fa5f6b0cb"
      },
      "execution_count": 51,
      "outputs": [
        {
          "output_type": "execute_result",
          "data": {
            "text/plain": [
              "       test_f1  test_pearson  test_loss\n",
              "value   0.8646        0.9228     0.4084"
            ],
            "text/html": [
              "\n",
              "  <div id=\"df-9e672d12-7945-4b1b-988a-715e5c591efe\">\n",
              "    <div class=\"colab-df-container\">\n",
              "      <div>\n",
              "<style scoped>\n",
              "    .dataframe tbody tr th:only-of-type {\n",
              "        vertical-align: middle;\n",
              "    }\n",
              "\n",
              "    .dataframe tbody tr th {\n",
              "        vertical-align: top;\n",
              "    }\n",
              "\n",
              "    .dataframe thead th {\n",
              "        text-align: right;\n",
              "    }\n",
              "</style>\n",
              "<table border=\"1\" class=\"dataframe\">\n",
              "  <thead>\n",
              "    <tr style=\"text-align: right;\">\n",
              "      <th></th>\n",
              "      <th>test_f1</th>\n",
              "      <th>test_pearson</th>\n",
              "      <th>test_loss</th>\n",
              "    </tr>\n",
              "  </thead>\n",
              "  <tbody>\n",
              "    <tr>\n",
              "      <th>value</th>\n",
              "      <td>0.8646</td>\n",
              "      <td>0.9228</td>\n",
              "      <td>0.4084</td>\n",
              "    </tr>\n",
              "  </tbody>\n",
              "</table>\n",
              "</div>\n",
              "      <button class=\"colab-df-convert\" onclick=\"convertToInteractive('df-9e672d12-7945-4b1b-988a-715e5c591efe')\"\n",
              "              title=\"Convert this dataframe to an interactive table.\"\n",
              "              style=\"display:none;\">\n",
              "        \n",
              "  <svg xmlns=\"http://www.w3.org/2000/svg\" height=\"24px\"viewBox=\"0 0 24 24\"\n",
              "       width=\"24px\">\n",
              "    <path d=\"M0 0h24v24H0V0z\" fill=\"none\"/>\n",
              "    <path d=\"M18.56 5.44l.94 2.06.94-2.06 2.06-.94-2.06-.94-.94-2.06-.94 2.06-2.06.94zm-11 1L8.5 8.5l.94-2.06 2.06-.94-2.06-.94L8.5 2.5l-.94 2.06-2.06.94zm10 10l.94 2.06.94-2.06 2.06-.94-2.06-.94-.94-2.06-.94 2.06-2.06.94z\"/><path d=\"M17.41 7.96l-1.37-1.37c-.4-.4-.92-.59-1.43-.59-.52 0-1.04.2-1.43.59L10.3 9.45l-7.72 7.72c-.78.78-.78 2.05 0 2.83L4 21.41c.39.39.9.59 1.41.59.51 0 1.02-.2 1.41-.59l7.78-7.78 2.81-2.81c.8-.78.8-2.07 0-2.86zM5.41 20L4 18.59l7.72-7.72 1.47 1.35L5.41 20z\"/>\n",
              "  </svg>\n",
              "      </button>\n",
              "      \n",
              "  <style>\n",
              "    .colab-df-container {\n",
              "      display:flex;\n",
              "      flex-wrap:wrap;\n",
              "      gap: 12px;\n",
              "    }\n",
              "\n",
              "    .colab-df-convert {\n",
              "      background-color: #E8F0FE;\n",
              "      border: none;\n",
              "      border-radius: 50%;\n",
              "      cursor: pointer;\n",
              "      display: none;\n",
              "      fill: #1967D2;\n",
              "      height: 32px;\n",
              "      padding: 0 0 0 0;\n",
              "      width: 32px;\n",
              "    }\n",
              "\n",
              "    .colab-df-convert:hover {\n",
              "      background-color: #E2EBFA;\n",
              "      box-shadow: 0px 1px 2px rgba(60, 64, 67, 0.3), 0px 1px 3px 1px rgba(60, 64, 67, 0.15);\n",
              "      fill: #174EA6;\n",
              "    }\n",
              "\n",
              "    [theme=dark] .colab-df-convert {\n",
              "      background-color: #3B4455;\n",
              "      fill: #D2E3FC;\n",
              "    }\n",
              "\n",
              "    [theme=dark] .colab-df-convert:hover {\n",
              "      background-color: #434B5C;\n",
              "      box-shadow: 0px 1px 3px 1px rgba(0, 0, 0, 0.15);\n",
              "      filter: drop-shadow(0px 1px 2px rgba(0, 0, 0, 0.3));\n",
              "      fill: #FFFFFF;\n",
              "    }\n",
              "  </style>\n",
              "\n",
              "      <script>\n",
              "        const buttonEl =\n",
              "          document.querySelector('#df-9e672d12-7945-4b1b-988a-715e5c591efe button.colab-df-convert');\n",
              "        buttonEl.style.display =\n",
              "          google.colab.kernel.accessAllowed ? 'block' : 'none';\n",
              "\n",
              "        async function convertToInteractive(key) {\n",
              "          const element = document.querySelector('#df-9e672d12-7945-4b1b-988a-715e5c591efe');\n",
              "          const dataTable =\n",
              "            await google.colab.kernel.invokeFunction('convertToInteractive',\n",
              "                                                     [key], {});\n",
              "          if (!dataTable) return;\n",
              "\n",
              "          const docLinkHtml = 'Like what you see? Visit the ' +\n",
              "            '<a target=\"_blank\" href=https://colab.research.google.com/notebooks/data_table.ipynb>data table notebook</a>'\n",
              "            + ' to learn more about interactive tables.';\n",
              "          element.innerHTML = '';\n",
              "          dataTable['output_type'] = 'display_data';\n",
              "          await google.colab.output.renderOutput(dataTable, element);\n",
              "          const docLink = document.createElement('div');\n",
              "          docLink.innerHTML = docLinkHtml;\n",
              "          element.appendChild(docLink);\n",
              "        }\n",
              "      </script>\n",
              "    </div>\n",
              "  </div>\n",
              "  "
            ]
          },
          "metadata": {},
          "execution_count": 51
        }
      ]
    },
    {
      "cell_type": "code",
      "source": [
        "# score\n",
        "pred_real_label = [pred[0] for pred in preds]\n",
        "pred_bi_label = [1 if i >= 3 else 0 for i in preds]\n",
        "\n",
        "\n",
        "dev_set_score = pd.DataFrame({'guid' : test['guid'],\n",
        "                              'true_real_label' : d_labels,\n",
        "                              'true_binary_label' : d_b_labels,\n",
        "                              'pred_real_label' : pred_real_label,\n",
        "                              'predict_binary_label' : pred_bi_label })\n",
        "dev_set_score.head(3)"
      ],
      "metadata": {
        "colab": {
          "base_uri": "https://localhost:8080/",
          "height": 143
        },
        "id": "BEM-EYWdXg14",
        "outputId": "75533e1c-c2c8-4ae3-c23c-7f1409483e02"
      },
      "execution_count": 52,
      "outputs": [
        {
          "output_type": "execute_result",
          "data": {
            "text/plain": [
              "                    guid  true_real_label  true_binary_label  pred_real_label  \\\n",
              "0  klue-sts-v1_dev_00000         4.857143                  1         4.787827   \n",
              "1  klue-sts-v1_dev_00001         1.428571                  0         2.558744   \n",
              "2  klue-sts-v1_dev_00002         1.285714                  0         1.148829   \n",
              "\n",
              "   predict_binary_label  \n",
              "0                     1  \n",
              "1                     0  \n",
              "2                     0  "
            ],
            "text/html": [
              "\n",
              "  <div id=\"df-ebde2b8f-f9d2-4384-9a15-1548008499bc\">\n",
              "    <div class=\"colab-df-container\">\n",
              "      <div>\n",
              "<style scoped>\n",
              "    .dataframe tbody tr th:only-of-type {\n",
              "        vertical-align: middle;\n",
              "    }\n",
              "\n",
              "    .dataframe tbody tr th {\n",
              "        vertical-align: top;\n",
              "    }\n",
              "\n",
              "    .dataframe thead th {\n",
              "        text-align: right;\n",
              "    }\n",
              "</style>\n",
              "<table border=\"1\" class=\"dataframe\">\n",
              "  <thead>\n",
              "    <tr style=\"text-align: right;\">\n",
              "      <th></th>\n",
              "      <th>guid</th>\n",
              "      <th>true_real_label</th>\n",
              "      <th>true_binary_label</th>\n",
              "      <th>pred_real_label</th>\n",
              "      <th>predict_binary_label</th>\n",
              "    </tr>\n",
              "  </thead>\n",
              "  <tbody>\n",
              "    <tr>\n",
              "      <th>0</th>\n",
              "      <td>klue-sts-v1_dev_00000</td>\n",
              "      <td>4.857143</td>\n",
              "      <td>1</td>\n",
              "      <td>4.787827</td>\n",
              "      <td>1</td>\n",
              "    </tr>\n",
              "    <tr>\n",
              "      <th>1</th>\n",
              "      <td>klue-sts-v1_dev_00001</td>\n",
              "      <td>1.428571</td>\n",
              "      <td>0</td>\n",
              "      <td>2.558744</td>\n",
              "      <td>0</td>\n",
              "    </tr>\n",
              "    <tr>\n",
              "      <th>2</th>\n",
              "      <td>klue-sts-v1_dev_00002</td>\n",
              "      <td>1.285714</td>\n",
              "      <td>0</td>\n",
              "      <td>1.148829</td>\n",
              "      <td>0</td>\n",
              "    </tr>\n",
              "  </tbody>\n",
              "</table>\n",
              "</div>\n",
              "      <button class=\"colab-df-convert\" onclick=\"convertToInteractive('df-ebde2b8f-f9d2-4384-9a15-1548008499bc')\"\n",
              "              title=\"Convert this dataframe to an interactive table.\"\n",
              "              style=\"display:none;\">\n",
              "        \n",
              "  <svg xmlns=\"http://www.w3.org/2000/svg\" height=\"24px\"viewBox=\"0 0 24 24\"\n",
              "       width=\"24px\">\n",
              "    <path d=\"M0 0h24v24H0V0z\" fill=\"none\"/>\n",
              "    <path d=\"M18.56 5.44l.94 2.06.94-2.06 2.06-.94-2.06-.94-.94-2.06-.94 2.06-2.06.94zm-11 1L8.5 8.5l.94-2.06 2.06-.94-2.06-.94L8.5 2.5l-.94 2.06-2.06.94zm10 10l.94 2.06.94-2.06 2.06-.94-2.06-.94-.94-2.06-.94 2.06-2.06.94z\"/><path d=\"M17.41 7.96l-1.37-1.37c-.4-.4-.92-.59-1.43-.59-.52 0-1.04.2-1.43.59L10.3 9.45l-7.72 7.72c-.78.78-.78 2.05 0 2.83L4 21.41c.39.39.9.59 1.41.59.51 0 1.02-.2 1.41-.59l7.78-7.78 2.81-2.81c.8-.78.8-2.07 0-2.86zM5.41 20L4 18.59l7.72-7.72 1.47 1.35L5.41 20z\"/>\n",
              "  </svg>\n",
              "      </button>\n",
              "      \n",
              "  <style>\n",
              "    .colab-df-container {\n",
              "      display:flex;\n",
              "      flex-wrap:wrap;\n",
              "      gap: 12px;\n",
              "    }\n",
              "\n",
              "    .colab-df-convert {\n",
              "      background-color: #E8F0FE;\n",
              "      border: none;\n",
              "      border-radius: 50%;\n",
              "      cursor: pointer;\n",
              "      display: none;\n",
              "      fill: #1967D2;\n",
              "      height: 32px;\n",
              "      padding: 0 0 0 0;\n",
              "      width: 32px;\n",
              "    }\n",
              "\n",
              "    .colab-df-convert:hover {\n",
              "      background-color: #E2EBFA;\n",
              "      box-shadow: 0px 1px 2px rgba(60, 64, 67, 0.3), 0px 1px 3px 1px rgba(60, 64, 67, 0.15);\n",
              "      fill: #174EA6;\n",
              "    }\n",
              "\n",
              "    [theme=dark] .colab-df-convert {\n",
              "      background-color: #3B4455;\n",
              "      fill: #D2E3FC;\n",
              "    }\n",
              "\n",
              "    [theme=dark] .colab-df-convert:hover {\n",
              "      background-color: #434B5C;\n",
              "      box-shadow: 0px 1px 3px 1px rgba(0, 0, 0, 0.15);\n",
              "      filter: drop-shadow(0px 1px 2px rgba(0, 0, 0, 0.3));\n",
              "      fill: #FFFFFF;\n",
              "    }\n",
              "  </style>\n",
              "\n",
              "      <script>\n",
              "        const buttonEl =\n",
              "          document.querySelector('#df-ebde2b8f-f9d2-4384-9a15-1548008499bc button.colab-df-convert');\n",
              "        buttonEl.style.display =\n",
              "          google.colab.kernel.accessAllowed ? 'block' : 'none';\n",
              "\n",
              "        async function convertToInteractive(key) {\n",
              "          const element = document.querySelector('#df-ebde2b8f-f9d2-4384-9a15-1548008499bc');\n",
              "          const dataTable =\n",
              "            await google.colab.kernel.invokeFunction('convertToInteractive',\n",
              "                                                     [key], {});\n",
              "          if (!dataTable) return;\n",
              "\n",
              "          const docLinkHtml = 'Like what you see? Visit the ' +\n",
              "            '<a target=\"_blank\" href=https://colab.research.google.com/notebooks/data_table.ipynb>data table notebook</a>'\n",
              "            + ' to learn more about interactive tables.';\n",
              "          element.innerHTML = '';\n",
              "          dataTable['output_type'] = 'display_data';\n",
              "          await google.colab.output.renderOutput(dataTable, element);\n",
              "          const docLink = document.createElement('div');\n",
              "          docLink.innerHTML = docLinkHtml;\n",
              "          element.appendChild(docLink);\n",
              "        }\n",
              "      </script>\n",
              "    </div>\n",
              "  </div>\n",
              "  "
            ]
          },
          "metadata": {},
          "execution_count": 52
        }
      ]
    },
    {
      "cell_type": "code",
      "source": [
        "fname = 'koelectra_mine_dev_set_score.csv'\n",
        "dev_set_score.to_csv(fname)"
      ],
      "metadata": {
        "id": "Mx0537bnaVRM"
      },
      "execution_count": 53,
      "outputs": []
    },
    {
      "cell_type": "code",
      "source": [
        ""
      ],
      "metadata": {
        "id": "_SKCvXIfPaxR"
      },
      "execution_count": null,
      "outputs": []
    }
  ]
}